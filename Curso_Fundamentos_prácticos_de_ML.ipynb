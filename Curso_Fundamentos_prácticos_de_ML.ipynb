{
 "cells": [
  {
   "cell_type": "markdown",
   "source": "# Machine Learning",
   "metadata": {
    "cell_id": "07eee09b-44ef-4edc-9be6-fc1424fafdb4",
    "tags": [],
    "is_collapsed": false,
    "deepnote_cell_height": 80.671875,
    "deepnote_cell_type": "text-cell-h1"
   }
  },
  {
   "cell_type": "markdown",
   "source": "![](https://4.bp.blogspot.com/-sQWkLjl5iu8/W_MSxYEFLLI/AAAAAAAAAHI/seH47Wu8I7gK9xCOZy4F2Co640dch8TCgCEwYBhgL/s1600/infografi%25CC%2581a%2Bmachine%2Blearning.jpg)",
   "metadata": {
    "id": "zOcm87zlfDDM",
    "cell_id": "c15b728f-e400-4e70-b4ae-be2cc63810bd",
    "deepnote_cell_height": 768.59375,
    "deepnote_cell_type": "markdown"
   }
  },
  {
   "cell_type": "markdown",
   "source": "# Numpy",
   "metadata": {
    "id": "1Xya-bbQagWL",
    "cell_id": "00001-b5749023-71f1-4f23-ab90-33363335b8ac",
    "deepnote_cell_height": 81,
    "deepnote_cell_type": "markdown"
   }
  },
  {
   "cell_type": "code",
   "metadata": {
    "colab": {
     "base_uri": "https://localhost:8080/"
    },
    "id": "db9Oh72UaUp7",
    "outputId": "d419bb5b-3cad-460a-b26f-521ed092c842",
    "cell_id": "00002-a1b61d88-a60f-4507-85f0-7f60d372c5a8",
    "deepnote_cell_height": 295.203125,
    "deepnote_cell_type": "code"
   },
   "source": "import numpy as np\ncabeceras = [('Name', 'S10'), ('Age', int), ('Country', 'S10')]\ndatos = [('Juan', 10, 'Colombia'), ('Maria', 70, 'Argentina'), ('Javier', 42, 'Ecuador'), ('Samuel', 15, 'Argelia')]\nusuarios = np.array(datos, dtype = cabeceras)\nprint(np.sort(usuarios, order = 'Country'))\nprint(\"-\"*15)\nprint(np.sort(usuarios, order = 'Age'))",
   "execution_count": null,
   "outputs": [
    {
     "output_type": "stream",
     "name": "stdout",
     "text": "[(b'Samuel', 15, b'Argelia') (b'Maria', 70, b'Argentina')\n (b'Juan', 10, b'Colombia') (b'Javier', 42, b'Ecuador')]\n---------------\n[(b'Juan', 10, b'Colombia') (b'Samuel', 15, b'Argelia')\n (b'Javier', 42, b'Ecuador') (b'Maria', 70, b'Argentina')]\n"
    }
   ]
  },
  {
   "cell_type": "code",
   "metadata": {
    "id": "WOMYUGadasT7",
    "cell_id": "00003-8a47508d-3c73-4133-8287-61cd589efd66",
    "deepnote_cell_height": 65.6875,
    "deepnote_cell_type": "code"
   },
   "source": "import pandas as pd",
   "execution_count": null,
   "outputs": []
  },
  {
   "cell_type": "code",
   "metadata": {
    "colab": {
     "base_uri": "https://localhost:8080/"
    },
    "id": "_oaIhXzwb8b5",
    "outputId": "047cbcc7-bda1-402a-b43c-486aea2ad8a7",
    "cell_id": "00004-b10ac6dc-cfce-40e9-ad9e-f1ee70c22da0",
    "deepnote_output_heights": [
     116.765625
    ],
    "deepnote_cell_height": 231.3125,
    "deepnote_cell_type": "code"
   },
   "source": "series = pd.Series([5,10,15,20,25])\nseries",
   "execution_count": null,
   "outputs": [
    {
     "output_type": "execute_result",
     "data": {
      "text/plain": "0     5\n1    10\n2    15\n3    20\n4    25\ndtype: int64"
     },
     "metadata": {},
     "execution_count": 10
    }
   ]
  },
  {
   "cell_type": "code",
   "metadata": {
    "colab": {
     "base_uri": "https://localhost:8080/"
    },
    "id": "zAyTjlRecEOj",
    "outputId": "52f271a0-8b30-4703-d8dd-d19e6a344f3d",
    "cell_id": "00005-bb76760d-b06d-4822-8fb5-00bc36f80aa9",
    "deepnote_output_heights": [
     21.109375
    ],
    "deepnote_cell_height": 117.65625,
    "deepnote_cell_type": "code"
   },
   "source": "series[3]",
   "execution_count": null,
   "outputs": [
    {
     "output_type": "execute_result",
     "data": {
      "text/plain": "20"
     },
     "metadata": {},
     "execution_count": 11
    }
   ]
  },
  {
   "cell_type": "code",
   "metadata": {
    "colab": {
     "base_uri": "https://localhost:8080/"
    },
    "id": "-gL-yYWCcH7y",
    "outputId": "5f27331c-fa91-4f43-e24d-3edf80bbdc58",
    "cell_id": "00006-362d6967-92c4-4f4a-ab74-6c591d79336d",
    "deepnote_output_heights": [
     116.765625
    ],
    "deepnote_cell_height": 231.3125,
    "deepnote_cell_type": "code"
   },
   "source": "cad = pd.Series(['p','l', 'a', 'y', 'a'])\ncad",
   "execution_count": null,
   "outputs": [
    {
     "output_type": "execute_result",
     "data": {
      "text/plain": "0    p\n1    l\n2    a\n3    y\n4    a\ndtype: object"
     },
     "metadata": {},
     "execution_count": 12
    }
   ]
  },
  {
   "cell_type": "code",
   "metadata": {
    "colab": {
     "base_uri": "https://localhost:8080/",
     "height": 143
    },
    "id": "D-up_B_8cSaV",
    "outputId": "07b1f772-0e43-4c7c-d3bf-c1f66771884f",
    "cell_id": "00007-2c3820ed-8797-4d4d-b1c8-d9e9ee82cd5b",
    "deepnote_output_heights": [
     115.890625
    ],
    "deepnote_cell_height": 248.4375,
    "deepnote_cell_type": "code"
   },
   "source": "lst = ['Hola', 'Mundo', 'robótico']\ndf = pd.DataFrame(lst)\ndf",
   "execution_count": null,
   "outputs": [
    {
     "output_type": "execute_result",
     "data": {
      "text/html": "\n  <div id=\"df-e5510d75-9161-48a0-b8d5-fea779105696\">\n    <div class=\"colab-df-container\">\n      <div>\n<style scoped>\n    .dataframe tbody tr th:only-of-type {\n        vertical-align: middle;\n    }\n\n    .dataframe tbody tr th {\n        vertical-align: top;\n    }\n\n    .dataframe thead th {\n        text-align: right;\n    }\n</style>\n<table border=\"1\" class=\"dataframe\">\n  <thead>\n    <tr style=\"text-align: right;\">\n      <th></th>\n      <th>0</th>\n    </tr>\n  </thead>\n  <tbody>\n    <tr>\n      <th>0</th>\n      <td>Hola</td>\n    </tr>\n    <tr>\n      <th>1</th>\n      <td>Mundo</td>\n    </tr>\n    <tr>\n      <th>2</th>\n      <td>robótico</td>\n    </tr>\n  </tbody>\n</table>\n</div>\n      <button class=\"colab-df-convert\" onclick=\"convertToInteractive('df-e5510d75-9161-48a0-b8d5-fea779105696')\"\n              title=\"Convert this dataframe to an interactive table.\"\n              style=\"display:none;\">\n        \n  <svg xmlns=\"http://www.w3.org/2000/svg\" height=\"24px\"viewBox=\"0 0 24 24\"\n       width=\"24px\">\n    <path d=\"M0 0h24v24H0V0z\" fill=\"none\"/>\n    <path d=\"M18.56 5.44l.94 2.06.94-2.06 2.06-.94-2.06-.94-.94-2.06-.94 2.06-2.06.94zm-11 1L8.5 8.5l.94-2.06 2.06-.94-2.06-.94L8.5 2.5l-.94 2.06-2.06.94zm10 10l.94 2.06.94-2.06 2.06-.94-2.06-.94-.94-2.06-.94 2.06-2.06.94z\"/><path d=\"M17.41 7.96l-1.37-1.37c-.4-.4-.92-.59-1.43-.59-.52 0-1.04.2-1.43.59L10.3 9.45l-7.72 7.72c-.78.78-.78 2.05 0 2.83L4 21.41c.39.39.9.59 1.41.59.51 0 1.02-.2 1.41-.59l7.78-7.78 2.81-2.81c.8-.78.8-2.07 0-2.86zM5.41 20L4 18.59l7.72-7.72 1.47 1.35L5.41 20z\"/>\n  </svg>\n      </button>\n      \n  <style>\n    .colab-df-container {\n      display:flex;\n      flex-wrap:wrap;\n      gap: 12px;\n    }\n\n    .colab-df-convert {\n      background-color: #E8F0FE;\n      border: none;\n      border-radius: 50%;\n      cursor: pointer;\n      display: none;\n      fill: #1967D2;\n      height: 32px;\n      padding: 0 0 0 0;\n      width: 32px;\n    }\n\n    .colab-df-convert:hover {\n      background-color: #E2EBFA;\n      box-shadow: 0px 1px 2px rgba(60, 64, 67, 0.3), 0px 1px 3px 1px rgba(60, 64, 67, 0.15);\n      fill: #174EA6;\n    }\n\n    [theme=dark] .colab-df-convert {\n      background-color: #3B4455;\n      fill: #D2E3FC;\n    }\n\n    [theme=dark] .colab-df-convert:hover {\n      background-color: #434B5C;\n      box-shadow: 0px 1px 3px 1px rgba(0, 0, 0, 0.15);\n      filter: drop-shadow(0px 1px 2px rgba(0, 0, 0, 0.3));\n      fill: #FFFFFF;\n    }\n  </style>\n\n      <script>\n        const buttonEl =\n          document.querySelector('#df-e5510d75-9161-48a0-b8d5-fea779105696 button.colab-df-convert');\n        buttonEl.style.display =\n          google.colab.kernel.accessAllowed ? 'block' : 'none';\n\n        async function convertToInteractive(key) {\n          const element = document.querySelector('#df-e5510d75-9161-48a0-b8d5-fea779105696');\n          const dataTable =\n            await google.colab.kernel.invokeFunction('convertToInteractive',\n                                                     [key], {});\n          if (!dataTable) return;\n\n          const docLinkHtml = 'Like what you see? Visit the ' +\n            '<a target=\"_blank\" href=https://colab.research.google.com/notebooks/data_table.ipynb>data table notebook</a>'\n            + ' to learn more about interactive tables.';\n          element.innerHTML = '';\n          dataTable['output_type'] = 'display_data';\n          await google.colab.output.renderOutput(dataTable, element);\n          const docLink = document.createElement('div');\n          docLink.innerHTML = docLinkHtml;\n          element.appendChild(docLink);\n        }\n      </script>\n    </div>\n  </div>\n  ",
      "text/plain": "          0\n0      Hola\n1     Mundo\n2  robótico"
     },
     "metadata": {},
     "execution_count": 13
    }
   ]
  },
  {
   "cell_type": "code",
   "metadata": {
    "colab": {
     "base_uri": "https://localhost:8080/",
     "height": 175
    },
    "id": "o7ruTm40ck74",
    "outputId": "bc9d889f-f6d5-48a3-e25d-9f2b96f08013",
    "cell_id": "00008-1c4b0593-a59c-4729-9e05-c1d0dfb273c1",
    "deepnote_output_heights": [
     144.15625
    ],
    "deepnote_cell_height": 330.703125,
    "deepnote_cell_type": "code"
   },
   "source": "data = {'Nombre' : ['Juan', 'Ana', 'Jose', 'Arturo'],\n        'Edad': [25,18,23,27],\n        'Pais': ['Argelia', 'Italia', 'Brasil', 'Italia']}\n\ndf = pd.DataFrame(data)\ndf",
   "execution_count": null,
   "outputs": [
    {
     "output_type": "execute_result",
     "data": {
      "text/html": "\n  <div id=\"df-db647b45-985a-4cdc-bfe6-550ddba43d8e\">\n    <div class=\"colab-df-container\">\n      <div>\n<style scoped>\n    .dataframe tbody tr th:only-of-type {\n        vertical-align: middle;\n    }\n\n    .dataframe tbody tr th {\n        vertical-align: top;\n    }\n\n    .dataframe thead th {\n        text-align: right;\n    }\n</style>\n<table border=\"1\" class=\"dataframe\">\n  <thead>\n    <tr style=\"text-align: right;\">\n      <th></th>\n      <th>Nombre</th>\n      <th>Edad</th>\n      <th>Pais</th>\n    </tr>\n  </thead>\n  <tbody>\n    <tr>\n      <th>0</th>\n      <td>Juan</td>\n      <td>25</td>\n      <td>Argelia</td>\n    </tr>\n    <tr>\n      <th>1</th>\n      <td>Ana</td>\n      <td>18</td>\n      <td>Italia</td>\n    </tr>\n    <tr>\n      <th>2</th>\n      <td>Jose</td>\n      <td>23</td>\n      <td>Brasil</td>\n    </tr>\n    <tr>\n      <th>3</th>\n      <td>Arturo</td>\n      <td>27</td>\n      <td>Italia</td>\n    </tr>\n  </tbody>\n</table>\n</div>\n      <button class=\"colab-df-convert\" onclick=\"convertToInteractive('df-db647b45-985a-4cdc-bfe6-550ddba43d8e')\"\n              title=\"Convert this dataframe to an interactive table.\"\n              style=\"display:none;\">\n        \n  <svg xmlns=\"http://www.w3.org/2000/svg\" height=\"24px\"viewBox=\"0 0 24 24\"\n       width=\"24px\">\n    <path d=\"M0 0h24v24H0V0z\" fill=\"none\"/>\n    <path d=\"M18.56 5.44l.94 2.06.94-2.06 2.06-.94-2.06-.94-.94-2.06-.94 2.06-2.06.94zm-11 1L8.5 8.5l.94-2.06 2.06-.94-2.06-.94L8.5 2.5l-.94 2.06-2.06.94zm10 10l.94 2.06.94-2.06 2.06-.94-2.06-.94-.94-2.06-.94 2.06-2.06.94z\"/><path d=\"M17.41 7.96l-1.37-1.37c-.4-.4-.92-.59-1.43-.59-.52 0-1.04.2-1.43.59L10.3 9.45l-7.72 7.72c-.78.78-.78 2.05 0 2.83L4 21.41c.39.39.9.59 1.41.59.51 0 1.02-.2 1.41-.59l7.78-7.78 2.81-2.81c.8-.78.8-2.07 0-2.86zM5.41 20L4 18.59l7.72-7.72 1.47 1.35L5.41 20z\"/>\n  </svg>\n      </button>\n      \n  <style>\n    .colab-df-container {\n      display:flex;\n      flex-wrap:wrap;\n      gap: 12px;\n    }\n\n    .colab-df-convert {\n      background-color: #E8F0FE;\n      border: none;\n      border-radius: 50%;\n      cursor: pointer;\n      display: none;\n      fill: #1967D2;\n      height: 32px;\n      padding: 0 0 0 0;\n      width: 32px;\n    }\n\n    .colab-df-convert:hover {\n      background-color: #E2EBFA;\n      box-shadow: 0px 1px 2px rgba(60, 64, 67, 0.3), 0px 1px 3px 1px rgba(60, 64, 67, 0.15);\n      fill: #174EA6;\n    }\n\n    [theme=dark] .colab-df-convert {\n      background-color: #3B4455;\n      fill: #D2E3FC;\n    }\n\n    [theme=dark] .colab-df-convert:hover {\n      background-color: #434B5C;\n      box-shadow: 0px 1px 3px 1px rgba(0, 0, 0, 0.15);\n      filter: drop-shadow(0px 1px 2px rgba(0, 0, 0, 0.3));\n      fill: #FFFFFF;\n    }\n  </style>\n\n      <script>\n        const buttonEl =\n          document.querySelector('#df-db647b45-985a-4cdc-bfe6-550ddba43d8e button.colab-df-convert');\n        buttonEl.style.display =\n          google.colab.kernel.accessAllowed ? 'block' : 'none';\n\n        async function convertToInteractive(key) {\n          const element = document.querySelector('#df-db647b45-985a-4cdc-bfe6-550ddba43d8e');\n          const dataTable =\n            await google.colab.kernel.invokeFunction('convertToInteractive',\n                                                     [key], {});\n          if (!dataTable) return;\n\n          const docLinkHtml = 'Like what you see? Visit the ' +\n            '<a target=\"_blank\" href=https://colab.research.google.com/notebooks/data_table.ipynb>data table notebook</a>'\n            + ' to learn more about interactive tables.';\n          element.innerHTML = '';\n          dataTable['output_type'] = 'display_data';\n          await google.colab.output.renderOutput(dataTable, element);\n          const docLink = document.createElement('div');\n          docLink.innerHTML = docLinkHtml;\n          element.appendChild(docLink);\n        }\n      </script>\n    </div>\n  </div>\n  ",
      "text/plain": "   Nombre  Edad     Pais\n0    Juan    25  Argelia\n1     Ana    18   Italia\n2    Jose    23   Brasil\n3  Arturo    27   Italia"
     },
     "metadata": {},
     "execution_count": 15
    }
   ]
  },
  {
   "cell_type": "code",
   "metadata": {
    "colab": {
     "base_uri": "https://localhost:8080/"
    },
    "id": "vyCSMgp9dIGR",
    "outputId": "93f725ff-5f8c-4a65-bae3-7ce8be414b2e",
    "cell_id": "00009-2d5c5f27-2895-448e-9145-a2760ebf9078",
    "deepnote_cell_height": 187.1875,
    "deepnote_cell_type": "code"
   },
   "source": "print(df[['Nombre', 'Pais']])",
   "execution_count": null,
   "outputs": [
    {
     "output_type": "stream",
     "name": "stdout",
     "text": "   Nombre     Pais\n0    Juan  Argelia\n1     Ana   Italia\n2    Jose   Brasil\n3  Arturo   Italia\n"
    }
   ]
  },
  {
   "cell_type": "code",
   "metadata": {
    "colab": {
     "base_uri": "https://localhost:8080/",
     "height": 392
    },
    "id": "br8BpyV7dVtj",
    "outputId": "f2df4065-8885-4037-97b2-de9976f895ee",
    "cell_id": "00010-9a5e263b-dfa3-444e-a9ed-097f16844938",
    "deepnote_output_heights": [
     172.421875
    ],
    "deepnote_cell_height": 286.96875,
    "deepnote_cell_type": "code"
   },
   "source": "data = pd.read_csv(\"canciones-2018.csv\")\ndata.head()",
   "execution_count": null,
   "outputs": [
    {
     "output_type": "execute_result",
     "data": {
      "text/html": "\n  <div id=\"df-78b762f8-153d-4c92-86aa-4b49ab54bcd5\">\n    <div class=\"colab-df-container\">\n      <div>\n<style scoped>\n    .dataframe tbody tr th:only-of-type {\n        vertical-align: middle;\n    }\n\n    .dataframe tbody tr th {\n        vertical-align: top;\n    }\n\n    .dataframe thead th {\n        text-align: right;\n    }\n</style>\n<table border=\"1\" class=\"dataframe\">\n  <thead>\n    <tr style=\"text-align: right;\">\n      <th></th>\n      <th>id</th>\n      <th>name</th>\n      <th>artists</th>\n      <th>danceability</th>\n      <th>energy</th>\n      <th>key</th>\n      <th>loudness</th>\n      <th>mode</th>\n      <th>speechiness</th>\n      <th>acousticness</th>\n      <th>instrumentalness</th>\n      <th>liveness</th>\n      <th>valence</th>\n      <th>tempo</th>\n      <th>duration_ms</th>\n      <th>time_signature</th>\n    </tr>\n  </thead>\n  <tbody>\n    <tr>\n      <th>0</th>\n      <td>6DCZcSspjsKoFjzjrWoCd</td>\n      <td>God's Plan</td>\n      <td>Drake</td>\n      <td>0.754</td>\n      <td>0.449</td>\n      <td>7.0</td>\n      <td>-9.211</td>\n      <td>1.0</td>\n      <td>0.1090</td>\n      <td>0.0332</td>\n      <td>0.000083</td>\n      <td>0.552</td>\n      <td>0.357</td>\n      <td>77.169</td>\n      <td>198973.0</td>\n      <td>4.0</td>\n    </tr>\n    <tr>\n      <th>1</th>\n      <td>3ee8Jmje8o58CHK66QrVC</td>\n      <td>SAD!</td>\n      <td>XXXTENTACION</td>\n      <td>0.740</td>\n      <td>0.613</td>\n      <td>8.0</td>\n      <td>-4.880</td>\n      <td>1.0</td>\n      <td>0.1450</td>\n      <td>0.2580</td>\n      <td>0.003720</td>\n      <td>0.123</td>\n      <td>0.473</td>\n      <td>75.023</td>\n      <td>166606.0</td>\n      <td>4.0</td>\n    </tr>\n    <tr>\n      <th>2</th>\n      <td>0e7ipj03S05BNilyu5bRz</td>\n      <td>rockstar (feat. 21 Savage)</td>\n      <td>Post Malone</td>\n      <td>0.587</td>\n      <td>0.535</td>\n      <td>5.0</td>\n      <td>-6.090</td>\n      <td>0.0</td>\n      <td>0.0898</td>\n      <td>0.1170</td>\n      <td>0.000066</td>\n      <td>0.131</td>\n      <td>0.140</td>\n      <td>159.847</td>\n      <td>218147.0</td>\n      <td>4.0</td>\n    </tr>\n    <tr>\n      <th>3</th>\n      <td>3swc6WTsr7rl9DqQKQA55</td>\n      <td>Psycho (feat. Ty Dolla $ign)</td>\n      <td>Post Malone</td>\n      <td>0.739</td>\n      <td>0.559</td>\n      <td>8.0</td>\n      <td>-8.011</td>\n      <td>1.0</td>\n      <td>0.1170</td>\n      <td>0.5800</td>\n      <td>0.000000</td>\n      <td>0.112</td>\n      <td>0.439</td>\n      <td>140.124</td>\n      <td>221440.0</td>\n      <td>4.0</td>\n    </tr>\n    <tr>\n      <th>4</th>\n      <td>2G7V7zsVDxg1yRsu7Ew9R</td>\n      <td>In My Feelings</td>\n      <td>Drake</td>\n      <td>0.835</td>\n      <td>0.626</td>\n      <td>1.0</td>\n      <td>-5.833</td>\n      <td>1.0</td>\n      <td>0.1250</td>\n      <td>0.0589</td>\n      <td>0.000060</td>\n      <td>0.396</td>\n      <td>0.350</td>\n      <td>91.030</td>\n      <td>217925.0</td>\n      <td>4.0</td>\n    </tr>\n  </tbody>\n</table>\n</div>\n      <button class=\"colab-df-convert\" onclick=\"convertToInteractive('df-78b762f8-153d-4c92-86aa-4b49ab54bcd5')\"\n              title=\"Convert this dataframe to an interactive table.\"\n              style=\"display:none;\">\n        \n  <svg xmlns=\"http://www.w3.org/2000/svg\" height=\"24px\"viewBox=\"0 0 24 24\"\n       width=\"24px\">\n    <path d=\"M0 0h24v24H0V0z\" fill=\"none\"/>\n    <path d=\"M18.56 5.44l.94 2.06.94-2.06 2.06-.94-2.06-.94-.94-2.06-.94 2.06-2.06.94zm-11 1L8.5 8.5l.94-2.06 2.06-.94-2.06-.94L8.5 2.5l-.94 2.06-2.06.94zm10 10l.94 2.06.94-2.06 2.06-.94-2.06-.94-.94-2.06-.94 2.06-2.06.94z\"/><path d=\"M17.41 7.96l-1.37-1.37c-.4-.4-.92-.59-1.43-.59-.52 0-1.04.2-1.43.59L10.3 9.45l-7.72 7.72c-.78.78-.78 2.05 0 2.83L4 21.41c.39.39.9.59 1.41.59.51 0 1.02-.2 1.41-.59l7.78-7.78 2.81-2.81c.8-.78.8-2.07 0-2.86zM5.41 20L4 18.59l7.72-7.72 1.47 1.35L5.41 20z\"/>\n  </svg>\n      </button>\n      \n  <style>\n    .colab-df-container {\n      display:flex;\n      flex-wrap:wrap;\n      gap: 12px;\n    }\n\n    .colab-df-convert {\n      background-color: #E8F0FE;\n      border: none;\n      border-radius: 50%;\n      cursor: pointer;\n      display: none;\n      fill: #1967D2;\n      height: 32px;\n      padding: 0 0 0 0;\n      width: 32px;\n    }\n\n    .colab-df-convert:hover {\n      background-color: #E2EBFA;\n      box-shadow: 0px 1px 2px rgba(60, 64, 67, 0.3), 0px 1px 3px 1px rgba(60, 64, 67, 0.15);\n      fill: #174EA6;\n    }\n\n    [theme=dark] .colab-df-convert {\n      background-color: #3B4455;\n      fill: #D2E3FC;\n    }\n\n    [theme=dark] .colab-df-convert:hover {\n      background-color: #434B5C;\n      box-shadow: 0px 1px 3px 1px rgba(0, 0, 0, 0.15);\n      filter: drop-shadow(0px 1px 2px rgba(0, 0, 0, 0.3));\n      fill: #FFFFFF;\n    }\n  </style>\n\n      <script>\n        const buttonEl =\n          document.querySelector('#df-78b762f8-153d-4c92-86aa-4b49ab54bcd5 button.colab-df-convert');\n        buttonEl.style.display =\n          google.colab.kernel.accessAllowed ? 'block' : 'none';\n\n        async function convertToInteractive(key) {\n          const element = document.querySelector('#df-78b762f8-153d-4c92-86aa-4b49ab54bcd5');\n          const dataTable =\n            await google.colab.kernel.invokeFunction('convertToInteractive',\n                                                     [key], {});\n          if (!dataTable) return;\n\n          const docLinkHtml = 'Like what you see? Visit the ' +\n            '<a target=\"_blank\" href=https://colab.research.google.com/notebooks/data_table.ipynb>data table notebook</a>'\n            + ' to learn more about interactive tables.';\n          element.innerHTML = '';\n          dataTable['output_type'] = 'display_data';\n          await google.colab.output.renderOutput(dataTable, element);\n          const docLink = document.createElement('div');\n          docLink.innerHTML = docLinkHtml;\n          element.appendChild(docLink);\n        }\n      </script>\n    </div>\n  </div>\n  ",
      "text/plain": "                      id  ... time_signature\n0  6DCZcSspjsKoFjzjrWoCd  ...            4.0\n1  3ee8Jmje8o58CHK66QrVC  ...            4.0\n2  0e7ipj03S05BNilyu5bRz  ...            4.0\n3  3swc6WTsr7rl9DqQKQA55  ...            4.0\n4  2G7V7zsVDxg1yRsu7Ew9R  ...            4.0\n\n[5 rows x 16 columns]"
     },
     "metadata": {},
     "execution_count": 18
    }
   ]
  },
  {
   "cell_type": "code",
   "metadata": {
    "colab": {
     "base_uri": "https://localhost:8080/"
    },
    "id": "TRE3GEWidgaA",
    "outputId": "9ea1791f-0d63-4b5c-c915-4b445e04f93f",
    "cell_id": "00011-5ab9d1e3-5d5d-48b7-9d25-8898e0cb2ab1",
    "deepnote_cell_height": 346.09375,
    "deepnote_output_heights": [
     231.546875
    ],
    "deepnote_cell_type": "code"
   },
   "source": "artista = data.artists\nartista",
   "execution_count": null,
   "outputs": [
    {
     "output_type": "execute_result",
     "data": {
      "text/plain": "0            Drake\n1     XXXTENTACION\n2      Post Malone\n3      Post Malone\n4            Drake\n          ...     \n95       Zac Efron\n96    Clean Bandit\n97       DJ Khaled\n98            ZAYN\n99      Dean Lewis\nName: artists, Length: 100, dtype: object"
     },
     "metadata": {},
     "execution_count": 19
    }
   ]
  },
  {
   "cell_type": "code",
   "metadata": {
    "colab": {
     "base_uri": "https://localhost:8080/",
     "height": 783
    },
    "id": "UmZqqll6d-uH",
    "outputId": "c3cc6156-2a3e-4f67-dec9-588c472439d9",
    "cell_id": "00012-abd6910d-2fa3-4a33-95e9-589551ec016f",
    "deepnote_cell_height": 469.65625,
    "deepnote_output_heights": [
     373.109375
    ],
    "deepnote_cell_type": "code"
   },
   "source": "data.sort_index(axis=0, ascending=False)",
   "execution_count": null,
   "outputs": [
    {
     "output_type": "execute_result",
     "data": {
      "text/html": "\n  <div id=\"df-4517a258-f2d1-4f19-a2e5-2c33669d8bfc\">\n    <div class=\"colab-df-container\">\n      <div>\n<style scoped>\n    .dataframe tbody tr th:only-of-type {\n        vertical-align: middle;\n    }\n\n    .dataframe tbody tr th {\n        vertical-align: top;\n    }\n\n    .dataframe thead th {\n        text-align: right;\n    }\n</style>\n<table border=\"1\" class=\"dataframe\">\n  <thead>\n    <tr style=\"text-align: right;\">\n      <th></th>\n      <th>id</th>\n      <th>name</th>\n      <th>artists</th>\n      <th>danceability</th>\n      <th>energy</th>\n      <th>key</th>\n      <th>loudness</th>\n      <th>mode</th>\n      <th>speechiness</th>\n      <th>acousticness</th>\n      <th>instrumentalness</th>\n      <th>liveness</th>\n      <th>valence</th>\n      <th>tempo</th>\n      <th>duration_ms</th>\n      <th>time_signature</th>\n    </tr>\n  </thead>\n  <tbody>\n    <tr>\n      <th>99</th>\n      <td>3EPXxR3ImUwfayaurPi3c</td>\n      <td>Be Alright</td>\n      <td>Dean Lewis</td>\n      <td>0.553</td>\n      <td>0.586</td>\n      <td>11.0</td>\n      <td>-6.319</td>\n      <td>1.0</td>\n      <td>0.0362</td>\n      <td>0.6970</td>\n      <td>0.000000</td>\n      <td>0.0813</td>\n      <td>0.4430</td>\n      <td>126.684</td>\n      <td>196373.0</td>\n      <td>4.0</td>\n    </tr>\n    <tr>\n      <th>98</th>\n      <td>1j4kHkkpqZRBwE0A4CN4Y</td>\n      <td>Dusk Till Dawn - Radio Edit</td>\n      <td>ZAYN</td>\n      <td>0.258</td>\n      <td>0.437</td>\n      <td>11.0</td>\n      <td>-6.593</td>\n      <td>0.0</td>\n      <td>0.0390</td>\n      <td>0.1010</td>\n      <td>0.000001</td>\n      <td>0.1060</td>\n      <td>0.0967</td>\n      <td>180.043</td>\n      <td>239000.0</td>\n      <td>4.0</td>\n    </tr>\n    <tr>\n      <th>97</th>\n      <td>5WvAo7DNuPRmk4APhdPzi</td>\n      <td>No Brainer</td>\n      <td>DJ Khaled</td>\n      <td>0.552</td>\n      <td>0.760</td>\n      <td>0.0</td>\n      <td>-4.706</td>\n      <td>1.0</td>\n      <td>0.3420</td>\n      <td>0.0733</td>\n      <td>0.000000</td>\n      <td>0.0865</td>\n      <td>0.6390</td>\n      <td>135.702</td>\n      <td>260000.0</td>\n      <td>5.0</td>\n    </tr>\n    <tr>\n      <th>96</th>\n      <td>2xmrfQpmS2iJExTlklLoA</td>\n      <td>I Miss You (feat. Julia Michaels)</td>\n      <td>Clean Bandit</td>\n      <td>0.638</td>\n      <td>0.658</td>\n      <td>3.0</td>\n      <td>-6.318</td>\n      <td>1.0</td>\n      <td>0.0456</td>\n      <td>0.2450</td>\n      <td>0.000004</td>\n      <td>0.0919</td>\n      <td>0.3300</td>\n      <td>105.076</td>\n      <td>205748.0</td>\n      <td>4.0</td>\n    </tr>\n    <tr>\n      <th>95</th>\n      <td>630sXRhIcfwr2e4RdNtjK</td>\n      <td>Rewrite The Stars</td>\n      <td>Zac Efron</td>\n      <td>0.684</td>\n      <td>0.619</td>\n      <td>10.0</td>\n      <td>-7.005</td>\n      <td>1.0</td>\n      <td>0.0386</td>\n      <td>0.0716</td>\n      <td>0.000000</td>\n      <td>0.1220</td>\n      <td>0.2840</td>\n      <td>125.046</td>\n      <td>217440.0</td>\n      <td>4.0</td>\n    </tr>\n    <tr>\n      <th>...</th>\n      <td>...</td>\n      <td>...</td>\n      <td>...</td>\n      <td>...</td>\n      <td>...</td>\n      <td>...</td>\n      <td>...</td>\n      <td>...</td>\n      <td>...</td>\n      <td>...</td>\n      <td>...</td>\n      <td>...</td>\n      <td>...</td>\n      <td>...</td>\n      <td>...</td>\n      <td>...</td>\n    </tr>\n    <tr>\n      <th>4</th>\n      <td>2G7V7zsVDxg1yRsu7Ew9R</td>\n      <td>In My Feelings</td>\n      <td>Drake</td>\n      <td>0.835</td>\n      <td>0.626</td>\n      <td>1.0</td>\n      <td>-5.833</td>\n      <td>1.0</td>\n      <td>0.1250</td>\n      <td>0.0589</td>\n      <td>0.000060</td>\n      <td>0.3960</td>\n      <td>0.3500</td>\n      <td>91.030</td>\n      <td>217925.0</td>\n      <td>4.0</td>\n    </tr>\n    <tr>\n      <th>3</th>\n      <td>3swc6WTsr7rl9DqQKQA55</td>\n      <td>Psycho (feat. Ty Dolla $ign)</td>\n      <td>Post Malone</td>\n      <td>0.739</td>\n      <td>0.559</td>\n      <td>8.0</td>\n      <td>-8.011</td>\n      <td>1.0</td>\n      <td>0.1170</td>\n      <td>0.5800</td>\n      <td>0.000000</td>\n      <td>0.1120</td>\n      <td>0.4390</td>\n      <td>140.124</td>\n      <td>221440.0</td>\n      <td>4.0</td>\n    </tr>\n    <tr>\n      <th>2</th>\n      <td>0e7ipj03S05BNilyu5bRz</td>\n      <td>rockstar (feat. 21 Savage)</td>\n      <td>Post Malone</td>\n      <td>0.587</td>\n      <td>0.535</td>\n      <td>5.0</td>\n      <td>-6.090</td>\n      <td>0.0</td>\n      <td>0.0898</td>\n      <td>0.1170</td>\n      <td>0.000066</td>\n      <td>0.1310</td>\n      <td>0.1400</td>\n      <td>159.847</td>\n      <td>218147.0</td>\n      <td>4.0</td>\n    </tr>\n    <tr>\n      <th>1</th>\n      <td>3ee8Jmje8o58CHK66QrVC</td>\n      <td>SAD!</td>\n      <td>XXXTENTACION</td>\n      <td>0.740</td>\n      <td>0.613</td>\n      <td>8.0</td>\n      <td>-4.880</td>\n      <td>1.0</td>\n      <td>0.1450</td>\n      <td>0.2580</td>\n      <td>0.003720</td>\n      <td>0.1230</td>\n      <td>0.4730</td>\n      <td>75.023</td>\n      <td>166606.0</td>\n      <td>4.0</td>\n    </tr>\n    <tr>\n      <th>0</th>\n      <td>6DCZcSspjsKoFjzjrWoCd</td>\n      <td>God's Plan</td>\n      <td>Drake</td>\n      <td>0.754</td>\n      <td>0.449</td>\n      <td>7.0</td>\n      <td>-9.211</td>\n      <td>1.0</td>\n      <td>0.1090</td>\n      <td>0.0332</td>\n      <td>0.000083</td>\n      <td>0.5520</td>\n      <td>0.3570</td>\n      <td>77.169</td>\n      <td>198973.0</td>\n      <td>4.0</td>\n    </tr>\n  </tbody>\n</table>\n<p>100 rows × 16 columns</p>\n</div>\n      <button class=\"colab-df-convert\" onclick=\"convertToInteractive('df-4517a258-f2d1-4f19-a2e5-2c33669d8bfc')\"\n              title=\"Convert this dataframe to an interactive table.\"\n              style=\"display:none;\">\n        \n  <svg xmlns=\"http://www.w3.org/2000/svg\" height=\"24px\"viewBox=\"0 0 24 24\"\n       width=\"24px\">\n    <path d=\"M0 0h24v24H0V0z\" fill=\"none\"/>\n    <path d=\"M18.56 5.44l.94 2.06.94-2.06 2.06-.94-2.06-.94-.94-2.06-.94 2.06-2.06.94zm-11 1L8.5 8.5l.94-2.06 2.06-.94-2.06-.94L8.5 2.5l-.94 2.06-2.06.94zm10 10l.94 2.06.94-2.06 2.06-.94-2.06-.94-.94-2.06-.94 2.06-2.06.94z\"/><path d=\"M17.41 7.96l-1.37-1.37c-.4-.4-.92-.59-1.43-.59-.52 0-1.04.2-1.43.59L10.3 9.45l-7.72 7.72c-.78.78-.78 2.05 0 2.83L4 21.41c.39.39.9.59 1.41.59.51 0 1.02-.2 1.41-.59l7.78-7.78 2.81-2.81c.8-.78.8-2.07 0-2.86zM5.41 20L4 18.59l7.72-7.72 1.47 1.35L5.41 20z\"/>\n  </svg>\n      </button>\n      \n  <style>\n    .colab-df-container {\n      display:flex;\n      flex-wrap:wrap;\n      gap: 12px;\n    }\n\n    .colab-df-convert {\n      background-color: #E8F0FE;\n      border: none;\n      border-radius: 50%;\n      cursor: pointer;\n      display: none;\n      fill: #1967D2;\n      height: 32px;\n      padding: 0 0 0 0;\n      width: 32px;\n    }\n\n    .colab-df-convert:hover {\n      background-color: #E2EBFA;\n      box-shadow: 0px 1px 2px rgba(60, 64, 67, 0.3), 0px 1px 3px 1px rgba(60, 64, 67, 0.15);\n      fill: #174EA6;\n    }\n\n    [theme=dark] .colab-df-convert {\n      background-color: #3B4455;\n      fill: #D2E3FC;\n    }\n\n    [theme=dark] .colab-df-convert:hover {\n      background-color: #434B5C;\n      box-shadow: 0px 1px 3px 1px rgba(0, 0, 0, 0.15);\n      filter: drop-shadow(0px 1px 2px rgba(0, 0, 0, 0.3));\n      fill: #FFFFFF;\n    }\n  </style>\n\n      <script>\n        const buttonEl =\n          document.querySelector('#df-4517a258-f2d1-4f19-a2e5-2c33669d8bfc button.colab-df-convert');\n        buttonEl.style.display =\n          google.colab.kernel.accessAllowed ? 'block' : 'none';\n\n        async function convertToInteractive(key) {\n          const element = document.querySelector('#df-4517a258-f2d1-4f19-a2e5-2c33669d8bfc');\n          const dataTable =\n            await google.colab.kernel.invokeFunction('convertToInteractive',\n                                                     [key], {});\n          if (!dataTable) return;\n\n          const docLinkHtml = 'Like what you see? Visit the ' +\n            '<a target=\"_blank\" href=https://colab.research.google.com/notebooks/data_table.ipynb>data table notebook</a>'\n            + ' to learn more about interactive tables.';\n          element.innerHTML = '';\n          dataTable['output_type'] = 'display_data';\n          await google.colab.output.renderOutput(dataTable, element);\n          const docLink = document.createElement('div');\n          docLink.innerHTML = docLinkHtml;\n          element.appendChild(docLink);\n        }\n      </script>\n    </div>\n  </div>\n  ",
      "text/plain": "                       id  ... time_signature\n99  3EPXxR3ImUwfayaurPi3c  ...            4.0\n98  1j4kHkkpqZRBwE0A4CN4Y  ...            4.0\n97  5WvAo7DNuPRmk4APhdPzi  ...            5.0\n96  2xmrfQpmS2iJExTlklLoA  ...            4.0\n95  630sXRhIcfwr2e4RdNtjK  ...            4.0\n..                    ...  ...            ...\n4   2G7V7zsVDxg1yRsu7Ew9R  ...            4.0\n3   3swc6WTsr7rl9DqQKQA55  ...            4.0\n2   0e7ipj03S05BNilyu5bRz  ...            4.0\n1   3ee8Jmje8o58CHK66QrVC  ...            4.0\n0   6DCZcSspjsKoFjzjrWoCd  ...            4.0\n\n[100 rows x 16 columns]"
     },
     "metadata": {},
     "execution_count": 20
    }
   ]
  },
  {
   "cell_type": "markdown",
   "source": "![](https://cloudxlab.com/blog/wp-content/uploads/2017/12/numpypandasfeatureimage-3.png)",
   "metadata": {
    "id": "hKMG6YC3e4OV",
    "cell_id": "00013-8a39730d-1931-4d44-a68d-7ec1c5e387ff",
    "deepnote_cell_height": 431.171875,
    "deepnote_cell_type": "markdown"
   }
  },
  {
   "cell_type": "markdown",
   "source": "# Regresión lineal simple y múltiple\n\n**Regresión Lineal Simple**\n\nEs un algoritmo de aprendizaje supervisado que nos indica la tendencia de un conjunto de datos cuyas variables estén relacionadas.\n\n**Regresión Lineal Múltiple**\n\nPermite encontrar la tendencia entre más de dos variables",
   "metadata": {
    "id": "1-io-I7CeYZ9",
    "cell_id": "00014-2428c15a-b793-43dc-9853-ad23ad966b33",
    "deepnote_cell_height": 247.671875,
    "deepnote_cell_type": "markdown"
   }
  },
  {
   "cell_type": "code",
   "metadata": {
    "id": "EYLDltWChVlE",
    "cell_id": "00015-0e486d4a-fdeb-4d10-853d-b1cd4cad2fd2",
    "deepnote_cell_height": 101.6875,
    "deepnote_cell_type": "code"
   },
   "source": "import matplotlib.pyplot as plt\nfrom sklearn.model_selection import train_test_split\nfrom sklearn.linear_model import LinearRegression",
   "execution_count": null,
   "outputs": []
  },
  {
   "cell_type": "code",
   "metadata": {
    "colab": {
     "base_uri": "https://localhost:8080/",
     "height": 206
    },
    "id": "aTiOaeOCirbj",
    "outputId": "f13139f4-e74f-41a1-f981-1b43fba34984",
    "cell_id": "00016-8416b816-03f8-462c-8911-b8a8e2155c33",
    "deepnote_cell_height": 286.96875,
    "deepnote_output_heights": [
     172.421875
    ],
    "deepnote_cell_type": "code"
   },
   "source": "data = pd.read_csv(\"salarios.csv\")\ndata.head()",
   "execution_count": null,
   "outputs": [
    {
     "output_type": "execute_result",
     "data": {
      "text/html": "\n  <div id=\"df-8f3bc03a-d8a8-41ff-a6f5-c2beb651e1d1\">\n    <div class=\"colab-df-container\">\n      <div>\n<style scoped>\n    .dataframe tbody tr th:only-of-type {\n        vertical-align: middle;\n    }\n\n    .dataframe tbody tr th {\n        vertical-align: top;\n    }\n\n    .dataframe thead th {\n        text-align: right;\n    }\n</style>\n<table border=\"1\" class=\"dataframe\">\n  <thead>\n    <tr style=\"text-align: right;\">\n      <th></th>\n      <th>Aexperiencia</th>\n      <th>Salario</th>\n    </tr>\n  </thead>\n  <tbody>\n    <tr>\n      <th>0</th>\n      <td>10.0</td>\n      <td>42500</td>\n    </tr>\n    <tr>\n      <th>1</th>\n      <td>8.0</td>\n      <td>36302</td>\n    </tr>\n    <tr>\n      <th>2</th>\n      <td>5.4</td>\n      <td>35000</td>\n    </tr>\n    <tr>\n      <th>3</th>\n      <td>2.5</td>\n      <td>18103</td>\n    </tr>\n    <tr>\n      <th>4</th>\n      <td>1.0</td>\n      <td>15000</td>\n    </tr>\n  </tbody>\n</table>\n</div>\n      <button class=\"colab-df-convert\" onclick=\"convertToInteractive('df-8f3bc03a-d8a8-41ff-a6f5-c2beb651e1d1')\"\n              title=\"Convert this dataframe to an interactive table.\"\n              style=\"display:none;\">\n        \n  <svg xmlns=\"http://www.w3.org/2000/svg\" height=\"24px\"viewBox=\"0 0 24 24\"\n       width=\"24px\">\n    <path d=\"M0 0h24v24H0V0z\" fill=\"none\"/>\n    <path d=\"M18.56 5.44l.94 2.06.94-2.06 2.06-.94-2.06-.94-.94-2.06-.94 2.06-2.06.94zm-11 1L8.5 8.5l.94-2.06 2.06-.94-2.06-.94L8.5 2.5l-.94 2.06-2.06.94zm10 10l.94 2.06.94-2.06 2.06-.94-2.06-.94-.94-2.06-.94 2.06-2.06.94z\"/><path d=\"M17.41 7.96l-1.37-1.37c-.4-.4-.92-.59-1.43-.59-.52 0-1.04.2-1.43.59L10.3 9.45l-7.72 7.72c-.78.78-.78 2.05 0 2.83L4 21.41c.39.39.9.59 1.41.59.51 0 1.02-.2 1.41-.59l7.78-7.78 2.81-2.81c.8-.78.8-2.07 0-2.86zM5.41 20L4 18.59l7.72-7.72 1.47 1.35L5.41 20z\"/>\n  </svg>\n      </button>\n      \n  <style>\n    .colab-df-container {\n      display:flex;\n      flex-wrap:wrap;\n      gap: 12px;\n    }\n\n    .colab-df-convert {\n      background-color: #E8F0FE;\n      border: none;\n      border-radius: 50%;\n      cursor: pointer;\n      display: none;\n      fill: #1967D2;\n      height: 32px;\n      padding: 0 0 0 0;\n      width: 32px;\n    }\n\n    .colab-df-convert:hover {\n      background-color: #E2EBFA;\n      box-shadow: 0px 1px 2px rgba(60, 64, 67, 0.3), 0px 1px 3px 1px rgba(60, 64, 67, 0.15);\n      fill: #174EA6;\n    }\n\n    [theme=dark] .colab-df-convert {\n      background-color: #3B4455;\n      fill: #D2E3FC;\n    }\n\n    [theme=dark] .colab-df-convert:hover {\n      background-color: #434B5C;\n      box-shadow: 0px 1px 3px 1px rgba(0, 0, 0, 0.15);\n      filter: drop-shadow(0px 1px 2px rgba(0, 0, 0, 0.3));\n      fill: #FFFFFF;\n    }\n  </style>\n\n      <script>\n        const buttonEl =\n          document.querySelector('#df-8f3bc03a-d8a8-41ff-a6f5-c2beb651e1d1 button.colab-df-convert');\n        buttonEl.style.display =\n          google.colab.kernel.accessAllowed ? 'block' : 'none';\n\n        async function convertToInteractive(key) {\n          const element = document.querySelector('#df-8f3bc03a-d8a8-41ff-a6f5-c2beb651e1d1');\n          const dataTable =\n            await google.colab.kernel.invokeFunction('convertToInteractive',\n                                                     [key], {});\n          if (!dataTable) return;\n\n          const docLinkHtml = 'Like what you see? Visit the ' +\n            '<a target=\"_blank\" href=https://colab.research.google.com/notebooks/data_table.ipynb>data table notebook</a>'\n            + ' to learn more about interactive tables.';\n          element.innerHTML = '';\n          dataTable['output_type'] = 'display_data';\n          await google.colab.output.renderOutput(dataTable, element);\n          const docLink = document.createElement('div');\n          docLink.innerHTML = docLinkHtml;\n          element.appendChild(docLink);\n        }\n      </script>\n    </div>\n  </div>\n  ",
      "text/plain": "   Aexperiencia  Salario\n0          10.0    42500\n1           8.0    36302\n2           5.4    35000\n3           2.5    18103\n4           1.0    15000"
     },
     "metadata": {},
     "execution_count": 83
    }
   ]
  },
  {
   "cell_type": "code",
   "metadata": {
    "id": "tuzSvO7fjEzC",
    "cell_id": "00017-0503b0a8-c8c5-4df7-a98b-34135b0bc05f",
    "deepnote_cell_height": 83.6875,
    "deepnote_cell_type": "code"
   },
   "source": "X = data.iloc[:,:-1].values\ny = data.iloc[:,1].values",
   "execution_count": null,
   "outputs": []
  },
  {
   "cell_type": "code",
   "metadata": {
    "id": "LzpdSmW0jgm_",
    "cell_id": "00018-5fa8643c-5b26-4f68-a16d-d9b1c160889d",
    "deepnote_cell_height": 83.6875,
    "deepnote_cell_type": "code"
   },
   "source": "# Separación de data en entrenamiento y test\nX_train, X_test, y_train, y_test = train_test_split(X, y, test_size=0.2, random_state = 2)",
   "execution_count": null,
   "outputs": []
  },
  {
   "cell_type": "code",
   "metadata": {
    "id": "BborKXgbjvw1",
    "cell_id": "00019-1d5574af-0a96-4fe1-98bd-26c96b9a9071",
    "deepnote_cell_height": 119.6875,
    "deepnote_cell_type": "code"
   },
   "source": "# Crea el modelo, lo entrena y predice\nmodelo = LinearRegression()\nmodelo.fit(X_train, y_train)\ny_pred = modelo.predict(X_test)",
   "execution_count": null,
   "outputs": []
  },
  {
   "cell_type": "code",
   "metadata": {
    "colab": {
     "base_uri": "https://localhost:8080/",
     "height": 303
    },
    "id": "d63ucM-qkYRD",
    "outputId": "521c6be2-1eb8-4689-8a3f-f19626fe4f59",
    "cell_id": "00020-c13c2f2a-30b9-413c-b6c7-678785985b3d",
    "deepnote_cell_height": 474.515625,
    "deepnote_output_heights": [
     287.96875
    ],
    "deepnote_cell_type": "code"
   },
   "source": "plt.scatter(X_train, y_train, color = 'blue')\nplt.plot(X_train, modelo.predict(X_train), color = 'black')\nplt.title(\"Salario versus experiencia\", fontsize=18)\nplt.xlabel(\"Experiencia\", fontsize=14)\nplt.ylabel(\"Salario\", fontsize=14)\nplt.show()",
   "execution_count": null,
   "outputs": [
    {
     "output_type": "display_data",
     "data": {
      "image/png": "[encoded data removed]",
      "text/plain": "<Figure size 432x288 with 1 Axes>"
     },
     "metadata": {
      "needs_background": "light",
      "image/png": {
       "width": 405,
       "height": 286
      }
     }
    }
   ]
  },
  {
   "cell_type": "code",
   "metadata": {
    "colab": {
     "base_uri": "https://localhost:8080/",
     "height": 303
    },
    "id": "l0fkRHe-mEkZ",
    "outputId": "2866406d-a041-4d9d-fc7d-37e39104d9b5",
    "cell_id": "00021-b46d79d8-e157-4637-b0d6-1b0ffb5b5ac3",
    "deepnote_cell_height": 474.515625,
    "deepnote_output_heights": [
     287.96875
    ],
    "deepnote_cell_type": "code"
   },
   "source": "plt.scatter(X_test, y_test, color = 'blue')\nplt.plot(X_train, modelo.predict(X_train), color = 'red')\nplt.title(\"Salario versus experiencia\", fontsize=18)\nplt.xlabel(\"Experiencia\", fontsize=14)\nplt.ylabel(\"Salario\", fontsize=14)\nplt.show()",
   "execution_count": null,
   "outputs": [
    {
     "output_type": "display_data",
     "data": {
      "image/png": "[encoded data removed]",
      "text/plain": "<Figure size 432x288 with 1 Axes>"
     },
     "metadata": {
      "needs_background": "light",
      "image/png": {
       "width": 405,
       "height": 286
      }
     }
    }
   ]
  },
  {
   "cell_type": "code",
   "metadata": {
    "colab": {
     "base_uri": "https://localhost:8080/"
    },
    "id": "jIczrzVHm1ZA",
    "outputId": "a392ec59-520f-4dab-f201-476261a45e38",
    "cell_id": "00022-efceaff6-1769-4f8f-a3c3-ab1f7bc788b8",
    "deepnote_cell_height": 147.8125,
    "deepnote_cell_type": "code"
   },
   "source": "print(\"Train score {}\".format(modelo.score(X_train, y_train)))\nprint(\"Test score {}\".format(modelo.score(X_test, y_test)))",
   "execution_count": null,
   "outputs": [
    {
     "output_type": "stream",
     "name": "stdout",
     "text": "Train score 0.9182671884489882\nTest score 0.9790649897775635\n"
    }
   ]
  },
  {
   "cell_type": "code",
   "metadata": {
    "colab": {
     "base_uri": "https://localhost:8080/"
    },
    "id": "0TXGnPGroQzm",
    "outputId": "d1693745-5829-49de-d23f-af4dbb35723c",
    "cell_id": "00023-584b21fc-4136-484a-b2da-c4e98c19d267",
    "deepnote_cell_height": 201.8125,
    "deepnote_cell_type": "code"
   },
   "source": "from sklearn.metrics import mean_squared_error, r2_score\n# The mean squared error\nprint(\"Mean squared error: %.2f\" % mean_squared_error(y_test, y_pred))\n# The coefficient of determination: 1 is perfect prediction\nprint(\"Coefficient of determination: %.2f\" % r2_score(y_test, y_pred))",
   "execution_count": null,
   "outputs": [
    {
     "output_type": "stream",
     "name": "stdout",
     "text": "Mean squared error: 2673516.08\nCoefficient of determination: 0.98\n"
    }
   ]
  },
  {
   "cell_type": "markdown",
   "source": "### Algo de exploración para repasar lo que he aprendido",
   "metadata": {
    "id": "5HHSEhYGO51t",
    "cell_id": "00024-1daa4593-c5f2-4487-aeda-221d30cd04b3",
    "deepnote_cell_height": 61,
    "deepnote_cell_type": "markdown"
   }
  },
  {
   "cell_type": "code",
   "metadata": {
    "colab": {
     "base_uri": "https://localhost:8080/",
     "height": 303
    },
    "id": "nLs9zynKNRIl",
    "outputId": "313b2e7d-c2b1-4bf0-a500-5de7d173597d",
    "cell_id": "00025-9d42fbc3-6880-4ffe-80c3-7646b3f5050b",
    "deepnote_cell_height": 456.53125,
    "deepnote_output_heights": [
     287.96875
    ],
    "deepnote_cell_type": "code"
   },
   "source": "fig, ax = plt.subplots(1, 1, figsize=(6,4))\nax.scatter(x=data.Aexperiencia, y=data.Salario, alpha= 0.8)\nplt.title(\"Salario versus experiencia\", fontsize=18)\nax.set_xlabel('Experiencia', fontsize=14)\nax.set_ylabel('Salario', fontsize=14);",
   "execution_count": null,
   "outputs": [
    {
     "output_type": "display_data",
     "data": {
      "image/png": "[encoded data removed]",
      "text/plain": "<Figure size 432x288 with 1 Axes>"
     },
     "metadata": {
      "needs_background": "light",
      "image/png": {
       "width": 405,
       "height": 286
      }
     }
    }
   ]
  },
  {
   "cell_type": "code",
   "metadata": {
    "colab": {
     "base_uri": "https://localhost:8080/",
     "height": 297
    },
    "id": "3fpmQUTTNvMk",
    "outputId": "e337afdb-6c4b-46d4-bcfe-41045fbd2455",
    "cell_id": "00026-896c1903-78d5-4fa0-816a-1d74d8b4e05d",
    "deepnote_cell_height": 644.375,
    "deepnote_output_heights": [
     259.828125
    ],
    "deepnote_cell_type": "code"
   },
   "source": "# Gráfico distribución variables\n# ==============================================================================\nfig, axs = plt.subplots(nrows=1, ncols=2, figsize=(10, 4))\n\naxs[0].hist(x=data.Aexperiencia, bins=5, color=\"#3182bd\", alpha=0.5)\naxs[0].plot(data.Aexperiencia, np.full_like(data.Aexperiencia, -0.01), '|k', markeredgewidth=1)\naxs[0].set_title('Distribución experiencia', fontsize=18)\naxs[0].set_xlabel('Experiencia', fontsize=14)\naxs[0].set_ylabel('counts', fontsize=14)\n\naxs[1].hist(x=data.Salario, bins=5, color=\"#3182bd\", alpha=0.5)\n#axs[1].plot(data.Salario, np.full_like(data.Salario, -0.01), '.k', markeredgewidth=5)\naxs[1].set_title('Distribución salario', fontsize=18)\naxs[1].set_xlabel('Salario', fontsize=14)\naxs[1].set_ylabel('counts', fontsize=14)\n\nplt.tight_layout();",
   "execution_count": null,
   "outputs": [
    {
     "output_type": "display_data",
     "data": {
      "image/png": "[encoded data removed]",
      "text/plain": "<Figure size 720x288 with 2 Axes>"
     },
     "metadata": {
      "needs_background": "light",
      "image/png": {
       "width": 712,
       "height": 280
      }
     }
    }
   ]
  },
  {
   "cell_type": "markdown",
   "source": "## Reto\n\nAgregar una columna que represente el país",
   "metadata": {
    "id": "ss6NheZsovvn",
    "cell_id": "00027-e32d40c0-f3dd-423d-8a34-53c9d6b57b33",
    "deepnote_cell_height": 107.421875,
    "deepnote_cell_type": "markdown"
   }
  },
  {
   "cell_type": "code",
   "metadata": {
    "colab": {
     "base_uri": "https://localhost:8080/"
    },
    "id": "N5247n80pH6v",
    "outputId": "72832b2b-340d-4017-bdbe-aaa1eb445a88",
    "cell_id": "00028-e3d1c7ca-f994-4377-826e-2301dea50f16",
    "deepnote_cell_height": 220.9375,
    "deepnote_cell_type": "code"
   },
   "source": "from sklearn.preprocessing import LabelEncoder\npaises = np.array(['Chile','Italia', 'Uruguay', 'EEUU'])\nprint(paises.shape)\nprint(paises.reshape(1,-1).shape)\nprint(paises.shape)",
   "execution_count": null,
   "outputs": [
    {
     "output_type": "stream",
     "name": "stdout",
     "text": "(4,)\n(1, 4)\n(4,)\n"
    }
   ]
  },
  {
   "cell_type": "code",
   "metadata": {
    "id": "nwEcbQasKIh_",
    "cell_id": "00029-967fda77-99de-4ecd-8c2c-f5a03d4030f2",
    "deepnote_cell_height": 83.6875,
    "deepnote_cell_type": "code"
   },
   "source": "le = LabelEncoder()\npaises_le = le.fit_transform(paises)",
   "execution_count": null,
   "outputs": []
  },
  {
   "cell_type": "code",
   "metadata": {
    "id": "ATVs823EJyDH",
    "cell_id": "00030-796b79d1-6e3c-41a5-ae97-6e33d3c4412c",
    "deepnote_cell_height": 83.6875,
    "deepnote_cell_type": "code"
   },
   "source": "data_challenge = data.copy()\ndata_challenge['pais'] = [paises_le[np.random.randint(0,len(paises_le))] for i in range(len(data)) ]",
   "execution_count": null,
   "outputs": []
  },
  {
   "cell_type": "code",
   "metadata": {
    "id": "7a2dGhJuGQvV",
    "cell_id": "00031-14a4fe2f-b4cb-4f1d-a6a2-6cdda5a0347c",
    "deepnote_cell_height": 173.6875,
    "deepnote_cell_type": "code"
   },
   "source": "X = data_challenge[['Aexperiencia','pais']]\ny = data_challenge.Salario\nX_train, X_test, y_train, y_test = train_test_split(X, y, test_size=0.2, random_state = 29)\n# Crea el modelo, lo entrena y predice\nmodelo_reto = LinearRegression()\nmodelo_reto.fit(X_train, y_train)\ny_pred = modelo_reto.predict(X_test)",
   "execution_count": null,
   "outputs": []
  },
  {
   "cell_type": "code",
   "metadata": {
    "colab": {
     "base_uri": "https://localhost:8080/"
    },
    "id": "tQWgM-dVMEJ9",
    "outputId": "12313f31-a8c5-45d1-a9da-0d45facf2e74",
    "cell_id": "00032-72a72c8b-0e96-42b6-ae2c-f011f2ab2c89",
    "deepnote_cell_height": 147.8125,
    "deepnote_cell_type": "code"
   },
   "source": "print(\"Train score {}\".format(modelo_reto.score(X_train, y_train)))\nprint(\"Test score {}\".format(modelo_reto.score(X_test, y_test))) # Debe coincidir con el R2 (coeficiente de determinación)",
   "execution_count": null,
   "outputs": [
    {
     "output_type": "stream",
     "name": "stdout",
     "text": "Train score 0.9389949932118169\nTest score 0.9122419879073568\n"
    }
   ]
  },
  {
   "cell_type": "code",
   "metadata": {
    "colab": {
     "base_uri": "https://localhost:8080/"
    },
    "id": "8m4hu1hWMOOR",
    "outputId": "547cec67-a579-4e22-aad6-e42cc8efae1a",
    "cell_id": "00033-d71af91e-77ff-48d4-aaa1-d0343f72386e",
    "deepnote_cell_height": 183.8125,
    "deepnote_cell_type": "code"
   },
   "source": "# The mean squared error\nprint(\"Mean squared error: %.2f\" % mean_squared_error(y_test, y_pred))\n# The coefficient of determination: 1 is perfect prediction\nprint(\"Coefficient of determination: %.2f\" % r2_score(y_test, y_pred))",
   "execution_count": null,
   "outputs": [
    {
     "output_type": "stream",
     "name": "stdout",
     "text": "Mean squared error: 5822261.54\nCoefficient of determination: 0.91\n"
    }
   ]
  },
  {
   "cell_type": "markdown",
   "source": "## Escalando los datos",
   "metadata": {
    "id": "3OCQ5f6hPRMM",
    "cell_id": "00034-ddee468f-bedc-4bfd-b337-e2bc6f4c5df3",
    "deepnote_cell_height": 69.6875,
    "deepnote_cell_type": "markdown"
   }
  },
  {
   "cell_type": "code",
   "metadata": {
    "id": "le7-ozW6PVhg",
    "cell_id": "00035-7c60e97d-ab8f-46e6-9306-951ad1440a4c",
    "deepnote_cell_height": 119.6875,
    "deepnote_cell_type": "code"
   },
   "source": "from sklearn.preprocessing import StandardScaler\nscaler = StandardScaler()\nX_features_scaled = scaler.fit_transform(data_challenge[[\"Aexperiencia\", \"pais\"]])\ny = data_challenge.Salario",
   "execution_count": null,
   "outputs": []
  },
  {
   "cell_type": "code",
   "metadata": {
    "id": "9vMAU9h6PpyA",
    "cell_id": "00036-e93a46fe-b38a-4d63-9e6c-244533f5332f",
    "deepnote_cell_height": 137.703125,
    "deepnote_cell_type": "code"
   },
   "source": "X_train, X_test, y_train, y_test = train_test_split(X_features_scaled, y, test_size=0.2, random_state = 29)\n# Crea el modelo, lo entrena y predice\nmodel_with_scaler = LinearRegression()\nmodel_with_scaler.fit(X_train, y_train)\ny_pred = model_with_scaler.predict(X_test)",
   "execution_count": null,
   "outputs": []
  },
  {
   "cell_type": "code",
   "metadata": {
    "colab": {
     "base_uri": "https://localhost:8080/"
    },
    "id": "X01gZiXlP5Cw",
    "outputId": "2a338e8c-4a0f-4720-8460-0f088d658ce3",
    "cell_id": "00037-2da25f07-0fec-49f1-9eb9-9ed5a0f05bf0",
    "deepnote_cell_height": 183.8125,
    "deepnote_cell_type": "code"
   },
   "source": "# The mean squared error\nprint(\"Mean squared error: %.2f\" % mean_squared_error(y_test, y_pred))\n# The coefficient of determination: 1 is perfect prediction\nprint(\"Coefficient of determination: %.6f\" % r2_score(y_test, y_pred))",
   "execution_count": null,
   "outputs": [
    {
     "output_type": "stream",
     "name": "stdout",
     "text": "Mean squared error: 5822261.54\nCoefficient of determination: 0.912242\n"
    }
   ]
  },
  {
   "cell_type": "code",
   "metadata": {
    "colab": {
     "base_uri": "https://localhost:8080/"
    },
    "id": "MxkdQOQuQDmE",
    "outputId": "45a70ec0-ab28-4152-bec3-5b84b28dd13e",
    "cell_id": "00038-8ada6a8d-7db1-41c6-a07c-0a2866350433",
    "deepnote_cell_height": 147.8125,
    "deepnote_cell_type": "code"
   },
   "source": "print(\"Train score {}\".format(model_with_scaler.score(X_train, y_train)))\nprint(\"Test score {}\".format(model_with_scaler.score(X_test, y_test)))",
   "execution_count": null,
   "outputs": [
    {
     "output_type": "stream",
     "name": "stdout",
     "text": "Train score 0.9389949932118168\nTest score 0.9122419879073569\n"
    }
   ]
  },
  {
   "cell_type": "markdown",
   "source": "# Regresión logística",
   "metadata": {
    "id": "ubfwpegyRdvO",
    "cell_id": "00039-9f7bc293-5868-4dcc-a147-1faf01cf8138",
    "deepnote_cell_height": 81,
    "deepnote_cell_type": "markdown"
   }
  },
  {
   "cell_type": "code",
   "metadata": {
    "id": "oFpmYgq_lShH",
    "outputId": "2fa7ab2d-65d7-436a-ddab-1331887bd52c",
    "colab": {
     "base_uri": "https://localhost:8080/"
    },
    "cell_id": "00040-565b8c0d-1dfb-4c2c-be53-8e1a371b1307",
    "deepnote_cell_height": 153.65625,
    "deepnote_output_heights": [
     21.109375
    ],
    "deepnote_cell_type": "code"
   },
   "source": "a = True\nb = False\na or b",
   "execution_count": null,
   "outputs": [
    {
     "output_type": "execute_result",
     "data": {
      "text/plain": "True"
     },
     "metadata": {},
     "execution_count": 140
    }
   ]
  },
  {
   "cell_type": "code",
   "metadata": {
    "id": "Vc4E6TzfRzoc",
    "cell_id": "00041-95f18a60-48bd-4372-9b05-1913fa03a81b",
    "deepnote_cell_height": 137.703125,
    "deepnote_cell_type": "code"
   },
   "source": "import pandas as pd\nimport numpy as np\nfrom sklearn.linear_model import LogisticRegression\nimport matplotlib.pyplot as plt\nfrom sklearn.model_selection import train_test_split",
   "execution_count": null,
   "outputs": []
  },
  {
   "cell_type": "code",
   "metadata": {
    "colab": {
     "base_uri": "https://localhost:8080/",
     "height": 270
    },
    "id": "RHY-CdPsSd8i",
    "outputId": "47ff1f17-bef5-4af1-9228-1665591ac8ec",
    "cell_id": "00042-f364fb19-439b-4ad3-a460-632f333e4764",
    "deepnote_cell_height": 286.96875,
    "deepnote_output_heights": [
     172.421875
    ],
    "deepnote_cell_type": "code"
   },
   "source": "data_diabetes = pd.read_csv(\"diabetes.csv\")\ndata_diabetes.head()",
   "execution_count": null,
   "outputs": [
    {
     "output_type": "execute_result",
     "data": {
      "text/html": "\n  <div id=\"df-d6ccb643-100d-419a-ad2f-98b6dabadb20\">\n    <div class=\"colab-df-container\">\n      <div>\n<style scoped>\n    .dataframe tbody tr th:only-of-type {\n        vertical-align: middle;\n    }\n\n    .dataframe tbody tr th {\n        vertical-align: top;\n    }\n\n    .dataframe thead th {\n        text-align: right;\n    }\n</style>\n<table border=\"1\" class=\"dataframe\">\n  <thead>\n    <tr style=\"text-align: right;\">\n      <th></th>\n      <th>Pregnancies</th>\n      <th>Glucose</th>\n      <th>BloodPressure</th>\n      <th>SkinThickness</th>\n      <th>Insulin</th>\n      <th>BMI</th>\n      <th>DiabetesPedigreeFunction</th>\n      <th>Age</th>\n      <th>Outcome</th>\n    </tr>\n  </thead>\n  <tbody>\n    <tr>\n      <th>0</th>\n      <td>6</td>\n      <td>148</td>\n      <td>72</td>\n      <td>35</td>\n      <td>0</td>\n      <td>33.6</td>\n      <td>0.627</td>\n      <td>50</td>\n      <td>1</td>\n    </tr>\n    <tr>\n      <th>1</th>\n      <td>1</td>\n      <td>85</td>\n      <td>66</td>\n      <td>29</td>\n      <td>0</td>\n      <td>26.6</td>\n      <td>0.351</td>\n      <td>31</td>\n      <td>0</td>\n    </tr>\n    <tr>\n      <th>2</th>\n      <td>8</td>\n      <td>183</td>\n      <td>64</td>\n      <td>0</td>\n      <td>0</td>\n      <td>23.3</td>\n      <td>0.672</td>\n      <td>32</td>\n      <td>1</td>\n    </tr>\n    <tr>\n      <th>3</th>\n      <td>1</td>\n      <td>89</td>\n      <td>66</td>\n      <td>23</td>\n      <td>94</td>\n      <td>28.1</td>\n      <td>0.167</td>\n      <td>21</td>\n      <td>0</td>\n    </tr>\n    <tr>\n      <th>4</th>\n      <td>0</td>\n      <td>137</td>\n      <td>40</td>\n      <td>35</td>\n      <td>168</td>\n      <td>43.1</td>\n      <td>2.288</td>\n      <td>33</td>\n      <td>1</td>\n    </tr>\n  </tbody>\n</table>\n</div>\n      <button class=\"colab-df-convert\" onclick=\"convertToInteractive('df-d6ccb643-100d-419a-ad2f-98b6dabadb20')\"\n              title=\"Convert this dataframe to an interactive table.\"\n              style=\"display:none;\">\n        \n  <svg xmlns=\"http://www.w3.org/2000/svg\" height=\"24px\"viewBox=\"0 0 24 24\"\n       width=\"24px\">\n    <path d=\"M0 0h24v24H0V0z\" fill=\"none\"/>\n    <path d=\"M18.56 5.44l.94 2.06.94-2.06 2.06-.94-2.06-.94-.94-2.06-.94 2.06-2.06.94zm-11 1L8.5 8.5l.94-2.06 2.06-.94-2.06-.94L8.5 2.5l-.94 2.06-2.06.94zm10 10l.94 2.06.94-2.06 2.06-.94-2.06-.94-.94-2.06-.94 2.06-2.06.94z\"/><path d=\"M17.41 7.96l-1.37-1.37c-.4-.4-.92-.59-1.43-.59-.52 0-1.04.2-1.43.59L10.3 9.45l-7.72 7.72c-.78.78-.78 2.05 0 2.83L4 21.41c.39.39.9.59 1.41.59.51 0 1.02-.2 1.41-.59l7.78-7.78 2.81-2.81c.8-.78.8-2.07 0-2.86zM5.41 20L4 18.59l7.72-7.72 1.47 1.35L5.41 20z\"/>\n  </svg>\n      </button>\n      \n  <style>\n    .colab-df-container {\n      display:flex;\n      flex-wrap:wrap;\n      gap: 12px;\n    }\n\n    .colab-df-convert {\n      background-color: #E8F0FE;\n      border: none;\n      border-radius: 50%;\n      cursor: pointer;\n      display: none;\n      fill: #1967D2;\n      height: 32px;\n      padding: 0 0 0 0;\n      width: 32px;\n    }\n\n    .colab-df-convert:hover {\n      background-color: #E2EBFA;\n      box-shadow: 0px 1px 2px rgba(60, 64, 67, 0.3), 0px 1px 3px 1px rgba(60, 64, 67, 0.15);\n      fill: #174EA6;\n    }\n\n    [theme=dark] .colab-df-convert {\n      background-color: #3B4455;\n      fill: #D2E3FC;\n    }\n\n    [theme=dark] .colab-df-convert:hover {\n      background-color: #434B5C;\n      box-shadow: 0px 1px 3px 1px rgba(0, 0, 0, 0.15);\n      filter: drop-shadow(0px 1px 2px rgba(0, 0, 0, 0.3));\n      fill: #FFFFFF;\n    }\n  </style>\n\n      <script>\n        const buttonEl =\n          document.querySelector('#df-d6ccb643-100d-419a-ad2f-98b6dabadb20 button.colab-df-convert');\n        buttonEl.style.display =\n          google.colab.kernel.accessAllowed ? 'block' : 'none';\n\n        async function convertToInteractive(key) {\n          const element = document.querySelector('#df-d6ccb643-100d-419a-ad2f-98b6dabadb20');\n          const dataTable =\n            await google.colab.kernel.invokeFunction('convertToInteractive',\n                                                     [key], {});\n          if (!dataTable) return;\n\n          const docLinkHtml = 'Like what you see? Visit the ' +\n            '<a target=\"_blank\" href=https://colab.research.google.com/notebooks/data_table.ipynb>data table notebook</a>'\n            + ' to learn more about interactive tables.';\n          element.innerHTML = '';\n          dataTable['output_type'] = 'display_data';\n          await google.colab.output.renderOutput(dataTable, element);\n          const docLink = document.createElement('div');\n          docLink.innerHTML = docLinkHtml;\n          element.appendChild(docLink);\n        }\n      </script>\n    </div>\n  </div>\n  ",
      "text/plain": "   Pregnancies  Glucose  BloodPressure  ...  DiabetesPedigreeFunction  Age  Outcome\n0            6      148             72  ...                     0.627   50        1\n1            1       85             66  ...                     0.351   31        0\n2            8      183             64  ...                     0.672   32        1\n3            1       89             66  ...                     0.167   21        0\n4            0      137             40  ...                     2.288   33        1\n\n[5 rows x 9 columns]"
     },
     "metadata": {},
     "execution_count": 115
    }
   ]
  },
  {
   "cell_type": "code",
   "metadata": {
    "id": "BvQl-o5eSpSV",
    "cell_id": "00043-cfbc449e-9b56-43c0-b5fc-69b563946f17",
    "deepnote_cell_height": 101.6875,
    "deepnote_cell_type": "code"
   },
   "source": "X = data_diabetes.iloc[:,:-1].values\ny = data_diabetes.Outcome\nX_train, X_test, y_train, y_test = train_test_split(X, y, test_size=0.25, random_state = 29)",
   "execution_count": null,
   "outputs": []
  },
  {
   "cell_type": "code",
   "metadata": {
    "colab": {
     "base_uri": "https://localhost:8080/"
    },
    "id": "XPMsY4JdS7T1",
    "outputId": "ed10aefe-5e29-48cd-def7-865cc31b28ed",
    "cell_id": "00044-a15a8d3f-6618-4219-9b41-ca677c44e281",
    "deepnote_cell_height": 284.9375,
    "deepnote_cell_type": "code"
   },
   "source": "modelo_lr = LogisticRegression()\nmodelo_lr.fit(X_train, y_train)\ny_pred = modelo_lr.predict(X_test)",
   "execution_count": null,
   "outputs": [
    {
     "output_type": "stream",
     "name": "stderr",
     "text": "/usr/local/lib/python3.7/dist-packages/sklearn/linear_model/_logistic.py:818: ConvergenceWarning: lbfgs failed to converge (status=1):\nSTOP: TOTAL NO. of ITERATIONS REACHED LIMIT.\n\nIncrease the number of iterations (max_iter) or scale the data as shown in:\n    https://scikit-learn.org/stable/modules/preprocessing.html\nPlease also refer to the documentation for alternative solver options:\n    https://scikit-learn.org/stable/modules/linear_model.html#logistic-regression\n  extra_warning_msg=_LOGISTIC_SOLVER_CONVERGENCE_MSG,\n"
    }
   ]
  },
  {
   "cell_type": "code",
   "metadata": {
    "colab": {
     "base_uri": "https://localhost:8080/"
    },
    "id": "kHf1H-DAUYLH",
    "outputId": "97da1ebe-a3c8-40c7-a815-ac751142aa1f",
    "cell_id": "00045-ed4ea0cd-9ed5-4ace-9fc0-a178d81d7c90",
    "deepnote_cell_height": 270.703125,
    "deepnote_output_heights": [
     174.15625
    ],
    "deepnote_cell_type": "code"
   },
   "source": "y_pred",
   "execution_count": null,
   "outputs": [
    {
     "output_type": "execute_result",
     "data": {
      "text/plain": "array([1, 0, 0, 1, 0, 0, 1, 0, 1, 1, 0, 0, 0, 1, 0, 0, 0, 0, 0, 0, 0, 0,\n       0, 0, 0, 0, 0, 1, 1, 0, 0, 1, 1, 1, 0, 0, 0, 0, 0, 0, 0, 0, 0, 0,\n       0, 1, 0, 0, 0, 0, 0, 0, 0, 0, 0, 1, 0, 1, 0, 1, 1, 1, 1, 0, 0, 1,\n       1, 0, 0, 0, 1, 0, 1, 1, 0, 1, 0, 0, 0, 0, 0, 0, 0, 0, 0, 0, 0, 1,\n       1, 0, 0, 0, 1, 0, 0, 0, 1, 0, 1, 0, 1, 0, 0, 0, 0, 1, 0, 1, 0, 0,\n       0, 0, 0, 0, 0, 0, 1, 0, 0, 0, 1, 0, 1, 0, 1, 0, 1, 0, 0, 1, 0, 0,\n       1, 1, 1, 0, 0, 0, 0, 1, 0, 0, 0, 0, 0, 1, 0, 0, 1, 1, 0, 0, 0, 0,\n       0, 1, 0, 0, 1, 0, 1, 1, 0, 0, 1, 0, 1, 0, 0, 0, 0, 0, 0, 1, 0, 0,\n       0, 1, 1, 0, 0, 0, 1, 0, 0, 0, 0, 1, 0, 0, 0, 1])"
     },
     "metadata": {},
     "execution_count": 138
    }
   ]
  },
  {
   "cell_type": "code",
   "metadata": {
    "colab": {
     "base_uri": "https://localhost:8080/"
    },
    "id": "K7gRZtAyU_Jc",
    "outputId": "83f04d89-c2b0-4623-848a-867f984aecd7",
    "cell_id": "00046-762ab7a5-0e2c-4017-a7dc-cab9e98e4843",
    "deepnote_cell_height": 190.8125,
    "deepnote_output_heights": [
     40.25
    ],
    "deepnote_cell_type": "code"
   },
   "source": "from sklearn.metrics import confusion_matrix\nimport seaborn as sns\nconf_matrix = confusion_matrix(y_test, y_pred)\nconf_matrix",
   "execution_count": null,
   "outputs": [
    {
     "output_type": "execute_result",
     "data": {
      "text/plain": "array([[109,  19],\n       [ 26,  38]])"
     },
     "metadata": {},
     "execution_count": 139
    }
   ]
  },
  {
   "cell_type": "code",
   "metadata": {
    "colab": {
     "base_uri": "https://localhost:8080/",
     "height": 332
    },
    "id": "pWDJdjyoVUcx",
    "outputId": "8d216473-3897-4e73-e7ea-a7f65a253202",
    "cell_id": "00047-0dff1a8b-9112-4ee5-99de-4ff35332c8b9",
    "deepnote_cell_height": 593.53125,
    "deepnote_output_heights": [
     316.984375
    ],
    "deepnote_cell_type": "code"
   },
   "source": "class_names = [0,1]\nfig, ax = plt.subplots()\ntick_marks = np.arange(len(class_names))\nplt.xticks(tick_marks, class_names)\nplt.xticks(tick_marks, class_names)\nsns.heatmap(pd.DataFrame(conf_matrix), annot=True, cmap='Blues_r', fmt='g')\nax.xaxis.set_label_position('top')\nplt.tight_layout()\nplt.title(\"Matriz de confusión\", y = 1.1, fontsize=18, fontweight=\"bold\")\nplt.xlabel(\"Predicción\", fontsize=14)\nplt.ylabel(\"Real\" , fontsize=14);",
   "execution_count": null,
   "outputs": [
    {
     "output_type": "display_data",
     "data": {
      "image/png": "[encoded data removed]",
      "text/plain": "<Figure size 432x288 with 2 Axes>"
     },
     "metadata": {
      "needs_background": "light",
      "image/png": {
       "width": 422,
       "height": 315
      }
     }
    }
   ]
  },
  {
   "cell_type": "code",
   "metadata": {
    "colab": {
     "base_uri": "https://localhost:8080/"
    },
    "id": "zDpgrh_iW_3L",
    "outputId": "1916edc6-4a88-4c44-ca1b-7c070ace2762",
    "cell_id": "00048-8df15ccb-13a3-48d9-833a-aa07b9e57a2b",
    "deepnote_cell_height": 128.671875,
    "deepnote_cell_type": "code"
   },
   "source": "from sklearn.metrics import accuracy_score\nprint(\"Accuracy {:.4f}\".format(accuracy_score(y_test, y_pred)))",
   "execution_count": null,
   "outputs": [
    {
     "output_type": "stream",
     "name": "stdout",
     "text": "Accuracy 0.7656\n"
    }
   ]
  },
  {
   "cell_type": "markdown",
   "source": "**Matriz de confusión**\n\nCada ejemplo o instancia basado en aquello que ha aprendido del conjunto de datos de entrenamiento. Estos modelos necesitan ser evaluados de alguna manera y posteriormente comparar los resultados obtenidos con aquellos que fueron entrenados.\n\nUna manera de hacerlo es mediante la matriz de confusión la cual nos permite evaluar el desempeño de un algoritmo de clasificación a partir del conteo de los aciertos y errores en cada una de las clases del algoritmo.\n\nComo su nombre lo dice tenemos una matriz que nos ayuda a evaluar la predicción mediante positivos y negativos como se muestra en la figura.\n\n![](https://static.platzi.com/media/user_upload/Prediccio%CC%81n-e3df59fc-ba05-4fa3-a8a7-f75289d3cd31.jpg)\n\nLos **verdaderos positivos (VP)** son aquellos que fueron clasificados correctamente como positivos por el modelo.\n\nLos **verdaderos negativos (VN)** corresponden a la cantidad de negativos que fueron clasificados correctamente como negativos por el modelo.\n\nLos **falsos negativos (FN)** es la cantidad de positivos que fueron clasificados incorrectamente como negativos.\n\nLos **falsos positivos (FP)** indican la cantidad de negativos que fueron clasificados incorrectamente como positivos.\n\nPara que lo anterior quede más claro consideremos el siguiente ejemplo.\n\nUn médico tiene cuatro pacientes y a cada uno se les solicitó un examen de sangre y por error el laboratorio realizó también un estudio de embarazo, cuando los pacientes llegan el médico les da los resultado.\n\nA la primera paciente le da la noticia que está embarazada y ella ya lo sabía dado que tiene 3 meses de embarazo, es decir, un verdadero positivo.\n\nEl siguiente paciente llega y le dice que no está embarazada y es una clasificación evidente dado que es hombre (Verdadero negativo).\n\nEl tercer paciente llega y los resultados le indican que no está embarazada sin embargo tiene cuatro meses de embarazo, es decir, que la ha clasificado como falso negativo.\n\nY por último el cuarto paciente sus resultados han indicado que está embarazado sin embargo es hombre por lo cual es imposible, dando como resultado un falso positivo.\n\nLo anterior es un proceso que se realiza por cada instancia a clasificar y nos permite calcular la exactitud y su tasa de error con las siguientes fórmulas.\n\n$Exactitud = \\frac{VP + VN}{total}$\n\n$TasaError=\\frac{FP+FN}{total}$\n\n***A mayor exactitud (accuracy) nuestro modelo ha aprendido mejor.***",
   "metadata": {
    "id": "39CAoXhXYSeH",
    "cell_id": "00049-da90bb52-b611-4caa-b7d4-d04dfa563c8c",
    "deepnote_cell_height": 1188.734375,
    "deepnote_cell_type": "markdown"
   }
  },
  {
   "cell_type": "markdown",
   "source": "# Árboles de decisión",
   "metadata": {
    "id": "q4wArjOvaC2X",
    "cell_id": "00050-5849fd18-b685-4275-a6b0-9933da13ec93",
    "deepnote_cell_height": 81,
    "deepnote_cell_type": "markdown"
   }
  },
  {
   "cell_type": "code",
   "metadata": {
    "id": "XjT5ItFxZbYY",
    "cell_id": "00051-942507d4-15bb-4da4-8674-e8f6b0561fbb",
    "deepnote_cell_height": 263.6875,
    "deepnote_cell_type": "code"
   },
   "source": "from ast import increment_lineno\nimport pandas as pd\nimport numpy as np\nimport matplotlib.pyplot as plt\n\nimport seaborn as sns\nimport re\nfrom sklearn import tree\nfrom sklearn.model_selection import train_test_split\n\n%matplotlib inline\nsns.set()",
   "execution_count": null,
   "outputs": []
  },
  {
   "cell_type": "code",
   "metadata": {
    "id": "NYkAlWEPcT12",
    "cell_id": "00052-6f94aec1-262d-49f0-8829-891f073f2846",
    "deepnote_cell_height": 83.6875,
    "deepnote_cell_type": "code"
   },
   "source": "titanic_test_df = pd.read_csv(\"titanic-test.csv\")\ntitanic_train_df = pd.read_csv(\"titanic-train.csv\")",
   "execution_count": null,
   "outputs": []
  },
  {
   "cell_type": "code",
   "metadata": {
    "colab": {
     "base_uri": "https://localhost:8080/",
     "height": 548
    },
    "id": "nvSUVCf8ctXS",
    "outputId": "bc24a311-be72-4aac-f761-1a93e00a054d",
    "cell_id": "00053-bcd435f4-67be-46b3-8d4d-0ed8399c4a91",
    "deepnote_cell_height": 268.96875,
    "deepnote_output_heights": [
     172.421875
    ],
    "deepnote_cell_type": "code"
   },
   "source": "titanic_train_df.head()",
   "execution_count": null,
   "outputs": [
    {
     "output_type": "execute_result",
     "data": {
      "text/html": "\n  <div id=\"df-ad3c6a84-1d69-467b-8d41-b692d3065e2e\">\n    <div class=\"colab-df-container\">\n      <div>\n<style scoped>\n    .dataframe tbody tr th:only-of-type {\n        vertical-align: middle;\n    }\n\n    .dataframe tbody tr th {\n        vertical-align: top;\n    }\n\n    .dataframe thead th {\n        text-align: right;\n    }\n</style>\n<table border=\"1\" class=\"dataframe\">\n  <thead>\n    <tr style=\"text-align: right;\">\n      <th></th>\n      <th>PassengerId</th>\n      <th>Survived</th>\n      <th>Pclass</th>\n      <th>Name</th>\n      <th>Sex</th>\n      <th>Age</th>\n      <th>SibSp</th>\n      <th>Parch</th>\n      <th>Ticket</th>\n      <th>Fare</th>\n      <th>Cabin</th>\n      <th>Embarked</th>\n    </tr>\n  </thead>\n  <tbody>\n    <tr>\n      <th>0</th>\n      <td>1</td>\n      <td>0</td>\n      <td>3</td>\n      <td>Braund, Mr. Owen Harris</td>\n      <td>male</td>\n      <td>22.0</td>\n      <td>1</td>\n      <td>0</td>\n      <td>A/5 21171</td>\n      <td>7.2500</td>\n      <td>NaN</td>\n      <td>S</td>\n    </tr>\n    <tr>\n      <th>1</th>\n      <td>2</td>\n      <td>1</td>\n      <td>1</td>\n      <td>Cumings, Mrs. John Bradley (Florence Briggs Th...</td>\n      <td>female</td>\n      <td>38.0</td>\n      <td>1</td>\n      <td>0</td>\n      <td>PC 17599</td>\n      <td>71.2833</td>\n      <td>C85</td>\n      <td>C</td>\n    </tr>\n    <tr>\n      <th>2</th>\n      <td>3</td>\n      <td>1</td>\n      <td>3</td>\n      <td>Heikkinen, Miss. Laina</td>\n      <td>female</td>\n      <td>26.0</td>\n      <td>0</td>\n      <td>0</td>\n      <td>STON/O2. 3101282</td>\n      <td>7.9250</td>\n      <td>NaN</td>\n      <td>S</td>\n    </tr>\n    <tr>\n      <th>3</th>\n      <td>4</td>\n      <td>1</td>\n      <td>1</td>\n      <td>Futrelle, Mrs. Jacques Heath (Lily May Peel)</td>\n      <td>female</td>\n      <td>35.0</td>\n      <td>1</td>\n      <td>0</td>\n      <td>113803</td>\n      <td>53.1000</td>\n      <td>C123</td>\n      <td>S</td>\n    </tr>\n    <tr>\n      <th>4</th>\n      <td>5</td>\n      <td>0</td>\n      <td>3</td>\n      <td>Allen, Mr. William Henry</td>\n      <td>male</td>\n      <td>35.0</td>\n      <td>0</td>\n      <td>0</td>\n      <td>373450</td>\n      <td>8.0500</td>\n      <td>NaN</td>\n      <td>S</td>\n    </tr>\n  </tbody>\n</table>\n</div>\n      <button class=\"colab-df-convert\" onclick=\"convertToInteractive('df-ad3c6a84-1d69-467b-8d41-b692d3065e2e')\"\n              title=\"Convert this dataframe to an interactive table.\"\n              style=\"display:none;\">\n        \n  <svg xmlns=\"http://www.w3.org/2000/svg\" height=\"24px\"viewBox=\"0 0 24 24\"\n       width=\"24px\">\n    <path d=\"M0 0h24v24H0V0z\" fill=\"none\"/>\n    <path d=\"M18.56 5.44l.94 2.06.94-2.06 2.06-.94-2.06-.94-.94-2.06-.94 2.06-2.06.94zm-11 1L8.5 8.5l.94-2.06 2.06-.94-2.06-.94L8.5 2.5l-.94 2.06-2.06.94zm10 10l.94 2.06.94-2.06 2.06-.94-2.06-.94-.94-2.06-.94 2.06-2.06.94z\"/><path d=\"M17.41 7.96l-1.37-1.37c-.4-.4-.92-.59-1.43-.59-.52 0-1.04.2-1.43.59L10.3 9.45l-7.72 7.72c-.78.78-.78 2.05 0 2.83L4 21.41c.39.39.9.59 1.41.59.51 0 1.02-.2 1.41-.59l7.78-7.78 2.81-2.81c.8-.78.8-2.07 0-2.86zM5.41 20L4 18.59l7.72-7.72 1.47 1.35L5.41 20z\"/>\n  </svg>\n      </button>\n      \n  <style>\n    .colab-df-container {\n      display:flex;\n      flex-wrap:wrap;\n      gap: 12px;\n    }\n\n    .colab-df-convert {\n      background-color: #E8F0FE;\n      border: none;\n      border-radius: 50%;\n      cursor: pointer;\n      display: none;\n      fill: #1967D2;\n      height: 32px;\n      padding: 0 0 0 0;\n      width: 32px;\n    }\n\n    .colab-df-convert:hover {\n      background-color: #E2EBFA;\n      box-shadow: 0px 1px 2px rgba(60, 64, 67, 0.3), 0px 1px 3px 1px rgba(60, 64, 67, 0.15);\n      fill: #174EA6;\n    }\n\n    [theme=dark] .colab-df-convert {\n      background-color: #3B4455;\n      fill: #D2E3FC;\n    }\n\n    [theme=dark] .colab-df-convert:hover {\n      background-color: #434B5C;\n      box-shadow: 0px 1px 3px 1px rgba(0, 0, 0, 0.15);\n      filter: drop-shadow(0px 1px 2px rgba(0, 0, 0, 0.3));\n      fill: #FFFFFF;\n    }\n  </style>\n\n      <script>\n        const buttonEl =\n          document.querySelector('#df-ad3c6a84-1d69-467b-8d41-b692d3065e2e button.colab-df-convert');\n        buttonEl.style.display =\n          google.colab.kernel.accessAllowed ? 'block' : 'none';\n\n        async function convertToInteractive(key) {\n          const element = document.querySelector('#df-ad3c6a84-1d69-467b-8d41-b692d3065e2e');\n          const dataTable =\n            await google.colab.kernel.invokeFunction('convertToInteractive',\n                                                     [key], {});\n          if (!dataTable) return;\n\n          const docLinkHtml = 'Like what you see? Visit the ' +\n            '<a target=\"_blank\" href=https://colab.research.google.com/notebooks/data_table.ipynb>data table notebook</a>'\n            + ' to learn more about interactive tables.';\n          element.innerHTML = '';\n          dataTable['output_type'] = 'display_data';\n          await google.colab.output.renderOutput(dataTable, element);\n          const docLink = document.createElement('div');\n          docLink.innerHTML = docLinkHtml;\n          element.appendChild(docLink);\n        }\n      </script>\n    </div>\n  </div>\n  ",
      "text/plain": "   PassengerId  Survived  Pclass  ...     Fare Cabin  Embarked\n0            1         0       3  ...   7.2500   NaN         S\n1            2         1       1  ...  71.2833   C85         C\n2            3         1       3  ...   7.9250   NaN         S\n3            4         1       1  ...  53.1000  C123         S\n4            5         0       3  ...   8.0500   NaN         S\n\n[5 rows x 12 columns]"
     },
     "metadata": {},
     "execution_count": 149
    }
   ]
  },
  {
   "cell_type": "code",
   "metadata": {
    "colab": {
     "base_uri": "https://localhost:8080/"
    },
    "id": "uX2gJnuHcyYe",
    "outputId": "daec3bdd-0882-48fa-b584-690416e3a321",
    "cell_id": "00054-16ee3170-4a22-4c3e-9d1b-a602e9cf3fdf",
    "deepnote_cell_height": 455.015625,
    "deepnote_cell_type": "code"
   },
   "source": "titanic_train_df.info()",
   "execution_count": null,
   "outputs": [
    {
     "output_type": "stream",
     "name": "stdout",
     "text": "<class 'pandas.core.frame.DataFrame'>\nRangeIndex: 891 entries, 0 to 890\nData columns (total 12 columns):\n #   Column       Non-Null Count  Dtype  \n---  ------       --------------  -----  \n 0   PassengerId  891 non-null    int64  \n 1   Survived     891 non-null    int64  \n 2   Pclass       891 non-null    int64  \n 3   Name         891 non-null    object \n 4   Sex          891 non-null    object \n 5   Age          714 non-null    float64\n 6   SibSp        891 non-null    int64  \n 7   Parch        891 non-null    int64  \n 8   Ticket       891 non-null    object \n 9   Fare         891 non-null    float64\n 10  Cabin        204 non-null    object \n 11  Embarked     889 non-null    object \ndtypes: float64(2), int64(5), object(5)\nmemory usage: 83.7+ KB\n"
    }
   ]
  },
  {
   "cell_type": "code",
   "metadata": {
    "colab": {
     "base_uri": "https://localhost:8080/",
     "height": 317
    },
    "id": "zevLc8Y6dIGt",
    "outputId": "ec141a4a-3f8e-443f-96aa-be28ceb97b4f",
    "cell_id": "00055-83a17c3e-5cdf-47bc-8109-b0d416f8b8d1",
    "deepnote_cell_height": 434.546875,
    "deepnote_output_heights": [
     301.984375
    ],
    "deepnote_cell_type": "code"
   },
   "source": "titanic_train_df.Sex.value_counts().plot(kind = 'bar', color = ['b', 'r'])\nplt.title(\"Distribución de pasajeros\", fontsize=18, fontweight=\"bold\")\nplt.show();",
   "execution_count": null,
   "outputs": [
    {
     "output_type": "display_data",
     "data": {
      "image/png": "[encoded data removed]",
      "text/plain": "<Figure size 432x288 with 1 Axes>"
     },
     "metadata": {
      "needs_background": "light",
      "image/png": {
       "width": 379,
       "height": 300
      }
     }
    }
   ]
  },
  {
   "cell_type": "code",
   "metadata": {
    "id": "bUqo5tqadmpG",
    "cell_id": "00056-319f5e53-b884-4f3c-a581-1cbc9b416f05",
    "deepnote_cell_height": 119.6875,
    "deepnote_cell_type": "code"
   },
   "source": "from sklearn.preprocessing import LabelEncoder\nle = LabelEncoder()\n\nencoder_sex = le.fit_transform(titanic_train_df.Sex)",
   "execution_count": null,
   "outputs": []
  },
  {
   "cell_type": "code",
   "metadata": {
    "id": "V0YrK62keWgg",
    "cell_id": "00057-0a04308e-ad2b-48f2-b218-4f354fbcc7fa",
    "deepnote_cell_height": 83.6875,
    "deepnote_cell_type": "code"
   },
   "source": "titanic_train_df['Age'] = titanic_train_df.Age.fillna(titanic_train_df.Age.median())\ntitanic_train_df.Embarked = titanic_train_df.Embarked.fillna('S')",
   "execution_count": null,
   "outputs": []
  },
  {
   "cell_type": "code",
   "metadata": {
    "id": "h73InWYbez40",
    "cell_id": "00058-795f834e-bea2-439b-aee0-8e5088884a5f",
    "deepnote_cell_height": 101.6875,
    "deepnote_cell_type": "code"
   },
   "source": "train_predictors = titanic_train_df.drop(['PassengerId','Survived','Name','Ticket', 'Cabin'], axis=1)\ncategorial_cols = [cname for cname in train_predictors.columns if train_predictors[cname].nunique() < 10 and\n                   train_predictors[cname].dtype == 'object']",
   "execution_count": null,
   "outputs": []
  },
  {
   "cell_type": "code",
   "metadata": {
    "id": "hhfuazAwfkID",
    "cell_id": "00059-713d2a93-a4ed-454f-a060-c97a3e229986",
    "deepnote_cell_height": 83.6875,
    "deepnote_cell_type": "code"
   },
   "source": "numerical_cols = [cname for cname in train_predictors.columns if \n                   train_predictors[cname].dtype in ['int64','float64']]",
   "execution_count": null,
   "outputs": []
  },
  {
   "cell_type": "code",
   "metadata": {
    "id": "MiyzEJTUf6qM",
    "cell_id": "00060-55691dce-ae94-4765-a2dd-9f9ee371f4da",
    "deepnote_cell_height": 83.6875,
    "deepnote_cell_type": "code"
   },
   "source": "my_cols = categorial_cols + numerical_cols\ntrain_predictors = train_predictors[my_cols]",
   "execution_count": null,
   "outputs": []
  },
  {
   "cell_type": "code",
   "metadata": {
    "id": "FIMG6ELWgERU",
    "cell_id": "00061-e798fa4c-7332-422d-ba55-e3d3d322bc68",
    "deepnote_cell_height": 65.6875,
    "deepnote_cell_type": "code"
   },
   "source": "dummy_encoded_train_predictors = pd.get_dummies(train_predictors)",
   "execution_count": null,
   "outputs": []
  },
  {
   "cell_type": "code",
   "metadata": {
    "colab": {
     "base_uri": "https://localhost:8080/",
     "height": 424
    },
    "id": "p1ctVvo7kTb2",
    "outputId": "71b3a5ce-879f-48ca-9b14-c5ead09bde1a",
    "cell_id": "00062-632142c6-336e-4e4e-b623-afe1a1f48e28",
    "deepnote_cell_height": 469.65625,
    "deepnote_output_heights": [
     373.109375
    ],
    "deepnote_cell_type": "code"
   },
   "source": "dummy_encoded_train_predictors",
   "execution_count": null,
   "outputs": [
    {
     "output_type": "execute_result",
     "data": {
      "text/html": "\n  <div id=\"df-9a7d1d07-fbe0-41b2-a7cb-4117a7f7f85a\">\n    <div class=\"colab-df-container\">\n      <div>\n<style scoped>\n    .dataframe tbody tr th:only-of-type {\n        vertical-align: middle;\n    }\n\n    .dataframe tbody tr th {\n        vertical-align: top;\n    }\n\n    .dataframe thead th {\n        text-align: right;\n    }\n</style>\n<table border=\"1\" class=\"dataframe\">\n  <thead>\n    <tr style=\"text-align: right;\">\n      <th></th>\n      <th>Pclass</th>\n      <th>Age</th>\n      <th>SibSp</th>\n      <th>Parch</th>\n      <th>Fare</th>\n      <th>Sex_female</th>\n      <th>Sex_male</th>\n      <th>Embarked_C</th>\n      <th>Embarked_Q</th>\n      <th>Embarked_S</th>\n    </tr>\n  </thead>\n  <tbody>\n    <tr>\n      <th>0</th>\n      <td>3</td>\n      <td>22.0</td>\n      <td>1</td>\n      <td>0</td>\n      <td>7.2500</td>\n      <td>0</td>\n      <td>1</td>\n      <td>0</td>\n      <td>0</td>\n      <td>1</td>\n    </tr>\n    <tr>\n      <th>1</th>\n      <td>1</td>\n      <td>38.0</td>\n      <td>1</td>\n      <td>0</td>\n      <td>71.2833</td>\n      <td>1</td>\n      <td>0</td>\n      <td>1</td>\n      <td>0</td>\n      <td>0</td>\n    </tr>\n    <tr>\n      <th>2</th>\n      <td>3</td>\n      <td>26.0</td>\n      <td>0</td>\n      <td>0</td>\n      <td>7.9250</td>\n      <td>1</td>\n      <td>0</td>\n      <td>0</td>\n      <td>0</td>\n      <td>1</td>\n    </tr>\n    <tr>\n      <th>3</th>\n      <td>1</td>\n      <td>35.0</td>\n      <td>1</td>\n      <td>0</td>\n      <td>53.1000</td>\n      <td>1</td>\n      <td>0</td>\n      <td>0</td>\n      <td>0</td>\n      <td>1</td>\n    </tr>\n    <tr>\n      <th>4</th>\n      <td>3</td>\n      <td>35.0</td>\n      <td>0</td>\n      <td>0</td>\n      <td>8.0500</td>\n      <td>0</td>\n      <td>1</td>\n      <td>0</td>\n      <td>0</td>\n      <td>1</td>\n    </tr>\n    <tr>\n      <th>...</th>\n      <td>...</td>\n      <td>...</td>\n      <td>...</td>\n      <td>...</td>\n      <td>...</td>\n      <td>...</td>\n      <td>...</td>\n      <td>...</td>\n      <td>...</td>\n      <td>...</td>\n    </tr>\n    <tr>\n      <th>886</th>\n      <td>2</td>\n      <td>27.0</td>\n      <td>0</td>\n      <td>0</td>\n      <td>13.0000</td>\n      <td>0</td>\n      <td>1</td>\n      <td>0</td>\n      <td>0</td>\n      <td>1</td>\n    </tr>\n    <tr>\n      <th>887</th>\n      <td>1</td>\n      <td>19.0</td>\n      <td>0</td>\n      <td>0</td>\n      <td>30.0000</td>\n      <td>1</td>\n      <td>0</td>\n      <td>0</td>\n      <td>0</td>\n      <td>1</td>\n    </tr>\n    <tr>\n      <th>888</th>\n      <td>3</td>\n      <td>28.0</td>\n      <td>1</td>\n      <td>2</td>\n      <td>23.4500</td>\n      <td>1</td>\n      <td>0</td>\n      <td>0</td>\n      <td>0</td>\n      <td>1</td>\n    </tr>\n    <tr>\n      <th>889</th>\n      <td>1</td>\n      <td>26.0</td>\n      <td>0</td>\n      <td>0</td>\n      <td>30.0000</td>\n      <td>0</td>\n      <td>1</td>\n      <td>1</td>\n      <td>0</td>\n      <td>0</td>\n    </tr>\n    <tr>\n      <th>890</th>\n      <td>3</td>\n      <td>32.0</td>\n      <td>0</td>\n      <td>0</td>\n      <td>7.7500</td>\n      <td>0</td>\n      <td>1</td>\n      <td>0</td>\n      <td>1</td>\n      <td>0</td>\n    </tr>\n  </tbody>\n</table>\n<p>891 rows × 10 columns</p>\n</div>\n      <button class=\"colab-df-convert\" onclick=\"convertToInteractive('df-9a7d1d07-fbe0-41b2-a7cb-4117a7f7f85a')\"\n              title=\"Convert this dataframe to an interactive table.\"\n              style=\"display:none;\">\n        \n  <svg xmlns=\"http://www.w3.org/2000/svg\" height=\"24px\"viewBox=\"0 0 24 24\"\n       width=\"24px\">\n    <path d=\"M0 0h24v24H0V0z\" fill=\"none\"/>\n    <path d=\"M18.56 5.44l.94 2.06.94-2.06 2.06-.94-2.06-.94-.94-2.06-.94 2.06-2.06.94zm-11 1L8.5 8.5l.94-2.06 2.06-.94-2.06-.94L8.5 2.5l-.94 2.06-2.06.94zm10 10l.94 2.06.94-2.06 2.06-.94-2.06-.94-.94-2.06-.94 2.06-2.06.94z\"/><path d=\"M17.41 7.96l-1.37-1.37c-.4-.4-.92-.59-1.43-.59-.52 0-1.04.2-1.43.59L10.3 9.45l-7.72 7.72c-.78.78-.78 2.05 0 2.83L4 21.41c.39.39.9.59 1.41.59.51 0 1.02-.2 1.41-.59l7.78-7.78 2.81-2.81c.8-.78.8-2.07 0-2.86zM5.41 20L4 18.59l7.72-7.72 1.47 1.35L5.41 20z\"/>\n  </svg>\n      </button>\n      \n  <style>\n    .colab-df-container {\n      display:flex;\n      flex-wrap:wrap;\n      gap: 12px;\n    }\n\n    .colab-df-convert {\n      background-color: #E8F0FE;\n      border: none;\n      border-radius: 50%;\n      cursor: pointer;\n      display: none;\n      fill: #1967D2;\n      height: 32px;\n      padding: 0 0 0 0;\n      width: 32px;\n    }\n\n    .colab-df-convert:hover {\n      background-color: #E2EBFA;\n      box-shadow: 0px 1px 2px rgba(60, 64, 67, 0.3), 0px 1px 3px 1px rgba(60, 64, 67, 0.15);\n      fill: #174EA6;\n    }\n\n    [theme=dark] .colab-df-convert {\n      background-color: #3B4455;\n      fill: #D2E3FC;\n    }\n\n    [theme=dark] .colab-df-convert:hover {\n      background-color: #434B5C;\n      box-shadow: 0px 1px 3px 1px rgba(0, 0, 0, 0.15);\n      filter: drop-shadow(0px 1px 2px rgba(0, 0, 0, 0.3));\n      fill: #FFFFFF;\n    }\n  </style>\n\n      <script>\n        const buttonEl =\n          document.querySelector('#df-9a7d1d07-fbe0-41b2-a7cb-4117a7f7f85a button.colab-df-convert');\n        buttonEl.style.display =\n          google.colab.kernel.accessAllowed ? 'block' : 'none';\n\n        async function convertToInteractive(key) {\n          const element = document.querySelector('#df-9a7d1d07-fbe0-41b2-a7cb-4117a7f7f85a');\n          const dataTable =\n            await google.colab.kernel.invokeFunction('convertToInteractive',\n                                                     [key], {});\n          if (!dataTable) return;\n\n          const docLinkHtml = 'Like what you see? Visit the ' +\n            '<a target=\"_blank\" href=https://colab.research.google.com/notebooks/data_table.ipynb>data table notebook</a>'\n            + ' to learn more about interactive tables.';\n          element.innerHTML = '';\n          dataTable['output_type'] = 'display_data';\n          await google.colab.output.renderOutput(dataTable, element);\n          const docLink = document.createElement('div');\n          docLink.innerHTML = docLinkHtml;\n          element.appendChild(docLink);\n        }\n      </script>\n    </div>\n  </div>\n  ",
      "text/plain": "     Pclass   Age  SibSp  Parch  ...  Sex_male  Embarked_C  Embarked_Q  Embarked_S\n0         3  22.0      1      0  ...         1           0           0           1\n1         1  38.0      1      0  ...         0           1           0           0\n2         3  26.0      0      0  ...         0           0           0           1\n3         1  35.0      1      0  ...         0           0           0           1\n4         3  35.0      0      0  ...         1           0           0           1\n..      ...   ...    ...    ...  ...       ...         ...         ...         ...\n886       2  27.0      0      0  ...         1           0           0           1\n887       1  19.0      0      0  ...         0           0           0           1\n888       3  28.0      1      2  ...         0           0           0           1\n889       1  26.0      0      0  ...         1           1           0           0\n890       3  32.0      0      0  ...         1           0           1           0\n\n[891 rows x 10 columns]"
     },
     "metadata": {},
     "execution_count": 11
    }
   ]
  },
  {
   "cell_type": "code",
   "metadata": {
    "colab": {
     "base_uri": "https://localhost:8080/"
    },
    "id": "WewUcWUJgM5X",
    "outputId": "0bc4b33e-f96f-4364-da96-35305b9b94b9",
    "cell_id": "00063-a3487cc2-d5b3-4a8c-b7de-9622c698c576",
    "deepnote_cell_height": 175.046875,
    "deepnote_output_heights": [
     78.5
    ],
    "deepnote_cell_type": "code"
   },
   "source": "titanic_train_df.Pclass.value_counts()",
   "execution_count": null,
   "outputs": [
    {
     "output_type": "execute_result",
     "data": {
      "text/plain": "3    491\n1    216\n2    184\nName: Pclass, dtype: int64"
     },
     "metadata": {},
     "execution_count": 12
    }
   ]
  },
  {
   "cell_type": "code",
   "metadata": {
    "id": "HV28noy8gnRr",
    "cell_id": "00064-ca9b8183-f7a4-4f31-9323-84dccd4df5fe",
    "deepnote_cell_height": 83.6875,
    "deepnote_cell_type": "code"
   },
   "source": "y_target = titanic_train_df.Survived\nX_features_one = dummy_encoded_train_predictors.values",
   "execution_count": null,
   "outputs": []
  },
  {
   "cell_type": "code",
   "metadata": {
    "colab": {
     "base_uri": "https://localhost:8080/"
    },
    "id": "QNBRJ3BCjTvs",
    "outputId": "c1803795-2897-489a-b08b-d795372a5ff8",
    "cell_id": "00065-893712e1-51ff-482e-a99a-1725b093beee",
    "deepnote_cell_height": 147.8125,
    "deepnote_cell_type": "code"
   },
   "source": "print(X_features_one.shape)\nprint(titanic_train_df.shape)",
   "execution_count": null,
   "outputs": [
    {
     "output_type": "stream",
     "name": "stdout",
     "text": "(891, 10)\n(891, 12)\n"
    }
   ]
  },
  {
   "cell_type": "code",
   "metadata": {
    "id": "KsRyFIjGgzFU",
    "cell_id": "00066-e6433527-e477-4cd4-8c9b-fd840835b058",
    "deepnote_cell_height": 83.6875,
    "deepnote_cell_type": "code"
   },
   "source": "# Separación de la data en entrenamiento y prueba\nX_train, X_test, y_train, y_test = train_test_split(X_features_one, y_target, test_size=0.25, random_state = 29)",
   "execution_count": null,
   "outputs": []
  },
  {
   "cell_type": "code",
   "metadata": {
    "colab": {
     "base_uri": "https://localhost:8080/"
    },
    "id": "uTevJo5Uw2gd",
    "outputId": "a6a7370c-0149-45af-c4bd-7d35a6ef56af",
    "cell_id": "00067-e34066d5-9113-4717-a5f0-dcad0c0dc583",
    "deepnote_cell_height": 278.328125,
    "deepnote_cell_type": "code"
   },
   "source": "# Muestra los shape de los distintos conjuntos de datos\nprint(\"Size data train :\", titanic_train_df.shape[0])\nprint(\"75% data train :\", round(titanic_train_df.shape[0]*0.75))\nfor x_data in [X_train, X_test, y_train, y_test]:\n  print(x_data.shape)",
   "execution_count": null,
   "outputs": [
    {
     "output_type": "stream",
     "name": "stdout",
     "text": "Size data train : 891\n75% data train : 668\n(668, 10)\n(223, 10)\n(668,)\n(223,)\n"
    }
   ]
  },
  {
   "cell_type": "code",
   "metadata": {
    "id": "OzjDT8i7hHTT",
    "cell_id": "00068-bfa919ea-3158-4ef3-8a60-2459857eb1cc",
    "deepnote_cell_height": 101.6875,
    "deepnote_cell_type": "code"
   },
   "source": "# Crea el modelo y lo entrena \nmodel_tree = tree.DecisionTreeClassifier()\nmodel_tree = model_tree.fit(X_train, y_train)",
   "execution_count": null,
   "outputs": []
  },
  {
   "cell_type": "code",
   "metadata": {
    "colab": {
     "base_uri": "https://localhost:8080/"
    },
    "id": "eI4nRXTLhaMf",
    "outputId": "f6454cea-8089-4214-f885-e1065991f9da",
    "cell_id": "00069-4eb3e1ef-ae8b-41b0-a3f6-140404167570",
    "deepnote_cell_height": 201.8125,
    "deepnote_cell_type": "code"
   },
   "source": "# Exactitud del modelo en entrenamiento y en testing\naccuracy_train = round(model_tree.score(X_train, y_train), 4)\nprint(\"Accuracy Train : %0.4f\" % accuracy_train)\naccuracy_test = round(model_tree.score(X_test, y_test), 4)\nprint(\"Accuracy Test : %0.4f\" % accuracy_test)",
   "execution_count": null,
   "outputs": [
    {
     "output_type": "stream",
     "name": "stdout",
     "text": "Accuracy Train : 0.9820\nAccuracy Test : 0.7578\n"
    }
   ]
  },
  {
   "cell_type": "markdown",
   "source": "## Validación del modelo",
   "metadata": {
    "id": "fFoxuPF3v3FB",
    "cell_id": "00070-6451aa33-b01e-45c4-8eaa-a20708148b87",
    "deepnote_cell_height": 69.6875,
    "deepnote_cell_type": "markdown"
   }
  },
  {
   "cell_type": "code",
   "metadata": {
    "id": "6BVhPM69m92H",
    "cell_id": "00071-110d74b4-5c87-463f-8d1a-27e96d460948",
    "deepnote_cell_height": 83.6875,
    "deepnote_cell_type": "code"
   },
   "source": "# Realiza las predicciones\ny_pred = model_tree.predict(X_test)",
   "execution_count": null,
   "outputs": []
  },
  {
   "cell_type": "code",
   "metadata": {
    "id": "Wl9tbKlyiK9w",
    "cell_id": "00072-3d63948f-3170-4998-9f31-734ee7673970",
    "deepnote_cell_height": 101.6875,
    "deepnote_cell_type": "code"
   },
   "source": "# Obtiene la matriz de confusión\nfrom sklearn.metrics import confusion_matrix, ConfusionMatrixDisplay, accuracy_score\ncm = confusion_matrix(y_test, y_pred, labels=model_tree.classes_)",
   "execution_count": null,
   "outputs": []
  },
  {
   "cell_type": "code",
   "metadata": {
    "colab": {
     "base_uri": "https://localhost:8080/",
     "height": 306
    },
    "id": "ME9T_bCzsCay",
    "outputId": "ca1e5cb0-a65e-42e8-c5f0-ea00fcd97d77",
    "cell_id": "00073-b5e6dcc7-e377-4d29-be7d-917d8e91e467",
    "deepnote_cell_height": 513.53125,
    "deepnote_output_heights": [
     290.984375
    ],
    "deepnote_cell_type": "code"
   },
   "source": "# Visualiza la matriz de confusión\ndisp_cm = ConfusionMatrixDisplay(confusion_matrix=cm, display_labels=model_tree.classes_)\ndisp_cm.plot()\nplt.grid(b=False)\nplt.xlabel(\"Predicción\", fontsize=14)\nplt.ylabel(\"Real\", fontsize=14)\nplt.title(\"Matriz de confusión\", fontsize=18, fontweight=\"bold\")\nplt.show();",
   "execution_count": null,
   "outputs": [
    {
     "output_type": "display_data",
     "data": {
      "image/png": "[encoded data removed]",
      "text/plain": "<Figure size 432x288 with 2 Axes>"
     },
     "metadata": {
      "needs_background": "light",
      "image/png": {
       "width": 324,
       "height": 289
      }
     }
    }
   ]
  },
  {
   "cell_type": "code",
   "metadata": {
    "colab": {
     "base_uri": "https://localhost:8080/"
    },
    "id": "VcS7eU2XimGP",
    "outputId": "9b257416-4a71-40fa-bbb1-487973f4d18b",
    "cell_id": "00074-97a6b7e7-c7ef-4306-baba-92205d3f8194",
    "deepnote_cell_height": 110.671875,
    "deepnote_cell_type": "code"
   },
   "source": "print(\"Accuracy Model : %0.4f\" % accuracy_score(y_test, y_pred))",
   "execution_count": null,
   "outputs": [
    {
     "output_type": "stream",
     "name": "stdout",
     "text": "Accuracy Model : 0.7578\n"
    }
   ]
  },
  {
   "cell_type": "code",
   "metadata": {
    "colab": {
     "base_uri": "https://localhost:8080/"
    },
    "id": "zHxZvbTXi1gO",
    "outputId": "7a71e5ca-ccb4-40f1-db6b-77fb74e4f0d4",
    "cell_id": "00075-243d8370-3949-4c87-adb3-3e8259281819",
    "deepnote_cell_height": 164.6875,
    "deepnote_cell_type": "code"
   },
   "source": "# Calculado a mano usando la matriz de confusión\ntotal = cm.sum()\ntn, fp, fn, tp = cm.ravel()\nprint(\"Accuracy Model : %0.4f\" % round((tp+tn)/total, 4))",
   "execution_count": null,
   "outputs": [
    {
     "output_type": "stream",
     "name": "stdout",
     "text": "Accuracy Model : 0.7578\n"
    }
   ]
  },
  {
   "cell_type": "code",
   "metadata": {
    "colab": {
     "base_uri": "https://localhost:8080/"
    },
    "id": "LnJ4ibXxwiLa",
    "outputId": "8cf50774-b8de-4c80-fd3b-31c2c5424033",
    "cell_id": "00076-3b206285-5d58-4976-ab8e-a4f05c78f803",
    "deepnote_cell_height": 299.71875,
    "deepnote_cell_type": "code"
   },
   "source": "# Reporte de clasificación\nfrom sklearn.metrics import classification_report\nprint(classification_report(y_test, y_pred))",
   "execution_count": null,
   "outputs": [
    {
     "output_type": "stream",
     "name": "stdout",
     "text": "              precision    recall  f1-score   support\n\n           0       0.84      0.78      0.81       147\n           1       0.62      0.72      0.67        76\n\n    accuracy                           0.76       223\n   macro avg       0.73      0.75      0.74       223\nweighted avg       0.77      0.76      0.76       223\n\n"
    }
   ]
  },
  {
   "cell_type": "markdown",
   "source": "A continuación se muestra el cálculo de las métricas que saca el reporte.",
   "metadata": {
    "id": "HOcwaLXO6HoA",
    "cell_id": "00077-233723bb-1bbf-467f-9915-7612bcc58342",
    "deepnote_cell_height": 51.4375,
    "deepnote_cell_type": "markdown"
   }
  },
  {
   "cell_type": "code",
   "metadata": {
    "colab": {
     "base_uri": "https://localhost:8080/"
    },
    "id": "l0jSc0kGzK-7",
    "outputId": "7d9cd44d-ba9f-4a6d-dbca-f4075b5ec577",
    "cell_id": "00078-e03ea63b-ffd8-4d2c-82e4-7ef2ea505345",
    "deepnote_cell_height": 280.40625,
    "deepnote_cell_type": "code"
   },
   "source": "from sklearn.metrics import precision_recall_fscore_support\nfor x_average in ['macro', 'micro', 'weighted']:\n  print(\"Precision-Recall-f1score with {0} : {1}\".format(x_average, \n                                                         precision_recall_fscore_support(y_test, y_pred, average=x_average)))\n  \nprint(\"Precision-Recall-f1score without average : {}\".format( \n                                                         precision_recall_fscore_support(y_test, y_pred)))  ",
   "execution_count": null,
   "outputs": [
    {
     "output_type": "stream",
     "name": "stdout",
     "text": "Precision-Recall-f1score with macro : (0.7347222222222223, 0.7495972073039743, 0.7396211728074726, None)\nPrecision-Recall-f1score with micro : (0.757847533632287, 0.757847533632287, 0.7578475336322871, None)\nPrecision-Recall-f1score with weighted : (0.7696562032884903, 0.757847533632287, 0.7615545900712322, None)\nPrecision-Recall-f1score without average : (array([0.84444444, 0.625     ]), array([0.7755102 , 0.72368421]), array([0.80851064, 0.67073171]), array([147,  76]))\n"
    }
   ]
  },
  {
   "cell_type": "markdown",
   "source": "**OBS.** El cálculo de las 3 métricas sin usar el parámetro average retorna un arreglo de 2 ubicaciones porque son 2 clases y sus valores coinciden con el reporte de clasificación",
   "metadata": {
    "id": "i-oI9dxv55_2",
    "cell_id": "00079-9ed5fd84-c62b-44c9-960b-a38503f8f31b",
    "deepnote_cell_height": 73.171875,
    "deepnote_cell_type": "markdown"
   }
  },
  {
   "cell_type": "code",
   "metadata": {
    "colab": {
     "base_uri": "https://localhost:8080/"
    },
    "id": "pYoCLH5X0St_",
    "outputId": "69b73b07-88e9-45e8-db13-fa32d8895e36",
    "cell_id": "00080-f1684e43-86d1-4881-a5bf-12aadd5cbfa6",
    "deepnote_cell_height": 222.078125,
    "deepnote_cell_type": "code"
   },
   "source": "from sklearn.metrics import precision_score\nfor x_average in ['macro', 'micro', 'weighted']:\n  print(\"Precision with average {0} : {1:.4f}\".format(x_average, precision_score(y_test, y_pred, average=x_average)))\nprint(\"Precision without average : {1:.4f}\".format(x_average, precision_score(y_test, y_pred)))  ",
   "execution_count": null,
   "outputs": [
    {
     "output_type": "stream",
     "name": "stdout",
     "text": "Precision with average macro : 0.7242\nPrecision with average micro : 0.7489\nPrecision with average weighted : 0.7586\nPrecision without average : 0.6163\n"
    }
   ]
  },
  {
   "cell_type": "code",
   "metadata": {
    "colab": {
     "base_uri": "https://localhost:8080/"
    },
    "id": "zL3UlqjA03Gd",
    "outputId": "c7611967-952e-4761-d573-b104d3dea1e7",
    "cell_id": "00081-ac430251-25bd-4aac-a4f9-845bfdc412fa",
    "deepnote_cell_height": 240.078125,
    "deepnote_cell_type": "code"
   },
   "source": "from sklearn.metrics import recall_score\nfor x_average in ['macro', 'micro', 'weighted']:\n  print(\"Recall with average {0} : {1:.4f}\".format(x_average, recall_score(y_test, y_pred, average=x_average)))\n\nprint(\"Recall without average : {1:.4f}\".format(x_average, recall_score(y_test, y_pred)))  ",
   "execution_count": null,
   "outputs": [
    {
     "output_type": "stream",
     "name": "stdout",
     "text": "Recall with average macro : 0.7364\nRecall with average micro : 0.7489\nRecall with average weighted : 0.7489\nRecall without average : 0.6974\n"
    }
   ]
  },
  {
   "cell_type": "code",
   "metadata": {
    "colab": {
     "base_uri": "https://localhost:8080/"
    },
    "id": "dN9a8xnq1gq-",
    "outputId": "136cf1f8-4418-4dee-807d-a6fcc3304dd1",
    "cell_id": "00082-773fea46-6fdc-481a-b4cb-29b704c06c79",
    "deepnote_cell_height": 240.078125,
    "deepnote_cell_type": "code"
   },
   "source": "from sklearn.metrics import f1_score\nfor x_average in ['macro', 'micro', 'weighted']:\n  print(\"F1 score with average {0} : {1:.4f}\".format(x_average, f1_score(y_test, y_pred, average=x_average)))\n\nprint(\"F1 score without average {0} : {1:.4f}\".format(x_average, f1_score(y_test, y_pred)))  ",
   "execution_count": null,
   "outputs": [
    {
     "output_type": "stream",
     "name": "stdout",
     "text": "F1 score with average macro : 0.7286\nF1 score with average micro : 0.7489\nF1 score with average weighted : 0.7522\nF1 score without average weighted : 0.6543\n"
    }
   ]
  },
  {
   "cell_type": "code",
   "metadata": {
    "colab": {
     "base_uri": "https://localhost:8080/"
    },
    "id": "VCUMG-fR1zPi",
    "outputId": "9079e9e1-7c35-4e72-a449-6264ccf08d0a",
    "cell_id": "00083-347dee20-3268-4727-9657-fe01be905302",
    "deepnote_cell_height": 153.65625,
    "deepnote_output_heights": [
     21.109375
    ],
    "deepnote_cell_type": "code"
   },
   "source": "from sklearn.metrics import auc, roc_curve\nfpr, tpr, thresholds = roc_curve(np.sort(y_test), y_pred, pos_label=1)\nauc(fpr, tpr)",
   "execution_count": null,
   "outputs": [
    {
     "output_type": "execute_result",
     "data": {
      "text/plain": "0.4669709989258861"
     },
     "metadata": {},
     "execution_count": 285
    }
   ]
  },
  {
   "cell_type": "code",
   "metadata": {
    "colab": {
     "base_uri": "https://localhost:8080/"
    },
    "id": "R67XdKQJ22M7",
    "outputId": "3a15a0fb-c8c7-41ab-bcf0-b1cb0671a515",
    "cell_id": "00084-ef531311-c6fb-4a3a-87df-ed0b5a131bcf",
    "deepnote_cell_height": 135.65625,
    "deepnote_output_heights": [
     21.109375
    ],
    "deepnote_cell_type": "code"
   },
   "source": "from sklearn.metrics import average_precision_score\naverage_precision_score(y_test, y_pred)",
   "execution_count": null,
   "outputs": [
    {
     "output_type": "execute_result",
     "data": {
      "text/plain": "0.5329125752644203"
     },
     "metadata": {},
     "execution_count": 286
    }
   ]
  },
  {
   "cell_type": "code",
   "metadata": {
    "colab": {
     "base_uri": "https://localhost:8080/"
    },
    "id": "rJnTwZHh3343",
    "outputId": "c3ece455-ef7a-4478-9473-1cb0fa15f6a9",
    "cell_id": "00085-882afa7b-ca23-4cdf-92a1-f68ffda077dc",
    "deepnote_cell_height": 292.9375,
    "deepnote_cell_type": "code"
   },
   "source": "# Calculado a mano usando la matriz de confusión\ntotal = cm.sum()\ntn, fp, fn, tp = cm.ravel()\nprecision_manual = tp/(tp+fp)\nrecall_manual = tp/(tp+fn)\nf1_score_manual = 2*(precision_manual*recall_manual/(precision_manual + recall_manual))\nprint(\"Precision : {:.4f}\".format(precision_manual))\nprint(\"Recall : {:.4f}\".format(recall_manual))\nprint(\"F1-score  {:.4f}\".format(f1_score_manual))",
   "execution_count": null,
   "outputs": [
    {
     "output_type": "stream",
     "name": "stdout",
     "text": "Precision : 0.6163\nRecall : 0.6974\nF1-score  0.6543\n"
    }
   ]
  },
  {
   "cell_type": "markdown",
   "source": "**OBS.** Al calcular las medidas a partir de lo que la matriz de confusión entrega se tiene que los valores coinciden con los valores retornados por los métodos correspondientes a las métricas sin usar el argumento ***average***.",
   "metadata": {
    "id": "97EdW7Dc7Rvq",
    "cell_id": "00086-feec8741-8863-4222-9af9-8cb6190726fd",
    "deepnote_cell_height": 94.90625,
    "deepnote_cell_type": "markdown"
   }
  },
  {
   "cell_type": "markdown",
   "source": "\n\n---\n\n",
   "metadata": {
    "id": "aMKD14Y8vh8E",
    "cell_id": "00087-2027e6f1-3f66-40b6-b73c-490830c27524",
    "deepnote_cell_height": 105.625,
    "deepnote_cell_type": "markdown"
   }
  },
  {
   "cell_type": "markdown",
   "source": "## Limpieza y transformación de la data de test\n\nEste dataset **NO se usa**, dado que no contiene la columna de ***Survived*** por lo que no sirve para el test; sin embargo, se ejercita con las rutinas de preprocesamiento (limpieza y transformación)",
   "metadata": {
    "id": "Tan3zSsflH4x",
    "cell_id": "00088-06508d67-5ccc-42db-81e6-10ddb78d5265",
    "deepnote_cell_height": 129.15625,
    "deepnote_cell_type": "markdown"
   }
  },
  {
   "cell_type": "code",
   "metadata": {
    "colab": {
     "base_uri": "https://localhost:8080/"
    },
    "id": "S0a9XCQRo6_z",
    "outputId": "4751d896-c64c-4f33-963f-9dea622952a6",
    "cell_id": "00089-7d3a2dbd-ef75-46e5-b652-c271a7136001",
    "deepnote_cell_height": 117.65625,
    "deepnote_output_heights": [
     21.109375
    ],
    "deepnote_cell_type": "code"
   },
   "source": "titanic_train_df.columns.difference(titanic_test_df.columns)",
   "execution_count": null,
   "outputs": [
    {
     "output_type": "execute_result",
     "data": {
      "text/plain": "Index(['Survived'], dtype='object')"
     },
     "metadata": {},
     "execution_count": 201
    }
   ]
  },
  {
   "cell_type": "code",
   "metadata": {
    "colab": {
     "base_uri": "https://localhost:8080/"
    },
    "id": "0QvdT65rp6sm",
    "outputId": "89f5f667-0494-4ef0-91f2-7b047be1994e",
    "cell_id": "00090-63b04b2a-2dc7-429a-bc38-37d0c74dbd84",
    "deepnote_cell_height": 269.578125,
    "deepnote_output_heights": [
     155.03125
    ],
    "deepnote_cell_type": "code"
   },
   "source": "dropped = ['PassengerId','Name','Ticket', 'Cabin']\ntitanic_test_df.drop(dropped, axis=1).isna().sum()",
   "execution_count": null,
   "outputs": [
    {
     "output_type": "execute_result",
     "data": {
      "text/plain": "Pclass      0\nSex         0\nAge         0\nSibSp       0\nParch       0\nFare        1\nEmbarked    0\ndtype: int64"
     },
     "metadata": {},
     "execution_count": 215
    }
   ]
  },
  {
   "cell_type": "code",
   "metadata": {
    "colab": {
     "base_uri": "https://localhost:8080/"
    },
    "id": "OsDt8ALuqdaz",
    "outputId": "bda665ee-ee06-475c-8147-f53fe5e82c61",
    "cell_id": "00091-fdeafb45-b2fa-4d82-8480-97070b0fc2c6",
    "deepnote_cell_height": 328.09375,
    "deepnote_output_heights": [
     231.546875
    ],
    "deepnote_cell_type": "code"
   },
   "source": "titanic_test_df.dtypes",
   "execution_count": null,
   "outputs": [
    {
     "output_type": "execute_result",
     "data": {
      "text/plain": "PassengerId      int64\nPclass           int64\nName            object\nSex             object\nAge            float64\nSibSp            int64\nParch            int64\nTicket          object\nFare           float64\nCabin           object\nEmbarked        object\ndtype: object"
     },
     "metadata": {},
     "execution_count": 217
    }
   ]
  },
  {
   "cell_type": "code",
   "metadata": {
    "id": "dr6s7h1alL8K",
    "cell_id": "00092-5915b1b5-a176-4e0b-86d6-daafc7033c7e",
    "deepnote_cell_height": 371.6875,
    "deepnote_cell_type": "code"
   },
   "source": "encoder_sex = le.fit_transform(titanic_test_df.Sex)\ntitanic_test_df['Age'] = titanic_test_df.Age.fillna(titanic_test_df.Age.median())\ntitanic_test_df['Fare'] = titanic_test_df.Fare.fillna(titanic_test_df.Fare.median())\ntitanic_test_df.Embarked = titanic_test_df.Embarked.fillna('S')\n\ntest_predictors = titanic_test_df.drop(['PassengerId','Name','Ticket', 'Cabin'], axis=1)\ncategorial_cols = [cname for cname in test_predictors.columns if test_predictors[cname].nunique() < 10 and\n                   test_predictors[cname].dtype == 'object']\n\nnumerical_cols = [cname for cname in test_predictors.columns if \n                   test_predictors[cname].dtype in ['int64','float64']]    \n\nmy_cols = categorial_cols + numerical_cols\ntest_predictors = test_predictors[my_cols]    \n\ndummy_encoded_test_predictors = pd.get_dummies(test_predictors)\n\nX_features_one_test = dummy_encoded_test_predictors.values",
   "execution_count": null,
   "outputs": []
  },
  {
   "cell_type": "code",
   "metadata": {
    "colab": {
     "base_uri": "https://localhost:8080/"
    },
    "id": "Qdoc8jkNpiPv",
    "outputId": "d4eb854b-4db5-4142-bf53-a29b8a214f1a",
    "cell_id": "00093-27131a94-b072-4529-8218-02960417930d",
    "deepnote_cell_height": 147.8125,
    "deepnote_cell_type": "code"
   },
   "source": "print(X_features_one_test.shape)\nprint(X_features_one.shape)",
   "execution_count": null,
   "outputs": [
    {
     "output_type": "stream",
     "name": "stdout",
     "text": "(418, 10)\n(891, 10)\n"
    }
   ]
  },
  {
   "cell_type": "markdown",
   "source": "## Visualización del árbol",
   "metadata": {
    "id": "N5rV3PlG97t0",
    "cell_id": "00094-ac851734-18a6-49d6-bef3-b41a2b7c60fc",
    "deepnote_cell_height": 69.6875,
    "deepnote_cell_type": "markdown"
   }
  },
  {
   "cell_type": "code",
   "metadata": {
    "colab": {
     "base_uri": "https://localhost:8080/"
    },
    "id": "z_pkECHm-BNw",
    "outputId": "06a3b68d-70c9-4475-91bc-9b32015fa4d5",
    "cell_id": "00095-4c829791-d31d-43c0-8a84-d7cbcd22d8d7",
    "deepnote_cell_height": 297.65625,
    "deepnote_output_heights": [
     21.109375
    ],
    "deepnote_cell_type": "code"
   },
   "source": "from io import StringIO\nfrom IPython.display import Image, display\nimport pydotplus\n\nout = StringIO()\ntree.export_graphviz(model_tree, out_file = out)\n\ngraph = pydotplus.graph_from_dot_data(out.getvalue())\ngraph.write_png(\"titanic.png\")\n\n# Al ver el árbol 1 es True y 0 es False",
   "execution_count": null,
   "outputs": [
    {
     "output_type": "execute_result",
     "data": {
      "text/plain": "True"
     },
     "metadata": {},
     "execution_count": 28
    }
   ]
  },
  {
   "cell_type": "markdown",
   "source": "**Interpretación el árbol**\n\n",
   "metadata": {
    "id": "hDDLEkV1_WA7",
    "cell_id": "00096-89164769-ec88-4c25-833d-b31d35467d3a",
    "deepnote_cell_height": 70.84375,
    "deepnote_cell_type": "markdown"
   }
  },
  {
   "cell_type": "markdown",
   "source": "# K-Means",
   "metadata": {
    "id": "_1o5FdpF_Hhi",
    "cell_id": "00097-991f992e-c566-422e-99eb-9d50b6289c96",
    "deepnote_cell_height": 81,
    "deepnote_cell_type": "markdown"
   }
  },
  {
   "cell_type": "code",
   "metadata": {
    "id": "36kZLEsG_JqC",
    "cell_id": "00098-7d209d8d-9875-4673-8581-cfd932231b08",
    "deepnote_cell_height": 134.65625,
    "deepnote_cell_type": "code"
   },
   "source": "from sklearn.cluster import KMeans\nfrom sklearn.datasets import load_iris\nimport pandas as pd\n\nimport matplotlib.pyplot as plt",
   "execution_count": null,
   "outputs": []
  },
  {
   "cell_type": "code",
   "metadata": {
    "id": "8Bxa9nUgAr9U",
    "cell_id": "00099-d028200a-f160-4cf9-9d73-ec00aa1915ed",
    "deepnote_cell_height": 99.875,
    "deepnote_cell_type": "code"
   },
   "source": "iris_dataset = load_iris()\nX_iris = iris_dataset.data\ny_iris = iris_dataset.target",
   "execution_count": null,
   "outputs": []
  },
  {
   "cell_type": "code",
   "metadata": {
    "id": "kWifECSbA4m0",
    "cell_id": "00100-5b9e4756-a71d-4922-a7c2-d70037086295",
    "deepnote_cell_height": 82.484375,
    "deepnote_cell_type": "code"
   },
   "source": "X = pd.DataFrame(X_iris, columns = iris_dataset.feature_names)\ny = pd.DataFrame(y_iris, columns = ['target'])",
   "execution_count": null,
   "outputs": []
  },
  {
   "cell_type": "code",
   "metadata": {
    "id": "Wb6uha-7Bk30",
    "cell_id": "00101-89270e46-b7e8-4a62-8670-879dc7890b42",
    "deepnote_cell_height": 82.484375,
    "deepnote_cell_type": "code"
   },
   "source": "X.columns = X.columns.str.lower().str.replace(\" (cm)\", \"\", regex=False)  \nX.columns = X.columns.str.lower().str.replace(\" \", \"_\", regex=False)",
   "execution_count": null,
   "outputs": []
  },
  {
   "cell_type": "code",
   "metadata": {
    "colab": {
     "base_uri": "https://localhost:8080/",
     "height": 424
    },
    "id": "7YNGcG1-B_1H",
    "outputId": "d39fd25d-03d2-40cc-c30f-e60743d33063",
    "cell_id": "00102-8a8a73b8-df34-435d-9f17-b783273d8970",
    "deepnote_cell_height": 65.09375,
    "deepnote_cell_type": "code"
   },
   "source": "X",
   "execution_count": null,
   "outputs": [
    {
     "output_type": "execute_result",
     "data": {
      "text/html": "\n  <div id=\"df-523b2be5-97d0-4c98-82b4-9cd7e00ae15b\">\n    <div class=\"colab-df-container\">\n      <div>\n<style scoped>\n    .dataframe tbody tr th:only-of-type {\n        vertical-align: middle;\n    }\n\n    .dataframe tbody tr th {\n        vertical-align: top;\n    }\n\n    .dataframe thead th {\n        text-align: right;\n    }\n</style>\n<table border=\"1\" class=\"dataframe\">\n  <thead>\n    <tr style=\"text-align: right;\">\n      <th></th>\n      <th>sepal_length</th>\n      <th>sepal_width</th>\n      <th>petal_length</th>\n      <th>petal_width</th>\n    </tr>\n  </thead>\n  <tbody>\n    <tr>\n      <th>0</th>\n      <td>5.1</td>\n      <td>3.5</td>\n      <td>1.4</td>\n      <td>0.2</td>\n    </tr>\n    <tr>\n      <th>1</th>\n      <td>4.9</td>\n      <td>3.0</td>\n      <td>1.4</td>\n      <td>0.2</td>\n    </tr>\n    <tr>\n      <th>2</th>\n      <td>4.7</td>\n      <td>3.2</td>\n      <td>1.3</td>\n      <td>0.2</td>\n    </tr>\n    <tr>\n      <th>3</th>\n      <td>4.6</td>\n      <td>3.1</td>\n      <td>1.5</td>\n      <td>0.2</td>\n    </tr>\n    <tr>\n      <th>4</th>\n      <td>5.0</td>\n      <td>3.6</td>\n      <td>1.4</td>\n      <td>0.2</td>\n    </tr>\n    <tr>\n      <th>...</th>\n      <td>...</td>\n      <td>...</td>\n      <td>...</td>\n      <td>...</td>\n    </tr>\n    <tr>\n      <th>145</th>\n      <td>6.7</td>\n      <td>3.0</td>\n      <td>5.2</td>\n      <td>2.3</td>\n    </tr>\n    <tr>\n      <th>146</th>\n      <td>6.3</td>\n      <td>2.5</td>\n      <td>5.0</td>\n      <td>1.9</td>\n    </tr>\n    <tr>\n      <th>147</th>\n      <td>6.5</td>\n      <td>3.0</td>\n      <td>5.2</td>\n      <td>2.0</td>\n    </tr>\n    <tr>\n      <th>148</th>\n      <td>6.2</td>\n      <td>3.4</td>\n      <td>5.4</td>\n      <td>2.3</td>\n    </tr>\n    <tr>\n      <th>149</th>\n      <td>5.9</td>\n      <td>3.0</td>\n      <td>5.1</td>\n      <td>1.8</td>\n    </tr>\n  </tbody>\n</table>\n<p>150 rows × 4 columns</p>\n</div>\n      <button class=\"colab-df-convert\" onclick=\"convertToInteractive('df-523b2be5-97d0-4c98-82b4-9cd7e00ae15b')\"\n              title=\"Convert this dataframe to an interactive table.\"\n              style=\"display:none;\">\n        \n  <svg xmlns=\"http://www.w3.org/2000/svg\" height=\"24px\"viewBox=\"0 0 24 24\"\n       width=\"24px\">\n    <path d=\"M0 0h24v24H0V0z\" fill=\"none\"/>\n    <path d=\"M18.56 5.44l.94 2.06.94-2.06 2.06-.94-2.06-.94-.94-2.06-.94 2.06-2.06.94zm-11 1L8.5 8.5l.94-2.06 2.06-.94-2.06-.94L8.5 2.5l-.94 2.06-2.06.94zm10 10l.94 2.06.94-2.06 2.06-.94-2.06-.94-.94-2.06-.94 2.06-2.06.94z\"/><path d=\"M17.41 7.96l-1.37-1.37c-.4-.4-.92-.59-1.43-.59-.52 0-1.04.2-1.43.59L10.3 9.45l-7.72 7.72c-.78.78-.78 2.05 0 2.83L4 21.41c.39.39.9.59 1.41.59.51 0 1.02-.2 1.41-.59l7.78-7.78 2.81-2.81c.8-.78.8-2.07 0-2.86zM5.41 20L4 18.59l7.72-7.72 1.47 1.35L5.41 20z\"/>\n  </svg>\n      </button>\n      \n  <style>\n    .colab-df-container {\n      display:flex;\n      flex-wrap:wrap;\n      gap: 12px;\n    }\n\n    .colab-df-convert {\n      background-color: #E8F0FE;\n      border: none;\n      border-radius: 50%;\n      cursor: pointer;\n      display: none;\n      fill: #1967D2;\n      height: 32px;\n      padding: 0 0 0 0;\n      width: 32px;\n    }\n\n    .colab-df-convert:hover {\n      background-color: #E2EBFA;\n      box-shadow: 0px 1px 2px rgba(60, 64, 67, 0.3), 0px 1px 3px 1px rgba(60, 64, 67, 0.15);\n      fill: #174EA6;\n    }\n\n    [theme=dark] .colab-df-convert {\n      background-color: #3B4455;\n      fill: #D2E3FC;\n    }\n\n    [theme=dark] .colab-df-convert:hover {\n      background-color: #434B5C;\n      box-shadow: 0px 1px 3px 1px rgba(0, 0, 0, 0.15);\n      filter: drop-shadow(0px 1px 2px rgba(0, 0, 0, 0.3));\n      fill: #FFFFFF;\n    }\n  </style>\n\n      <script>\n        const buttonEl =\n          document.querySelector('#df-523b2be5-97d0-4c98-82b4-9cd7e00ae15b button.colab-df-convert');\n        buttonEl.style.display =\n          google.colab.kernel.accessAllowed ? 'block' : 'none';\n\n        async function convertToInteractive(key) {\n          const element = document.querySelector('#df-523b2be5-97d0-4c98-82b4-9cd7e00ae15b');\n          const dataTable =\n            await google.colab.kernel.invokeFunction('convertToInteractive',\n                                                     [key], {});\n          if (!dataTable) return;\n\n          const docLinkHtml = 'Like what you see? Visit the ' +\n            '<a target=\"_blank\" href=https://colab.research.google.com/notebooks/data_table.ipynb>data table notebook</a>'\n            + ' to learn more about interactive tables.';\n          element.innerHTML = '';\n          dataTable['output_type'] = 'display_data';\n          await google.colab.output.renderOutput(dataTable, element);\n          const docLink = document.createElement('div');\n          docLink.innerHTML = docLinkHtml;\n          element.appendChild(docLink);\n        }\n      </script>\n    </div>\n  </div>\n  ",
      "text/plain": "     sepal_length  sepal_width  petal_length  petal_width\n0             5.1          3.5           1.4          0.2\n1             4.9          3.0           1.4          0.2\n2             4.7          3.2           1.3          0.2\n3             4.6          3.1           1.5          0.2\n4             5.0          3.6           1.4          0.2\n..            ...          ...           ...          ...\n145           6.7          3.0           5.2          2.3\n146           6.3          2.5           5.0          1.9\n147           6.5          3.0           5.2          2.0\n148           6.2          3.4           5.4          2.3\n149           5.9          3.0           5.1          1.8\n\n[150 rows x 4 columns]"
     },
     "metadata": {},
     "execution_count": 55
    }
   ]
  },
  {
   "cell_type": "code",
   "metadata": {
    "colab": {
     "base_uri": "https://localhost:8080/",
     "height": 306
    },
    "id": "3aRwt8goCIOa",
    "outputId": "0bf1721f-6a14-4d1e-9442-b0f52310c0cb",
    "cell_id": "00103-25828a09-7d96-4d62-b3eb-cb223e3382a4",
    "deepnote_cell_height": 117.265625,
    "deepnote_cell_type": "code"
   },
   "source": "plt.scatter(X['petal_length'], X['petal_width'], c = 'blue')\nplt.xlabel('Petal length', fontsize = 14)\nplt.ylabel('Petal width', fontsize = 14)\nplt.title(\"Petal length versus Petal width\", fontsize = 18, fontweight=\"bold\");",
   "execution_count": null,
   "outputs": [
    {
     "output_type": "display_data",
     "data": {
      "image/png": "[encoded data removed]",
      "text/plain": "<Figure size 432x288 with 1 Axes>"
     },
     "metadata": {
      "needs_background": "light",
      "image/png": {
       "width": 394,
       "height": 289
      }
     }
    }
   ]
  },
  {
   "cell_type": "markdown",
   "source": "**OBS.** Al parecer hay 2 grandes grupos, eso sin siquiera entrenar un modelo de segmentación.",
   "metadata": {
    "id": "iXdkab2ADt56",
    "cell_id": "00104-1a8b2ef4-c309-4296-b697-4f209b019043",
    "deepnote_cell_height": 36.109375,
    "deepnote_cell_type": "markdown"
   }
  },
  {
   "cell_type": "code",
   "metadata": {
    "id": "rdqIXlBBD4Jx",
    "cell_id": "00105-f7b951f9-6cc9-4651-9d02-322af51678c5",
    "deepnote_cell_height": 99.875,
    "deepnote_cell_type": "code"
   },
   "source": "model_kmeans = KMeans(n_clusters = 2, max_iter=1000)\ny_pred = model_kmeans.fit_predict(X)\ncluster_labels = model_kmeans.labels_",
   "execution_count": null,
   "outputs": []
  },
  {
   "cell_type": "code",
   "metadata": {
    "colab": {
     "base_uri": "https://localhost:8080/"
    },
    "id": "3yXrlehoEwrN",
    "outputId": "f355880d-672a-416d-9408-a724567afb99",
    "cell_id": "00106-79f05ebc-61ba-49d5-a651-1e408b4f9799",
    "deepnote_cell_height": 99.875,
    "deepnote_cell_type": "code"
   },
   "source": "from sklearn.metrics import adjusted_rand_score\naccuracy_model = adjusted_rand_score(np.reshape(y.target,len(y.target)), y_pred)\nprint(\"Accuracy  {:.4f}\".format(accuracy_model))",
   "execution_count": null,
   "outputs": [
    {
     "output_type": "stream",
     "name": "stdout",
     "text": "Accuracy  0.5399\n"
    }
   ]
  },
  {
   "cell_type": "markdown",
   "source": "**OBS.** Indica que la elección de K no es la óptima",
   "metadata": {
    "id": "LOBCy5xcGHok",
    "cell_id": "00107-3242bfa0-69ac-4644-aa26-fbcafe54123d",
    "deepnote_cell_height": 36.109375,
    "deepnote_cell_type": "markdown"
   }
  },
  {
   "cell_type": "code",
   "metadata": {
    "id": "v8jPrTILGRQK",
    "cell_id": "00108-50170475-e573-49a2-bfb4-7a78e0013448",
    "deepnote_cell_height": 412.90625,
    "deepnote_cell_type": "code"
   },
   "source": "def get_cluster_elbow(X, max_clusters = 10, max_iter = 1000):\n  \"\"\"\n  Método curva de elbow para identificar el número óptimo de clusters\n  \"\"\"  \n  num_clusters = range(2, max_clusters+1)\n  models = [KMeans(n_clusters=i, random_state=29, max_iter = max_iter) for i in num_clusters]\n  score = [models[i].fit(X).score(X) for i in range(len(models))] \n  y_predict = [models[i].predict(X) for i in range(len(models))]\n  inercias = [models[i].inertia_ for i in range(len(models))] \n\n  fig, ax = plt.subplots(1, 2, figsize=(12, 6))\n  ax[0].plot(num_clusters, inercias, marker='o')\n  ax[0].set_title(\"Evolución de la varianza intra-cluster total\", fontsize = 18, fontweight=\"bold\")\n  ax[0].set_xlabel('Número clusters', fontsize=14)\n  ax[0].set_ylabel('Intra-cluster (inertia)', fontsize=14);\n\n  ax[1].plot(num_clusters,score)\n  ax[1].grid(color='r', linestyle='dotted', linewidth=1)\n  ax[1].set_title(\"Evolución del score total\", fontsize = 18, fontweight=\"bold\")\n  ax[1].set_xlabel('Número de Clusters', fontsize=14)\n  ax[1].set_ylabel('Score', fontsize=14)",
   "execution_count": null,
   "outputs": []
  },
  {
   "cell_type": "code",
   "metadata": {
    "colab": {
     "base_uri": "https://localhost:8080/",
     "height": 415
    },
    "id": "kyc6XN1-HAtr",
    "outputId": "bac32ec2-9ece-433f-e800-27bfc230b06a",
    "cell_id": "00109-aba29672-b10b-4d53-8303-d1eb794fe291",
    "deepnote_cell_height": 65.09375,
    "deepnote_cell_type": "code"
   },
   "source": "get_cluster_elbow(X, 10)",
   "execution_count": null,
   "outputs": [
    {
     "output_type": "display_data",
     "data": {
      "image/png": "[encoded data removed]",
      "text/plain": "<Figure size 864x432 with 2 Axes>"
     },
     "metadata": {
      "needs_background": "light",
      "image/png": {
       "width": 747,
       "height": 398
      }
     }
    }
   ]
  },
  {
   "cell_type": "code",
   "metadata": {
    "id": "bK2jkum3GbWt",
    "cell_id": "00110-593308d2-d075-4460-8b95-1af9e5756ca3",
    "deepnote_cell_height": 99.875,
    "deepnote_cell_type": "code"
   },
   "source": "model_kmeans_x = KMeans(n_clusters = 3, max_iter=1000)\ny_pred = model_kmeans_x.fit_predict(X)\ncluster_labels = model_kmeans_x.labels_",
   "execution_count": null,
   "outputs": []
  },
  {
   "cell_type": "code",
   "metadata": {
    "colab": {
     "base_uri": "https://localhost:8080/"
    },
    "id": "2t1rMwlAHdth",
    "outputId": "730de621-75e0-4319-946d-3f9c45314242",
    "cell_id": "00111-6698e5b0-0108-4f9d-9d2b-117c1d69f98d",
    "deepnote_cell_height": 82.484375,
    "deepnote_cell_type": "code"
   },
   "source": "accuracy_model = adjusted_rand_score(np.reshape(y.target,len(y.target)), y_pred)\nprint(\"Accuracy  {:.4f}\".format(accuracy_model))",
   "execution_count": null,
   "outputs": [
    {
     "output_type": "stream",
     "name": "stdout",
     "text": "Accuracy  0.7302\n"
    }
   ]
  },
  {
   "cell_type": "markdown",
   "source": "**COMENTARIO.** Logra mejorar el accuracy!!!",
   "metadata": {
    "id": "U4wnPraQHf6B",
    "cell_id": "00112-ce5dc7af-1ca6-47c6-a753-910043505d84",
    "deepnote_cell_height": 36.109375,
    "deepnote_cell_type": "markdown"
   }
  },
  {
   "cell_type": "code",
   "metadata": {
    "colab": {
     "base_uri": "https://localhost:8080/",
     "height": 306
    },
    "id": "ew9FbVqyHpUw",
    "outputId": "1037784a-c3ad-4a37-c802-0062490b1fdf",
    "cell_id": "00113-080cf384-5503-4f20-9f7a-e6761f3d08c9",
    "deepnote_cell_height": 117.265625,
    "deepnote_cell_type": "code"
   },
   "source": "plt.scatter(X.petal_length, X.petal_width, c=y_pred, s = 30)\nplt.xlabel('Petal length', fontsize = 14)\nplt.ylabel('Petal width', fontsize = 14)\nplt.title(\"Grupos\", fontsize = 18, fontweight=\"bold\");",
   "execution_count": null,
   "outputs": [
    {
     "output_type": "display_data",
     "data": {
      "image/png": "[encoded data removed]",
      "text/plain": "<Figure size 432x288 with 1 Axes>"
     },
     "metadata": {
      "needs_background": "light",
      "image/png": {
       "width": 394,
       "height": 289
      }
     }
    }
   ]
  },
  {
   "cell_type": "markdown",
   "source": "## Reto - Trabajar con data de vinos",
   "metadata": {
    "id": "nML5nV9HI-Ab",
    "cell_id": "00114-092dbf2f-952d-4cb8-ae90-8c9cb2383bfc",
    "deepnote_cell_height": 36.109375,
    "deepnote_cell_type": "markdown"
   }
  },
  {
   "cell_type": "markdown",
   "source": "# Conceptos básicos de Tensor Flow\n\nTensor Flow es una biblioteca de software de código abierto que permite construir y entrenar redes neuronales, permite detectar y descifrar patrones en los datos. Es un desarrollo de Google y que debido a su flexibilidad y extensa comunidad de programadores ha crecido rápidamente y se ha posicionado como la herramienta líder en el estudio del aprendizaje profundo o también conocido como Deep Learning.\n\nTensor Flow puede ser usado para ayudar al diagnóstico médico, detectar objetos, procesar imágenes, detección de emociones en el rostro, entre otras aplicaciones. En este curso usamos Tensor Flow para crear nuestra primera red neuronal y diseñar un clasificador de imágenes a partir de un conjunto de datos.\n\n**Importar la biblioteca:**\nimport tensorflow as tf\n\n**Importar el modelo:**\nfrom tensorflow import keras\n\n**Cargar conjunto de datos de Tensor Flow:**\n\nfashion_mnist = keras.datasets.fashion_mnist\n(train_images, train_labels), (test_images, test_labels) = fashion_mnist.load_data()\n\n**Crear modelo secuencial:**\n\nmodel = keras.Sequential([keras.layers.Flatten(input_shape = (28, 28)), keras.layers.Dense(128, activation = tf.nn.relu), keras.layers.Dense(10, activation = tf.nn.softmax)])\n\n**Compilación del modelo:**\n\nmodel.compile(optimizer = tf.optimizers.Adam(), loss = ‘sparse_categorical_crossentropy’, metrics = [‘accuracy’])\n\n**Entrenamiento:**\n\nmodel.fit(train_images, train_labels, epochs = 5)\n\n**Evaluación del modelo:**\n\ntest_loss, test_acc = model.evaluate( test_images, test_labels )\n\n**Predicción del modelo:**\n\nmodel.predict(test_images)\n\n\n",
   "metadata": {
    "id": "4ynp4oVHJCdJ",
    "cell_id": "00115-730ce226-a4c0-480b-b244-b87fbd0254c0",
    "deepnote_cell_height": 696.96875,
    "deepnote_cell_type": "markdown"
   }
  },
  {
   "cell_type": "code",
   "metadata": {
    "id": "o-oKf4oTMMrK",
    "cell_id": "00116-f325b36a-eec8-424f-84ce-31df5faec74b",
    "deepnote_cell_height": 152.046875,
    "deepnote_cell_type": "code"
   },
   "source": "import tensorflow as tf\nfrom tensorflow import keras\n\nimport numpy as np\nimport matplotlib.pyplot as plt\n",
   "execution_count": null,
   "outputs": []
  },
  {
   "cell_type": "markdown",
   "source": "El siguiente ejemplo lo sacan desde [acá](https://www.tensorflow.org/tutorials/keras/classification)\n\n",
   "metadata": {
    "id": "E9QXlIrGODA0",
    "cell_id": "00117-146d1a0c-004e-42e7-ac9e-27ca49dedd0c",
    "deepnote_cell_height": 70.890625,
    "deepnote_cell_type": "markdown"
   }
  },
  {
   "cell_type": "code",
   "metadata": {
    "colab": {
     "base_uri": "https://localhost:8080/"
    },
    "id": "AEQ94ZShMbpy",
    "outputId": "43ba8807-caf5-40ce-b54e-b978497237a6",
    "cell_id": "00118-a5d2bc0a-07e1-424e-ba68-866464f77fa7",
    "deepnote_cell_height": 82.484375,
    "deepnote_cell_type": "code"
   },
   "source": "fashion_mnist = keras.datasets.fashion_mnist\n(train_images, train_labels), (test_images, test_labels) = fashion_mnist.load_data()",
   "execution_count": null,
   "outputs": [
    {
     "output_type": "stream",
     "name": "stdout",
     "text": "Downloading data from https://storage.googleapis.com/tensorflow/tf-keras-datasets/train-labels-idx1-ubyte.gz\n32768/29515 [=================================] - 0s 0us/step\n40960/29515 [=========================================] - 0s 0us/step\nDownloading data from https://storage.googleapis.com/tensorflow/tf-keras-datasets/train-images-idx3-ubyte.gz\n26427392/26421880 [==============================] - 0s 0us/step\n26435584/26421880 [==============================] - 0s 0us/step\nDownloading data from https://storage.googleapis.com/tensorflow/tf-keras-datasets/t10k-labels-idx1-ubyte.gz\n16384/5148 [===============================================================================================] - 0s 0us/step\nDownloading data from https://storage.googleapis.com/tensorflow/tf-keras-datasets/t10k-images-idx3-ubyte.gz\n4423680/4422102 [==============================] - 0s 0us/step\n4431872/4422102 [==============================] - 0s 0us/step\n"
    }
   ]
  },
  {
   "cell_type": "code",
   "metadata": {
    "colab": {
     "base_uri": "https://localhost:8080/"
    },
    "id": "MOFg2D8GNO8R",
    "outputId": "e93b888c-797a-46f3-9ab3-2ff44e8d14da",
    "cell_id": "00119-2c487019-8235-4005-a660-6a2daa0edcb6",
    "deepnote_cell_height": 65.09375,
    "deepnote_cell_type": "code"
   },
   "source": "train_images.shape",
   "execution_count": null,
   "outputs": [
    {
     "output_type": "execute_result",
     "data": {
      "text/plain": "(60000, 28, 28)"
     },
     "metadata": {},
     "execution_count": 12
    }
   ]
  },
  {
   "cell_type": "code",
   "metadata": {
    "colab": {
     "base_uri": "https://localhost:8080/"
    },
    "id": "j0TVGAw1NxMH",
    "outputId": "941a80f9-663f-48c5-8911-846c89756ecd",
    "cell_id": "00120-a0ae5aaf-412d-4894-8b8c-b3d9703b107a",
    "deepnote_cell_height": 65.09375,
    "deepnote_cell_type": "code"
   },
   "source": "train_labels",
   "execution_count": null,
   "outputs": [
    {
     "output_type": "execute_result",
     "data": {
      "text/plain": "array([9, 0, 0, ..., 3, 0, 5], dtype=uint8)"
     },
     "metadata": {},
     "execution_count": 13
    }
   ]
  },
  {
   "cell_type": "code",
   "metadata": {
    "id": "2xzPlZKIN9P3",
    "cell_id": "00121-2501c202-e7fd-4f47-a5e5-c62e77503140",
    "deepnote_cell_height": 82.484375,
    "deepnote_cell_type": "code"
   },
   "source": "class_names = ['T-shirt/top', 'Trouser', 'Pullover', 'Dress', 'Coat',\n               'Sandal', 'Shirt', 'Sneaker', 'Bag', 'Ankle boot']",
   "execution_count": null,
   "outputs": []
  },
  {
   "cell_type": "code",
   "metadata": {
    "colab": {
     "base_uri": "https://localhost:8080/",
     "height": 268
    },
    "id": "uc3AdADiORU6",
    "outputId": "fb3d40ec-bf27-4644-9465-b6c68d4aefac",
    "cell_id": "00122-736096ff-25ea-4331-b611-cc4e6b98e5e8",
    "deepnote_cell_height": 152.046875,
    "deepnote_cell_type": "code"
   },
   "source": "# Inspeccionamos una de las imágenes\nplt.figure()\nplt.imshow(train_images[0])\nplt.colorbar()\nplt.grid(False)\nplt.show()",
   "execution_count": null,
   "outputs": [
    {
     "output_type": "display_data",
     "data": {
      "image/png": "[encoded data removed]",
      "text/plain": "<Figure size 432x288 with 2 Axes>"
     },
     "metadata": {
      "needs_background": "light",
      "image/png": {
       "width": 313,
       "height": 251
      }
     }
    }
   ]
  },
  {
   "cell_type": "code",
   "metadata": {
    "id": "yDKZ5leBOetw",
    "cell_id": "00123-0c06f16d-800c-425d-9b1f-218654238167",
    "deepnote_cell_height": 99.875,
    "deepnote_cell_type": "code"
   },
   "source": "# Vamos a escalar\ntrain_images = train_images / 255.0\ntest_images = test_images / 255.0",
   "execution_count": null,
   "outputs": []
  },
  {
   "cell_type": "markdown",
   "source": "**¿Por qué se divide entre 255?**\n\nEsto se realiza para normalizar los valores de los pixeles y trabajar con datos entre 0 y 1. Un pixel con valor 0 es color negro, y uno con valor 255 es blanco.\n",
   "metadata": {
    "id": "4Zlg56KQOkvQ",
    "cell_id": "00124-98a84a52-cf81-4829-afa1-80561043c206",
    "deepnote_cell_height": 88.28125,
    "deepnote_cell_type": "markdown"
   }
  },
  {
   "cell_type": "code",
   "metadata": {
    "colab": {
     "base_uri": "https://localhost:8080/",
     "height": 592
    },
    "id": "kJhfC0WYOomk",
    "outputId": "e097f094-0072-47d9-ce14-92a9fe618f9f",
    "cell_id": "00125-cb3068c1-0f07-4726-9ff5-7936a7241557",
    "deepnote_cell_height": 221.609375,
    "deepnote_cell_type": "code"
   },
   "source": "# Despliega las primeas 25 imágenes de conjunto de entrenamiento\nplt.figure(figsize=(10,10))\nfor i in range(25):\n    plt.subplot(5,5,i+1)\n    plt.xticks([])\n    plt.yticks([])\n    plt.grid(False)\n    plt.imshow(train_images[i], cmap=plt.cm.binary)\n    plt.xlabel(class_names[train_labels[i]])\nplt.show()",
   "execution_count": null,
   "outputs": [
    {
     "output_type": "display_data",
     "data": {
      "image/png": "[encoded data removed]",
      "text/plain": "<Figure size 720x720 with 25 Axes>"
     },
     "metadata": {
      "image/png": {
       "width": 569,
       "height": 575
      }
     }
    }
   ]
  },
  {
   "cell_type": "markdown",
   "source": "## Construcción del modelo",
   "metadata": {
    "id": "9rcHU76bPAc0",
    "cell_id": "00126-b11cf57d-5cc4-4011-a443-bb8350bcb4c1",
    "deepnote_cell_height": 36.109375,
    "deepnote_cell_type": "markdown"
   }
  },
  {
   "cell_type": "code",
   "metadata": {
    "id": "X0Mjl0ZPMoKP",
    "cell_id": "00127-876973af-efb7-4485-8c0c-caf2aded2be2",
    "deepnote_cell_height": 117.265625,
    "deepnote_cell_type": "code"
   },
   "source": "# Crea modelo secuencial\nmodel = keras.Sequential([keras.layers.Flatten(input_shape = (28, 28)), \n                          keras.layers.Dense(128, activation = tf.nn.relu), \n                          keras.layers.Dense(10, activation = tf.nn.softmax)])",
   "execution_count": null,
   "outputs": []
  },
  {
   "cell_type": "markdown",
   "source": "**Descripción de la arquitectura**\n\nLa primera capa de esta red, tf.keras.layers.Flatten, transforma el formato de las imágenes de un arreglo bi-dimensional (de 28 por 28 pixeles) a un arreglo uni dimensional (de 28*28 pixeles = 784 pixeles). Observe esta capa como una capa no apilada de filas de pixeles en la misma imagen y alineándolo. **Esta capa no tiene parámetros que aprender**; solo reformatea el set de datos.\n\nDespués de que los pixeles están \"aplanados\", la secuencia consiste de dos capas *tf.keras.layers.Dense*. Estas están densamente conectadas, o completamente conectadas. \n\nLa primera capa Dense tiene 128 nodos (o neuronas). \n\nLa segunda (y última) capa es una capa de 10 nodos softmax que devuelve un arreglo de 10 probabilidades que suman a 1. Cada nodo contiene una calificación que indica la probabilidad que la actual imagen pertenece a una de las 10 clases.",
   "metadata": {
    "id": "Z2wrkvDaPKBs",
    "cell_id": "00128-717cf7f1-6e90-453c-b2d9-33e505a6b287",
    "deepnote_cell_height": 175.234375,
    "deepnote_cell_type": "markdown"
   }
  },
  {
   "cell_type": "code",
   "metadata": {
    "colab": {
     "base_uri": "https://localhost:8080/"
    },
    "id": "jN30e6AGWtsM",
    "outputId": "eacab335-c293-4a42-acd4-26a00a8b0e1f",
    "cell_id": "00129-fb382957-6347-4043-aca4-745501858f3b",
    "deepnote_cell_height": 65.09375,
    "deepnote_cell_type": "code"
   },
   "source": "model.summary()",
   "execution_count": null,
   "outputs": [
    {
     "output_type": "stream",
     "name": "stdout",
     "text": "Model: \"sequential\"\n_________________________________________________________________\n Layer (type)                Output Shape              Param #   \n=================================================================\n flatten (Flatten)           (None, 784)               0         \n                                                                 \n dense (Dense)               (None, 128)               100480    \n                                                                 \n dense_1 (Dense)             (None, 10)                1290      \n                                                                 \n=================================================================\nTotal params: 101,770\nTrainable params: 101,770\nNon-trainable params: 0\n_________________________________________________________________\n"
    }
   ]
  },
  {
   "cell_type": "markdown",
   "source": "## Compilación del modelo\n\nAntes de que el modelo esté listo para entrenar, se necesitan algunas configuraciones mas. Estas son agregadas durante el paso de compilacion del modelo:\n\n+ Loss function —\nEsto mide que tan exacto es el modelo durante el entrenamiento. Quiere minimizar esta funcion para dirigir el modelo en la direccion adecuada.\n+ Optimizer — Esto es como el modelo se actualiza basado en el set de datos que ve y la función de pérdida.\n+ Metrics — Se usan para monitorear los pasos de entrenamiento y de pruebas. El siguiente ejemplo usa accuracy (exactitud) , la fracción de la imágenes que son correctamente clasificadas.",
   "metadata": {
    "id": "Fi8MNUecPxaA",
    "cell_id": "00130-c0c52e26-dc9b-4be9-a845-813e29032124",
    "deepnote_cell_height": 157.84375,
    "deepnote_cell_type": "markdown"
   }
  },
  {
   "cell_type": "code",
   "metadata": {
    "id": "dIfV7h7tMx9V",
    "cell_id": "00131-e7a38c1e-1d9c-4972-86fd-4ba155606d51",
    "deepnote_cell_height": 65.09375,
    "deepnote_cell_type": "code"
   },
   "source": "model.compile(optimizer = tf.optimizers.Adam(), loss = 'sparse_categorical_crossentropy', metrics = ['accuracy'])",
   "execution_count": null,
   "outputs": []
  },
  {
   "cell_type": "markdown",
   "source": "## Entrenamiento del modelo\n\nEntrenar el modelo de red neuronal requiere de los siguientes pasos:\n\n+ Entregue los datos de entrenamiento al modelo. En este ejemplo , el set de datos de entrenamiento están en los arreglos train_images y train_labels.\n+ El modelo aprende a asociar imágenes y etiquetas.\n+ Usted le pregunta al modelo que haga predicciones sobre un set de datos que se encuentran en el ejemplo,incluido en el arreglo test_images. Verifique que las predicciones sean iguales a las etiquetas de el arreglotest_labels.\n\nPara comenzar a entrenar, llame el metodo *model.fit*, es llamado asi por que fit (ajusta) el modelo al set de datos de entrenamiento:",
   "metadata": {
    "id": "_KZr-A4BQGYQ",
    "cell_id": "00132-c891d7cf-6412-4490-ac50-e040b8e568c3",
    "deepnote_cell_height": 175.234375,
    "deepnote_cell_type": "markdown"
   }
  },
  {
   "cell_type": "code",
   "metadata": {
    "colab": {
     "base_uri": "https://localhost:8080/"
    },
    "id": "_fos_S2lM2ak",
    "outputId": "2d0a762c-03ed-46ee-8548-4249290b073c",
    "cell_id": "00133-f472e6cc-0c74-49d7-ae36-a70193730cf7",
    "deepnote_cell_height": 65.09375,
    "deepnote_cell_type": "code"
   },
   "source": "model.fit(train_images, train_labels, epochs = 5)",
   "execution_count": null,
   "outputs": [
    {
     "output_type": "stream",
     "name": "stdout",
     "text": "Epoch 1/5\n1875/1875 [==============================] - 9s 4ms/step - loss: 2.6529 - accuracy: 0.6855\nEpoch 2/5\n1875/1875 [==============================] - 6s 3ms/step - loss: 0.7008 - accuracy: 0.7232\nEpoch 3/5\n1875/1875 [==============================] - 6s 3ms/step - loss: 0.6068 - accuracy: 0.7618\nEpoch 4/5\n1875/1875 [==============================] - 6s 3ms/step - loss: 0.5602 - accuracy: 0.8013\nEpoch 5/5\n1875/1875 [==============================] - 7s 3ms/step - loss: 0.5269 - accuracy: 0.8191\n"
    },
    {
     "output_type": "execute_result",
     "data": {
      "text/plain": "<keras.callbacks.History at 0x7fedd5b451d0>"
     },
     "metadata": {},
     "execution_count": 89
    }
   ]
  },
  {
   "cell_type": "markdown",
   "source": "**OBS.** A medida que el modelo entrena, la pérdida y la exactitud son desplegadas. Este modelo alcanza una exactitud de 0.82 (o 82%) sobre el set de datos de entrenamiento.",
   "metadata": {
    "id": "Y-R2e_uPQf-m",
    "cell_id": "00134-31ef982c-a9b6-4252-964b-04e07c50d4b0",
    "deepnote_cell_height": 36.109375,
    "deepnote_cell_type": "markdown"
   }
  },
  {
   "cell_type": "markdown",
   "source": "## Evaluación del modelo",
   "metadata": {
    "id": "UoeUNH_iQrtM",
    "cell_id": "00135-0f84050c-dd12-465c-833a-bc7dcc909eb9",
    "deepnote_cell_height": 36.109375,
    "deepnote_cell_type": "markdown"
   }
  },
  {
   "cell_type": "code",
   "metadata": {
    "colab": {
     "base_uri": "https://localhost:8080/"
    },
    "id": "HK9sIpFLND77",
    "outputId": "041d04f2-86fa-44fd-9842-42c32caead72",
    "cell_id": "00136-7afa4025-0a86-4105-9d86-75e1fa8b587f",
    "deepnote_cell_height": 65.09375,
    "deepnote_cell_type": "code"
   },
   "source": "test_loss, test_acc = model.evaluate( test_images, test_labels ) # usar verbose = 2 en caso de que no quiera ver la salida",
   "execution_count": null,
   "outputs": [
    {
     "output_type": "stream",
     "name": "stdout",
     "text": "313/313 [==============================] - 1s 2ms/step - loss: 0.7147 - accuracy: 0.7604\n"
    }
   ]
  },
  {
   "cell_type": "markdown",
   "source": "**OBS.** Resulta que la exactitud sobre el set de datos es un poco menor que la exactitud sobre el set de entrenamiento. Esta diferencia entre el entrenamiento y el test se debe a overfitting (sobre ajuste). Sobre ajuste sucede cuando un modelo de aprendizaje de máquina (ML) tiene un rendimiento peor sobre un set de datos nuevo, que nunca antes ha visto comparado con el de entrenamiento.",
   "metadata": {
    "id": "L8EL7TWwQ8Oe",
    "cell_id": "00137-6e56da27-25cb-4529-af63-ad483ffdfa3d",
    "deepnote_cell_height": 36.109375,
    "deepnote_cell_type": "markdown"
   }
  },
  {
   "cell_type": "markdown",
   "source": "## Realizar predicciones",
   "metadata": {
    "id": "9xs8E805RFny",
    "cell_id": "00138-94f1de15-b653-43e7-981a-65b661a852de",
    "deepnote_cell_height": 36.109375,
    "deepnote_cell_type": "markdown"
   }
  },
  {
   "cell_type": "code",
   "metadata": {
    "colab": {
     "base_uri": "https://localhost:8080/"
    },
    "id": "BsxXiwMyNG9H",
    "outputId": "aab6a7b0-c50c-4aad-9055-0d592b5722e1",
    "cell_id": "00139-b0352d0e-3b6d-4117-a181-0206894f3074",
    "deepnote_cell_height": 82.484375,
    "deepnote_cell_type": "code"
   },
   "source": "predicciones = model.predict(test_images)\npredicciones",
   "execution_count": null,
   "outputs": [
    {
     "output_type": "execute_result",
     "data": {
      "text/plain": "array([[1.0861215e-10, 7.4180706e-15, 0.0000000e+00, ..., 4.3454941e-02,\n        1.1075164e-09, 9.4520891e-01],\n       [1.0220225e-04, 3.7069218e-03, 9.4383997e-01, ..., 4.9601867e-35,\n        5.3195615e-10, 1.9048828e-26],\n       [6.0857374e-12, 1.0000000e+00, 3.2912924e-15, ..., 0.0000000e+00,\n        2.0318619e-25, 0.0000000e+00],\n       ...,\n       [6.4640709e-10, 4.9118678e-14, 1.4368682e-13, ..., 0.0000000e+00,\n        1.0000000e+00, 0.0000000e+00],\n       [3.3083938e-11, 1.0000000e+00, 2.2454623e-13, ..., 0.0000000e+00,\n        4.1892599e-18, 0.0000000e+00],\n       [2.5870015e-15, 8.0117951e-18, 8.0762633e-11, ..., 3.5794673e-04,\n        9.6163451e-05, 1.2657564e-04]], dtype=float32)"
     },
     "metadata": {},
     "execution_count": 98
    }
   ]
  },
  {
   "cell_type": "markdown",
   "source": "**OBS.** Una prediccion es un arreglo de 10 números (son 10 clases). Estos representan el nivel de \"confianza\" del modelo sobre las imágenes de cada uno de los 10 artículos de moda/ropa. Es posible revisar cual tiene el nivel más alto de confianza:",
   "metadata": {
    "id": "_KWsKAGzROtr",
    "cell_id": "00140-12653473-cbd9-4ef5-b52b-a9c3ba3e5f41",
    "deepnote_cell_height": 36.109375,
    "deepnote_cell_type": "markdown"
   }
  },
  {
   "cell_type": "code",
   "metadata": {
    "colab": {
     "base_uri": "https://localhost:8080/"
    },
    "id": "LBnekEyDRpAA",
    "outputId": "1daf5340-27ac-4a14-f2a2-b467b19f3af3",
    "cell_id": "00141-b9cd5c80-aab6-4840-ac27-1a1144d753b4",
    "deepnote_cell_height": 65.09375,
    "deepnote_cell_type": "code"
   },
   "source": "predicciones.shape",
   "execution_count": null,
   "outputs": [
    {
     "output_type": "execute_result",
     "data": {
      "text/plain": "(10000, 10)"
     },
     "metadata": {},
     "execution_count": 99
    }
   ]
  },
  {
   "cell_type": "code",
   "metadata": {
    "colab": {
     "base_uri": "https://localhost:8080/"
    },
    "id": "pw-QKTg4RfAb",
    "outputId": "f62f0a52-6033-4b1e-9cfc-d976021241dd",
    "cell_id": "00142-c3658ec6-ff9c-4ce2-9373-65ee5f1c2bde",
    "deepnote_cell_height": 65.09375,
    "deepnote_cell_type": "code"
   },
   "source": "np.argmax(predicciones[0])",
   "execution_count": null,
   "outputs": [
    {
     "output_type": "execute_result",
     "data": {
      "text/plain": "9"
     },
     "metadata": {},
     "execution_count": 100
    }
   ]
  },
  {
   "cell_type": "code",
   "metadata": {
    "colab": {
     "base_uri": "https://localhost:8080/"
    },
    "id": "20uPFua9Ruaj",
    "outputId": "d9f54af9-803e-45bf-f38b-82ce3de253c2",
    "cell_id": "00143-e260b70e-c88d-4578-bfe3-d9c12a8fd730",
    "deepnote_cell_height": 65.09375,
    "deepnote_cell_type": "code"
   },
   "source": "print(class_names[np.argmax(predicciones[0])])",
   "execution_count": null,
   "outputs": [
    {
     "output_type": "stream",
     "name": "stdout",
     "text": "Ankle boot\n"
    }
   ]
  },
  {
   "cell_type": "markdown",
   "source": "## Mi forma de ver una imagen",
   "metadata": {
    "id": "dvbEFfHNT2af",
    "cell_id": "00144-97ca94af-6b06-4998-bbc7-ea8b93969e4f",
    "deepnote_cell_height": 36.109375,
    "deepnote_cell_type": "markdown"
   }
  },
  {
   "cell_type": "code",
   "metadata": {
    "colab": {
     "base_uri": "https://localhost:8080/",
     "height": 157
    },
    "id": "2yFxbta3R72H",
    "outputId": "31a69c92-bbdc-4a4a-df80-7b3cce9b0412",
    "cell_id": "00145-f8a7a02d-5089-4cbe-b91e-6bbb8faedfd3",
    "deepnote_cell_height": 204.21875,
    "deepnote_cell_type": "code"
   },
   "source": "selected = 10\npred_label = class_names[np.argmax(predicciones[selected])]\nplt.figure(figsize=(2,2))\nplt.xticks([])\nplt.yticks([])\nplt.grid(False)\nplt.imshow(train_images[selected], cmap=plt.cm.binary)\nplt.xlabel(\"Real : \" + class_names[train_labels[selected]] + \" versus Prediction : \" + pred_label, \n           fontsize = 12, fontweight=\"bold\");",
   "execution_count": null,
   "outputs": [
    {
     "output_type": "display_data",
     "data": {
      "image/png": "[encoded data removed]",
      "text/plain": "<Figure size 144x144 with 1 Axes>"
     },
     "metadata": {
      "image/png": {
       "width": 318,
       "height": 140
      }
     }
    }
   ]
  },
  {
   "cell_type": "markdown",
   "source": "## Para generalizar",
   "metadata": {
    "id": "lq2Qix9NT1hk",
    "cell_id": "00146-9cb908e5-8bfa-414b-a21e-9412b2f99cb3",
    "deepnote_cell_height": 36.109375,
    "deepnote_cell_type": "markdown"
   }
  },
  {
   "cell_type": "code",
   "metadata": {
    "id": "S7Jzmi96T9Wr",
    "cell_id": "00147-497dbfe7-d324-474e-a236-12aa544b4d96",
    "deepnote_cell_height": 569.4375,
    "deepnote_cell_type": "code"
   },
   "source": "def plot_image(i, predictions_array, true_label, img):\n  predictions_array, true_label, img = predictions_array, true_label[i], img[i]\n  plt.grid(False)\n  plt.xticks([])\n  plt.yticks([])\n\n  plt.imshow(img, cmap=plt.cm.binary)\n\n  predicted_label = np.argmax(predictions_array)\n  if predicted_label == true_label:\n    color = 'blue'\n  else:\n    color = 'red'\n\n  plt.xlabel(\"{} {:2.0f}% ({})\".format(class_names[predicted_label],\n                                100*np.max(predictions_array),\n                                class_names[true_label]),\n                                color=color)\n\ndef plot_value_array(i, predictions_array, true_label):\n  predictions_array, true_label = predictions_array, true_label[i]\n  plt.grid(False)\n  plt.xticks(range(10))\n  plt.yticks([])\n  thisplot = plt.bar(range(10), predictions_array, color=\"#777777\")\n  plt.ylim([0, 1])\n  predicted_label = np.argmax(predictions_array)\n\n  thisplot[predicted_label].set_color('red')\n  thisplot[true_label].set_color('blue')",
   "execution_count": null,
   "outputs": []
  },
  {
   "cell_type": "code",
   "metadata": {
    "colab": {
     "base_uri": "https://localhost:8080/",
     "height": 213
    },
    "id": "39PqQ8IZUBMK",
    "outputId": "b52231a7-f46c-45d0-d2e0-a57a6c3eddc6",
    "cell_id": "00148-30e90ff4-02ab-4ad6-a300-7e267edfd8a5",
    "deepnote_cell_height": 169.4375,
    "deepnote_cell_type": "code"
   },
   "source": "selected = 10\nplt.figure(figsize=(6,3))\nplt.subplot(1,2,1)\nplot_image(selected, predicciones[selected], test_labels, test_images)\nplt.subplot(1,2,2)\nplot_value_array(i, predicciones[selected],  test_labels)\nplt.show()",
   "execution_count": null,
   "outputs": [
    {
     "output_type": "display_data",
     "data": {
      "image/png": "[encoded data removed]",
      "text/plain": "<Figure size 432x216 with 2 Axes>"
     },
     "metadata": {
      "needs_background": "light",
      "image/png": {
       "width": 349,
       "height": 196
      }
     }
    }
   ]
  },
  {
   "cell_type": "code",
   "metadata": {
    "colab": {
     "base_uri": "https://localhost:8080/",
     "height": 729
    },
    "id": "uq82SUWBUXof",
    "outputId": "dceb6e46-cdfd-4caf-8fda-a4abd6a99916",
    "cell_id": "00149-002a89d2-ba23-4ef0-bcec-50d4d677a608",
    "deepnote_cell_height": 273.78125,
    "deepnote_cell_type": "code"
   },
   "source": "# Plot the first X test images, their predicted labels, and the true labels.\n# Color correct predictions in blue and incorrect predictions in red.\nnum_rows = 5\nnum_cols = 3\nnum_images = num_rows*num_cols\nplt.figure(figsize=(2*2*num_cols, 2*num_rows))\nfor i in range(num_images):\n  plt.subplot(num_rows, 2*num_cols, 2*i+1)\n  plot_image(i, predicciones[i], test_labels, test_images)\n  plt.subplot(num_rows, 2*num_cols, 2*i+2)\n  plot_value_array(i, predicciones[i], test_labels)\nplt.tight_layout()\nplt.show()",
   "execution_count": null,
   "outputs": [
    {
     "output_type": "display_data",
     "data": {
      "image/png": "[encoded data removed]",
      "text/plain": "<Figure size 864x720 with 30 Axes>"
     },
     "metadata": {
      "needs_background": "light",
      "image/png": {
       "width": 858,
       "height": 712
      }
     }
    }
   ]
  },
  {
   "cell_type": "markdown",
   "source": "## Construcción de una CNN\n\nEn realidad, lo anterior NO ES una CNN, así es que construiré una",
   "metadata": {
    "id": "PN0qsJRMZCjM",
    "cell_id": "00150-e3937a1f-2c5e-42d7-ba2f-0ef1e2149c0b",
    "deepnote_cell_height": 70.890625,
    "deepnote_cell_type": "markdown"
   }
  },
  {
   "cell_type": "code",
   "metadata": {
    "id": "XT2p6iXvZ0Q6",
    "cell_id": "00151-7ba119d4-01b0-4e6e-9e79-ebe5319377fc",
    "deepnote_cell_height": 134.65625,
    "deepnote_cell_type": "code"
   },
   "source": "from keras import layers, optimizers, datasets, Sequential\nfrom keras.layers import Conv2D,Activation,MaxPooling2D,Dropout,Flatten,Dense\nfrom tensorflow.keras.utils import to_categorical\nfrom sklearn.model_selection import KFold\n",
   "execution_count": null,
   "outputs": []
  },
  {
   "cell_type": "code",
   "metadata": {
    "id": "BdnqAhGloF2M",
    "cell_id": "00152-b79cc38b-aa53-4abc-b5cd-f8ab67578a0f",
    "deepnote_cell_height": 239,
    "deepnote_cell_type": "code"
   },
   "source": "def CNN_model():\n  model = Sequential()\n  model.add(Conv2D(32, (3, 3), activation='relu', kernel_initializer='he_uniform', input_shape=(28, 28, 1)))\n  model.add(MaxPooling2D((2, 2)))\n  model.add(Flatten())\n  model.add(Dense(100, activation='relu', kernel_initializer='he_uniform'))\n  model.add(Dense(10, activation='softmax'))\n  # compile model\n  opt = keras.optimizers.SGD(lr=0.01, momentum=0.9)\n  model.compile(optimizer=opt, loss='categorical_crossentropy', metrics=['accuracy'])\n  return model",
   "execution_count": null,
   "outputs": []
  },
  {
   "cell_type": "code",
   "metadata": {
    "id": "f-zS08gzpWZ9",
    "cell_id": "00153-48c4190f-76fa-4d79-a830-ddced527690e",
    "deepnote_cell_height": 395.515625,
    "deepnote_cell_type": "code"
   },
   "source": "# evaluate a model using k-fold cross-validation\ndef evaluate_model(dataX, dataY, n_folds=5):\n\tscores, histories = list(), list()\n\t# prepare cross validation\n\tkfold = KFold(n_folds, shuffle=True, random_state=1)\n\t# enumerate splits\n\tfor train_ix, test_ix in kfold.split(dataX):\n\t\t# define model\n\t\tmodel = CNN_model()\n\t\t# select rows for train and test\n\t\ttrainX, trainY, testX, testY = dataX[train_ix], dataY[train_ix], dataX[test_ix], dataY[test_ix]\n\t\t# fit model\n\t\thistory = model.fit(trainX, trainY, epochs=10, batch_size=32, validation_data=(testX, testY), verbose=0)\n\t\t# evaluate model\n\t\t_, acc = model.evaluate(testX, testY, verbose=0)\n\t\tprint('> %.3f' % (acc * 100.0))\n\t\t# append scores\n\t\tscores.append(acc)\n\t\thistories.append(history)\n\treturn scores, histories",
   "execution_count": null,
   "outputs": []
  },
  {
   "cell_type": "code",
   "metadata": {
    "id": "Y99KWmXap6ET",
    "cell_id": "00154-2bf3be5c-fbe6-413c-9829-ff25a1260021",
    "deepnote_cell_height": 273.78125,
    "deepnote_cell_type": "code"
   },
   "source": "def summarize_diagnostics(histories):\n\tfor i in range(len(histories)):\n\t\t# plot loss\n\t\tplt.subplot(211)\n\t\tplt.title('Cross Entropy Loss')\n\t\tplt.plot(histories[i].history['loss'], color='blue', label='train')\n\t\tplt.plot(histories[i].history['val_loss'], color='orange', label='test')\n\t\t# plot accuracy\n\t\tplt.subplot(212)\n\t\tplt.title('Classification Accuracy')\n\t\tplt.plot(histories[i].history['accuracy'], color='blue', label='train')\n\t\tplt.plot(histories[i].history['val_accuracy'], color='orange', label='test')\n\tplt.show()",
   "execution_count": null,
   "outputs": []
  },
  {
   "cell_type": "code",
   "metadata": {
    "id": "I-c4wkCkqA1E",
    "cell_id": "00155-d26b2a31-b0bc-4e3a-8f2a-295d96763bce",
    "deepnote_cell_height": 169.4375,
    "deepnote_cell_type": "code"
   },
   "source": "# summarize model performance\ndef summarize_performance(scores):\n\t# print summary\n\tprint('Accuracy: mean=%.3f std=%.3f, n=%d' % (np.mean(scores)*100, np.std(scores)*100, len(scores)))\n\t# box and whisker plots of results\n\tplt.boxplot(scores)\n\tplt.show()",
   "execution_count": null,
   "outputs": []
  },
  {
   "cell_type": "code",
   "metadata": {
    "id": "EUx4CcLaqYae",
    "cell_id": "00156-aec80952-8149-4266-81f5-15fc1762d5d8",
    "deepnote_cell_height": 221.609375,
    "deepnote_cell_type": "code"
   },
   "source": "# scale pixels\ndef prep_pixels(train, test):\n\t# convert from integers to floats\n\ttrain_norm = train.astype('float32')\n\ttest_norm = test.astype('float32')\n\t# normalize to range 0-1\n\ttrain_norm = train_norm / 255.0\n\ttest_norm = test_norm / 255.0\n\t# return normalized images\n\treturn train_norm, test_norm",
   "execution_count": null,
   "outputs": []
  },
  {
   "cell_type": "code",
   "metadata": {
    "id": "wj2bfY7QqhEI",
    "cell_id": "00157-5c916b54-cea0-4bba-8f11-9e41fd405484",
    "deepnote_cell_height": 239,
    "deepnote_cell_type": "code"
   },
   "source": "# load train and test dataset\ndef load_dataset():\n\t# load dataset\n\t(trainX, trainY), (testX, testY) = fashion_mnist.load_data()\n\t# reshape dataset to have a single channel\n\ttrainX = trainX.reshape((trainX.shape[0], 28, 28, 1))\n\ttestX = testX.reshape((testX.shape[0], 28, 28, 1))\n\t# one hot encode target values\n\ttrainY = to_categorical(trainY)\n\ttestY = to_categorical(testY)\n\treturn trainX, trainY, testX, testY",
   "execution_count": null,
   "outputs": []
  },
  {
   "cell_type": "code",
   "metadata": {
    "id": "CgPn7Y48qQE5",
    "cell_id": "00158-32786375-202d-4122-bc58-6b7a85655106",
    "deepnote_cell_height": 256.390625,
    "deepnote_cell_type": "code"
   },
   "source": "# run the test harness for evaluating a model\ndef run_test_harness():\n\t# load dataset\n\ttrainX, trainY, testX, testY = load_dataset()\n\t# prepare pixel data\n\ttrainX, testX = prep_pixels(trainX, testX)\n\t# evaluate model\n\tscores, histories = evaluate_model(trainX, trainY)\n\t# learning curves\n\tsummarize_diagnostics(histories)\n\t# summarize estimated performance\n\tsummarize_performance(scores)",
   "execution_count": null,
   "outputs": []
  },
  {
   "cell_type": "code",
   "metadata": {
    "colab": {
     "base_uri": "https://localhost:8080/",
     "height": 757
    },
    "id": "KWXXW02BNpGx",
    "outputId": "fbebc3cd-d329-4fc0-8342-c42f9d6920ae",
    "cell_id": "00159-6a3172d3-3334-425f-a06f-89bddc18b380",
    "deepnote_cell_height": 82.484375,
    "deepnote_cell_type": "code"
   },
   "source": "# entry point, run the test harness\nrun_test_harness()",
   "execution_count": null,
   "outputs": [
    {
     "output_type": "stream",
     "name": "stderr",
     "text": "/usr/local/lib/python3.7/dist-packages/keras/optimizer_v2/gradient_descent.py:102: UserWarning: The `lr` argument is deprecated, use `learning_rate` instead.\n  super(SGD, self).__init__(name, **kwargs)\n"
    },
    {
     "output_type": "stream",
     "name": "stdout",
     "text": "> 91.075\n> 91.300\n> 90.817\n> 91.042\n> 90.525\n"
    },
    {
     "output_type": "stream",
     "name": "stderr",
     "text": "/usr/local/lib/python3.7/dist-packages/ipykernel_launcher.py:4: MatplotlibDeprecationWarning: Adding an axes using the same arguments as a previous axes currently reuses the earlier instance.  In a future version, a new instance will always be created and returned.  Meanwhile, this warning can be suppressed, and the future behavior ensured, by passing a unique label to each axes instance.\n  after removing the cwd from sys.path.\n/usr/local/lib/python3.7/dist-packages/ipykernel_launcher.py:9: MatplotlibDeprecationWarning: Adding an axes using the same arguments as a previous axes currently reuses the earlier instance.  In a future version, a new instance will always be created and returned.  Meanwhile, this warning can be suppressed, and the future behavior ensured, by passing a unique label to each axes instance.\n  if __name__ == '__main__':\n"
    },
    {
     "output_type": "display_data",
     "data": {
      "image/png": "[encoded data removed]",
      "text/plain": "<Figure size 432x288 with 2 Axes>"
     },
     "metadata": {
      "needs_background": "light",
      "image/png": {
       "width": 378,
       "height": 264
      }
     }
    },
    {
     "output_type": "stream",
     "name": "stdout",
     "text": "Accuracy: mean=90.952 std=0.263, n=5\n"
    },
    {
     "output_type": "display_data",
     "data": {
      "image/png": "[encoded data removed]",
      "text/plain": "<Figure size 432x288 with 1 Axes>"
     },
     "metadata": {
      "needs_background": "light",
      "image/png": {
       "width": 384,
       "height": 248
      }
     }
    }
   ]
  },
  {
   "cell_type": "code",
   "metadata": {
    "id": "oc5D7e2oZNbH",
    "cell_id": "00160-62f69848-2582-4a44-b2de-ad5867a57ef1",
    "deepnote_cell_height": 604.21875,
    "deepnote_cell_type": "code"
   },
   "source": "def CNN_classification_model(num_classes, input_size = train_images.shape[1:]):\n  model = Sequential()\n  # The first block with 2 convolutional layers and 1 maxpooling layer \n  '''Conv1 with 32 3*3 kernels\n  padding=\"same\": it applies zero padding to the input image so that the input image gets fully covered by the filter and specified stride.\n  It is called SAME because, for stride 1 , the output will be the same as the input.\n  output: 32*32*32'''\n  model.add(Conv2D(28, (1, 1), padding='same', input_shape=input_size)) \n  # Relu activation function\n  model.add(Activation('relu'))\n  # Conv2\n  model.add(Conv2D(28, (1, 1))) \n  model.add(Activation('relu'))\n  # Maxpooling\n  model.add(MaxPooling2D(pool_size=(2, 2),strides =1))\n  # The second block\n  model.add(Conv2D(56, (1, 1), padding='same')) \n  model.add(Activation('relu')) \n  model.add(Conv2D(56, (1, 1))) \n  model.add(Activation('relu'))\n  # maxpooling.the default strides =1 model.add(MaxPooling2D(pool_size=(2, 2)))\n  # Before sending a feature map into a fully connected network, it should be flattened into a column vector.\n  model.add(Flatten())\n  # fully connected layer\n  model.add(Dense(128))\n  model.add(Activation('relu'))\n  # Dropout layer.every neuronis set to 0 with a probability of 0.25 model.add(Dropout(0.25))\n  model.add(Dense(num_classes))\n  # Map the score of each class into probability model.add(Activation('softmax'))\n  opt = keras.optimizers.Adam(learning_rate=0.0001)\n  model.compile(loss='sparse_categorical_crossentropy', optimizer=opt, metrics=['accuracy'])\n  return model ",
   "execution_count": null,
   "outputs": []
  },
  {
   "cell_type": "code",
   "metadata": {
    "id": "bZO2FNUbaAZ8",
    "cell_id": "00161-82c51e91-a8a4-4c52-9766-23a3952ffea1",
    "deepnote_cell_height": 186.828125,
    "deepnote_cell_type": "code"
   },
   "source": "num_classes = len(class_names)\ny_train_onehot = keras.utils.to_categorical(train_labels, num_classes) \ny_test_onehot = keras.utils.to_categorical(test_labels, num_classes) \n\n# Pixel normalization\nX_train = train_images.astype('float32')/255 \nX_test = test_images.astype('float32')/255\n",
   "execution_count": null,
   "outputs": []
  },
  {
   "cell_type": "code",
   "metadata": {
    "colab": {
     "base_uri": "https://localhost:8080/"
    },
    "id": "uSw_zfBLbb2y",
    "outputId": "9a5ce7dc-9d7e-4e91-914c-21a6065266d4",
    "cell_id": "00162-5d9f2e03-064e-402e-a891-f3037a28a4c4",
    "deepnote_cell_height": 152.046875,
    "deepnote_cell_type": "code"
   },
   "source": "# Revisando los shapes\nprint(train_images.shape)\nprint(test_images.shape)\nprint(train_labels.shape)\nprint(test_labels.shape)\n",
   "execution_count": null,
   "outputs": [
    {
     "output_type": "stream",
     "name": "stdout",
     "text": "(60000, 28, 28)\n(10000, 28, 28)\n(60000,)\n(10000,)\n"
    }
   ]
  },
  {
   "cell_type": "code",
   "metadata": {
    "colab": {
     "base_uri": "https://localhost:8080/",
     "height": 346
    },
    "id": "vJws5nYxaxgX",
    "outputId": "b90b95a0-2e6f-4fce-d2fa-66bb3731d7bd",
    "cell_id": "00163-c82164cd-56df-4060-97ef-7b432261247d",
    "deepnote_cell_height": 82.484375,
    "deepnote_cell_type": "code"
   },
   "source": "model_cnn = CNN_classification_model(num_classes) \nmodel_cnn.summary()",
   "execution_count": null,
   "outputs": [
    {
     "output_type": "error",
     "ename": "ValueError",
     "evalue": "ignored",
     "traceback": [
      "\u001b[0;31m---------------------------------------------------------------------------\u001b[0m",
      "\u001b[0;31mValueError\u001b[0m                                Traceback (most recent call last)",
      "\u001b[0;32m<ipython-input-134-931c114df8e8>\u001b[0m in \u001b[0;36m<module>\u001b[0;34m()\u001b[0m\n\u001b[0;32m----> 1\u001b[0;31m \u001b[0mmodel_cnn\u001b[0m \u001b[0;34m=\u001b[0m \u001b[0mCNN_classification_model\u001b[0m\u001b[0;34m(\u001b[0m\u001b[0mnum_classes\u001b[0m\u001b[0;34m)\u001b[0m\u001b[0;34m\u001b[0m\u001b[0;34m\u001b[0m\u001b[0m\n\u001b[0m\u001b[1;32m      2\u001b[0m \u001b[0mmodel_cnn\u001b[0m\u001b[0;34m.\u001b[0m\u001b[0msummary\u001b[0m\u001b[0;34m(\u001b[0m\u001b[0;34m)\u001b[0m\u001b[0;34m\u001b[0m\u001b[0;34m\u001b[0m\u001b[0m\n",
      "\u001b[0;32m<ipython-input-133-7c2d0f370d38>\u001b[0m in \u001b[0;36mCNN_classification_model\u001b[0;34m(num_classes, input_size)\u001b[0m\n\u001b[1;32m      6\u001b[0m   \u001b[0mIt\u001b[0m \u001b[0;32mis\u001b[0m \u001b[0mcalled\u001b[0m \u001b[0mSAME\u001b[0m \u001b[0mbecause\u001b[0m\u001b[0;34m,\u001b[0m \u001b[0;32mfor\u001b[0m \u001b[0mstride\u001b[0m \u001b[0;36m1\u001b[0m \u001b[0;34m,\u001b[0m \u001b[0mthe\u001b[0m \u001b[0moutput\u001b[0m \u001b[0mwill\u001b[0m \u001b[0mbe\u001b[0m \u001b[0mthe\u001b[0m \u001b[0msame\u001b[0m \u001b[0;32mas\u001b[0m \u001b[0mthe\u001b[0m \u001b[0minput\u001b[0m\u001b[0;34m.\u001b[0m\u001b[0;34m\u001b[0m\u001b[0;34m\u001b[0m\u001b[0m\n\u001b[1;32m      7\u001b[0m   output: 32*32*32'''\n\u001b[0;32m----> 8\u001b[0;31m   \u001b[0mmodel\u001b[0m\u001b[0;34m.\u001b[0m\u001b[0madd\u001b[0m\u001b[0;34m(\u001b[0m\u001b[0mConv2D\u001b[0m\u001b[0;34m(\u001b[0m\u001b[0;36m28\u001b[0m\u001b[0;34m,\u001b[0m \u001b[0;34m(\u001b[0m\u001b[0;36m1\u001b[0m\u001b[0;34m,\u001b[0m \u001b[0;36m1\u001b[0m\u001b[0;34m)\u001b[0m\u001b[0;34m,\u001b[0m \u001b[0mpadding\u001b[0m\u001b[0;34m=\u001b[0m\u001b[0;34m'same'\u001b[0m\u001b[0;34m,\u001b[0m \u001b[0minput_shape\u001b[0m\u001b[0;34m=\u001b[0m\u001b[0minput_size\u001b[0m\u001b[0;34m)\u001b[0m\u001b[0;34m)\u001b[0m\u001b[0;34m\u001b[0m\u001b[0;34m\u001b[0m\u001b[0m\n\u001b[0m\u001b[1;32m      9\u001b[0m   \u001b[0;31m# Relu activation function\u001b[0m\u001b[0;34m\u001b[0m\u001b[0;34m\u001b[0m\u001b[0;34m\u001b[0m\u001b[0m\n\u001b[1;32m     10\u001b[0m   \u001b[0mmodel\u001b[0m\u001b[0;34m.\u001b[0m\u001b[0madd\u001b[0m\u001b[0;34m(\u001b[0m\u001b[0mActivation\u001b[0m\u001b[0;34m(\u001b[0m\u001b[0;34m'relu'\u001b[0m\u001b[0;34m)\u001b[0m\u001b[0;34m)\u001b[0m\u001b[0;34m\u001b[0m\u001b[0;34m\u001b[0m\u001b[0m\n",
      "\u001b[0;32m/usr/local/lib/python3.7/dist-packages/tensorflow/python/training/tracking/base.py\u001b[0m in \u001b[0;36m_method_wrapper\u001b[0;34m(self, *args, **kwargs)\u001b[0m\n\u001b[1;32m    627\u001b[0m     \u001b[0mself\u001b[0m\u001b[0;34m.\u001b[0m\u001b[0m_self_setattr_tracking\u001b[0m \u001b[0;34m=\u001b[0m \u001b[0;32mFalse\u001b[0m  \u001b[0;31m# pylint: disable=protected-access\u001b[0m\u001b[0;34m\u001b[0m\u001b[0;34m\u001b[0m\u001b[0m\n\u001b[1;32m    628\u001b[0m     \u001b[0;32mtry\u001b[0m\u001b[0;34m:\u001b[0m\u001b[0;34m\u001b[0m\u001b[0;34m\u001b[0m\u001b[0m\n\u001b[0;32m--> 629\u001b[0;31m       \u001b[0mresult\u001b[0m \u001b[0;34m=\u001b[0m \u001b[0mmethod\u001b[0m\u001b[0;34m(\u001b[0m\u001b[0mself\u001b[0m\u001b[0;34m,\u001b[0m \u001b[0;34m*\u001b[0m\u001b[0margs\u001b[0m\u001b[0;34m,\u001b[0m \u001b[0;34m**\u001b[0m\u001b[0mkwargs\u001b[0m\u001b[0;34m)\u001b[0m\u001b[0;34m\u001b[0m\u001b[0;34m\u001b[0m\u001b[0m\n\u001b[0m\u001b[1;32m    630\u001b[0m     \u001b[0;32mfinally\u001b[0m\u001b[0;34m:\u001b[0m\u001b[0;34m\u001b[0m\u001b[0;34m\u001b[0m\u001b[0m\n\u001b[1;32m    631\u001b[0m       \u001b[0mself\u001b[0m\u001b[0;34m.\u001b[0m\u001b[0m_self_setattr_tracking\u001b[0m \u001b[0;34m=\u001b[0m \u001b[0mprevious_value\u001b[0m  \u001b[0;31m# pylint: disable=protected-access\u001b[0m\u001b[0;34m\u001b[0m\u001b[0;34m\u001b[0m\u001b[0m\n",
      "\u001b[0;32m/usr/local/lib/python3.7/dist-packages/keras/utils/traceback_utils.py\u001b[0m in \u001b[0;36merror_handler\u001b[0;34m(*args, **kwargs)\u001b[0m\n\u001b[1;32m     65\u001b[0m     \u001b[0;32mexcept\u001b[0m \u001b[0mException\u001b[0m \u001b[0;32mas\u001b[0m \u001b[0me\u001b[0m\u001b[0;34m:\u001b[0m  \u001b[0;31m# pylint: disable=broad-except\u001b[0m\u001b[0;34m\u001b[0m\u001b[0;34m\u001b[0m\u001b[0m\n\u001b[1;32m     66\u001b[0m       \u001b[0mfiltered_tb\u001b[0m \u001b[0;34m=\u001b[0m \u001b[0m_process_traceback_frames\u001b[0m\u001b[0;34m(\u001b[0m\u001b[0me\u001b[0m\u001b[0;34m.\u001b[0m\u001b[0m__traceback__\u001b[0m\u001b[0;34m)\u001b[0m\u001b[0;34m\u001b[0m\u001b[0;34m\u001b[0m\u001b[0m\n\u001b[0;32m---> 67\u001b[0;31m       \u001b[0;32mraise\u001b[0m \u001b[0me\u001b[0m\u001b[0;34m.\u001b[0m\u001b[0mwith_traceback\u001b[0m\u001b[0;34m(\u001b[0m\u001b[0mfiltered_tb\u001b[0m\u001b[0;34m)\u001b[0m \u001b[0;32mfrom\u001b[0m \u001b[0;32mNone\u001b[0m\u001b[0;34m\u001b[0m\u001b[0;34m\u001b[0m\u001b[0m\n\u001b[0m\u001b[1;32m     68\u001b[0m     \u001b[0;32mfinally\u001b[0m\u001b[0;34m:\u001b[0m\u001b[0;34m\u001b[0m\u001b[0;34m\u001b[0m\u001b[0m\n\u001b[1;32m     69\u001b[0m       \u001b[0;32mdel\u001b[0m \u001b[0mfiltered_tb\u001b[0m\u001b[0;34m\u001b[0m\u001b[0;34m\u001b[0m\u001b[0m\n",
      "\u001b[0;32m/usr/local/lib/python3.7/dist-packages/keras/engine/input_spec.py\u001b[0m in \u001b[0;36massert_input_compatibility\u001b[0;34m(input_spec, inputs, layer_name)\u001b[0m\n\u001b[1;32m    226\u001b[0m       \u001b[0mndim\u001b[0m \u001b[0;34m=\u001b[0m \u001b[0mx\u001b[0m\u001b[0;34m.\u001b[0m\u001b[0mshape\u001b[0m\u001b[0;34m.\u001b[0m\u001b[0mrank\u001b[0m\u001b[0;34m\u001b[0m\u001b[0;34m\u001b[0m\u001b[0m\n\u001b[1;32m    227\u001b[0m       \u001b[0;32mif\u001b[0m \u001b[0mndim\u001b[0m \u001b[0;32mis\u001b[0m \u001b[0;32mnot\u001b[0m \u001b[0;32mNone\u001b[0m \u001b[0;32mand\u001b[0m \u001b[0mndim\u001b[0m \u001b[0;34m<\u001b[0m \u001b[0mspec\u001b[0m\u001b[0;34m.\u001b[0m\u001b[0mmin_ndim\u001b[0m\u001b[0;34m:\u001b[0m\u001b[0;34m\u001b[0m\u001b[0;34m\u001b[0m\u001b[0m\n\u001b[0;32m--> 228\u001b[0;31m         raise ValueError(f'Input {input_index} of layer \"{layer_name}\" '\n\u001b[0m\u001b[1;32m    229\u001b[0m                          \u001b[0;34m'is incompatible with the layer: '\u001b[0m\u001b[0;34m\u001b[0m\u001b[0;34m\u001b[0m\u001b[0m\n\u001b[1;32m    230\u001b[0m                          \u001b[0;34mf'expected min_ndim={spec.min_ndim}, '\u001b[0m\u001b[0;34m\u001b[0m\u001b[0;34m\u001b[0m\u001b[0m\n",
      "\u001b[0;31mValueError\u001b[0m: Input 0 of layer \"conv2d_2\" is incompatible with the layer: expected min_ndim=4, found ndim=3. Full shape received: (None, 28, 28)"
     ]
    }
   ]
  },
  {
   "cell_type": "markdown",
   "source": "<a style='text-decoration:none;line-height:16px;display:flex;color:#5B5B62;padding:10px;justify-content:end;' href='https://deepnote.com?utm_source=created-in-deepnote-cell&projectId=5aa5a080-db16-486d-995d-51b05a75991a' target=\"_blank\">\n<img alt='Created in deepnote.com' style='display:inline;max-height:16px;margin:0px;margin-right:7.5px;' src='data:image/svg+xml;base64,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' > </img>\nCreated in <span style='font-weight:600;margin-left:4px;'>Deepnote</span></a>",
   "metadata": {
    "tags": [],
    "created_in_deepnote_cell": true,
    "deepnote_cell_type": "markdown"
   }
  }
 ],
 "nbformat": 4,
 "nbformat_minor": 0,
 "metadata": {
  "colab": {
   "name": "Curso-Fundamentos prácticos de ML.ipynb",
   "provenance": [],
   "collapsed_sections": [
    "Tan3zSsflH4x"
   ]
  },
  "kernelspec": {
   "name": "python3",
   "display_name": "Python 3"
  },
  "language_info": {
   "name": "python"
  },
  "deepnote_notebook_id": "9218687b-2f35-4c36-8022-55ac92954934",
  "deepnote": {},
  "deepnote_execution_queue": []
 }
}